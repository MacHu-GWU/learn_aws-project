{
 "cells": [
  {
   "cell_type": "markdown",
   "id": "54ec876f-f3b0-4e3f-888e-f997b2e2b33e",
   "metadata": {},
   "source": [
    "# Sparse Indexes in DynamoDB\n",
    "\n",
    "Keywords: AWS, Amazon, DynamoDB\n",
    "\n",
    "所谓 Spare Indexes 就是当 Index 里的 PK 或者 SK 在 Base Table 的 Item 中不存在时, 这个 Item 就不会在 Index 中出现. 这适合你只需要把一小部分的 Item 放到 Index 中的情况.\n",
    "\n",
    "官方文档中有个很好的例子. 电商有一个表记录了所有的 Order. PK 是 ``CustomerId``, SK 是 ``OrderId``. 用户登录后需要查看已经下单, 但还没有送达的 Order. 偶尔需要查看所有的 Order 的历史记录. 显然前者是更高频的需求. 考虑到一个 Customer 一辈子下的单不可能太夸张, 所以你完全可以用 ``CustomerId`` 获得所有 Order, 然后再内存中进行排序. 但考虑到一般顶多有 1 到 2 个订单处于这种情况, 为了这 2 个订单查询了几十个订单还是比较浪费. \n",
    "\n",
    "这里介绍一个利用 Sparse Indexes 对齐进行优化的办法. 你可能有一个 Attribute 叫 ``CreateAt``, 记录了订单创建的时间, 还有一个 Attribute 叫做 ``Status``, 它的值可能是 ``pending``, ``delivering``, ``delivered``. 这里你不要直接用 ``Status`` 做 index, 而是专门创建一个 attribuge 叫做 ``OrderCreateAt``, 它是一个时间戳, 只有这个订单处于 ``pending``, ``delivering`` 的状态时它有值. 处于 ``delivered`` 的状态时候这个 attribute 就没有了. 然后你可以创建一个 Index, PK 是 CustomerId, SK 是 ``OrderCreateAt``. 这样你用这个 index 可以轻松找到谋个用户还没有送达的订单, 并按照时间顺序排列.\n",
    "\n",
    "**Reference**:\n",
    "\n",
    "- https://docs.aws.amazon.com/amazondynamodb/latest/developerguide/bp-indexes-general-sparse-indexes.html"
   ]
  },
  {
   "cell_type": "code",
   "execution_count": 1,
   "id": "69cfc430-cd2a-4356-b342-9d9cb52c20c9",
   "metadata": {
    "ExecuteTime": {
     "end_time": "2024-05-06T20:36:59.713216Z",
     "start_time": "2024-05-06T20:36:59.708995Z"
    }
   },
   "outputs": [],
   "source": [
    "import pynamodb_mate as pm\n",
    "from boto_session_manager import BotoSesManager\n",
    "\n",
    "bsm = BotoSesManager(profile_name=\"bmt_app_dev_us_east_1\")\n",
    "with bsm.awscli():\n",
    "    pm.Connection()"
   ]
  },
  {
   "cell_type": "markdown",
   "id": "590de7ec-96e0-4d69-a2cf-248487a5c162",
   "metadata": {},
   "source": [
    "## Example 1\n",
    "\n",
    "下面这个例子说明了 sort key 不能是 Null."
   ]
  },
  {
   "cell_type": "code",
   "execution_count": 2,
   "id": "38721b56-2ffa-4420-8545-2e6d9cae3b73",
   "metadata": {},
   "outputs": [
    {
     "ename": "ValueError",
     "evalue": "Attribute doc_id specified does not exist",
     "output_type": "error",
     "traceback": [
      "\u001b[0;31m---------------------------------------------------------------------------\u001b[0m",
      "\u001b[0;31mValueError\u001b[0m                                Traceback (most recent call last)",
      "Cell \u001b[0;32mIn[2], line 14\u001b[0m\n\u001b[1;32m     11\u001b[0m Model1\u001b[38;5;241m.\u001b[39mcreate_table(wait\u001b[38;5;241m=\u001b[39m\u001b[38;5;28;01mTrue\u001b[39;00m)\n\u001b[1;32m     13\u001b[0m \u001b[38;5;66;03m# Not gonna work\u001b[39;00m\n\u001b[0;32m---> 14\u001b[0m model \u001b[38;5;241m=\u001b[39m \u001b[43mModel1\u001b[49m\u001b[43m(\u001b[49m\u001b[43mdoc_id\u001b[49m\u001b[38;5;241;43m=\u001b[39;49m\u001b[38;5;124;43m\"\u001b[39;49m\u001b[38;5;124;43mpk-1\u001b[39;49m\u001b[38;5;124;43m\"\u001b[39;49m\u001b[43m,\u001b[49m\u001b[43m \u001b[49m\u001b[43msk\u001b[49m\u001b[38;5;241;43m=\u001b[39;49m\u001b[38;5;28;43;01mNone\u001b[39;49;00m\u001b[43m)\u001b[49m\n\u001b[1;32m     15\u001b[0m model\u001b[38;5;241m.\u001b[39msave()\n",
      "File \u001b[0;32m~/Documents/GitHub/learn_aws-project/.venv/lib/python3.10/site-packages/pynamodb_mate/models.py:95\u001b[0m, in \u001b[0;36mModel.__init__\u001b[0;34m(self, hash_key, range_key, **attributes)\u001b[0m\n\u001b[1;32m     89\u001b[0m \u001b[38;5;28;01mdef\u001b[39;00m \u001b[38;5;21m__init__\u001b[39m(\n\u001b[1;32m     90\u001b[0m     \u001b[38;5;28mself\u001b[39m,\n\u001b[1;32m     91\u001b[0m     hash_key: T\u001b[38;5;241m.\u001b[39mOptional[T\u001b[38;5;241m.\u001b[39mAny] \u001b[38;5;241m=\u001b[39m \u001b[38;5;28;01mNone\u001b[39;00m,\n\u001b[1;32m     92\u001b[0m     range_key: T\u001b[38;5;241m.\u001b[39mOptional[T\u001b[38;5;241m.\u001b[39mAny] \u001b[38;5;241m=\u001b[39m \u001b[38;5;28;01mNone\u001b[39;00m,\n\u001b[1;32m     93\u001b[0m     \u001b[38;5;241m*\u001b[39m\u001b[38;5;241m*\u001b[39mattributes,\n\u001b[1;32m     94\u001b[0m ):\n\u001b[0;32m---> 95\u001b[0m     \u001b[38;5;28;43msuper\u001b[39;49m\u001b[43m(\u001b[49m\u001b[43m)\u001b[49m\u001b[38;5;241;43m.\u001b[39;49m\u001b[38;5;21;43m__init__\u001b[39;49m\u001b[43m(\u001b[49m\u001b[43mhash_key\u001b[49m\u001b[43m,\u001b[49m\u001b[43m \u001b[49m\u001b[43mrange_key\u001b[49m\u001b[43m,\u001b[49m\u001b[43m \u001b[49m\u001b[38;5;241;43m*\u001b[39;49m\u001b[38;5;241;43m*\u001b[39;49m\u001b[43mattributes\u001b[49m\u001b[43m)\u001b[49m\n\u001b[1;32m     96\u001b[0m     \u001b[38;5;28mself\u001b[39m\u001b[38;5;241m.\u001b[39m__post_init__()\n",
      "File \u001b[0;32m~/Documents/GitHub/learn_aws-project/.venv/lib/python3.10/site-packages/pynamodb/models.py:322\u001b[0m, in \u001b[0;36mModel.__init__\u001b[0;34m(self, hash_key, range_key, _user_instantiated, **attributes)\u001b[0m\n\u001b[1;32m    320\u001b[0m         \u001b[38;5;28;01mraise\u001b[39;00m \u001b[38;5;167;01mValueError\u001b[39;00m(\u001b[38;5;124mf\u001b[39m\u001b[38;5;124m\"\u001b[39m\u001b[38;5;124mThis model has no range key, but a range key value was provided: \u001b[39m\u001b[38;5;132;01m{\u001b[39;00mrange_key\u001b[38;5;132;01m}\u001b[39;00m\u001b[38;5;124m\"\u001b[39m)\n\u001b[1;32m    321\u001b[0m     attributes[\u001b[38;5;28mself\u001b[39m\u001b[38;5;241m.\u001b[39m_range_keyname] \u001b[38;5;241m=\u001b[39m range_key\n\u001b[0;32m--> 322\u001b[0m \u001b[38;5;28;43msuper\u001b[39;49m\u001b[43m(\u001b[49m\u001b[43mModel\u001b[49m\u001b[43m,\u001b[49m\u001b[43m \u001b[49m\u001b[38;5;28;43mself\u001b[39;49m\u001b[43m)\u001b[49m\u001b[38;5;241;43m.\u001b[39;49m\u001b[38;5;21;43m__init__\u001b[39;49m\u001b[43m(\u001b[49m\u001b[43m_user_instantiated\u001b[49m\u001b[38;5;241;43m=\u001b[39;49m\u001b[43m_user_instantiated\u001b[49m\u001b[43m,\u001b[49m\u001b[43m \u001b[49m\u001b[38;5;241;43m*\u001b[39;49m\u001b[38;5;241;43m*\u001b[39;49m\u001b[43mattributes\u001b[49m\u001b[43m)\u001b[49m\n",
      "File \u001b[0;32m~/Documents/GitHub/learn_aws-project/.venv/lib/python3.10/site-packages/pynamodb/attributes.py:278\u001b[0m, in \u001b[0;36mAttributeContainer.__init__\u001b[0;34m(self, _user_instantiated, **attributes)\u001b[0m\n\u001b[1;32m    276\u001b[0m \u001b[38;5;28mself\u001b[39m\u001b[38;5;241m.\u001b[39m_set_discriminator()\n\u001b[1;32m    277\u001b[0m \u001b[38;5;28mself\u001b[39m\u001b[38;5;241m.\u001b[39m_set_defaults(_user_instantiated\u001b[38;5;241m=\u001b[39m_user_instantiated)\n\u001b[0;32m--> 278\u001b[0m \u001b[38;5;28;43mself\u001b[39;49m\u001b[38;5;241;43m.\u001b[39;49m\u001b[43m_set_attributes\u001b[49m\u001b[43m(\u001b[49m\u001b[38;5;241;43m*\u001b[39;49m\u001b[38;5;241;43m*\u001b[39;49m\u001b[43mattributes\u001b[49m\u001b[43m)\u001b[49m\n",
      "File \u001b[0;32m~/Documents/GitHub/learn_aws-project/.venv/lib/python3.10/site-packages/pynamodb/attributes.py:337\u001b[0m, in \u001b[0;36mAttributeContainer._set_attributes\u001b[0;34m(self, **attributes)\u001b[0m\n\u001b[1;32m    335\u001b[0m \u001b[38;5;28;01mfor\u001b[39;00m attr_name, attr_value \u001b[38;5;129;01min\u001b[39;00m attributes\u001b[38;5;241m.\u001b[39mitems():\n\u001b[1;32m    336\u001b[0m     \u001b[38;5;28;01mif\u001b[39;00m attr_name \u001b[38;5;129;01mnot\u001b[39;00m \u001b[38;5;129;01min\u001b[39;00m \u001b[38;5;28mself\u001b[39m\u001b[38;5;241m.\u001b[39mget_attributes():\n\u001b[0;32m--> 337\u001b[0m         \u001b[38;5;28;01mraise\u001b[39;00m \u001b[38;5;167;01mValueError\u001b[39;00m(\u001b[38;5;124m\"\u001b[39m\u001b[38;5;124mAttribute \u001b[39m\u001b[38;5;132;01m{}\u001b[39;00m\u001b[38;5;124m specified does not exist\u001b[39m\u001b[38;5;124m\"\u001b[39m\u001b[38;5;241m.\u001b[39mformat(attr_name))\n\u001b[1;32m    338\u001b[0m     \u001b[38;5;28msetattr\u001b[39m(\u001b[38;5;28mself\u001b[39m, attr_name, attr_value)\n",
      "\u001b[0;31mValueError\u001b[0m: Attribute doc_id specified does not exist"
     ]
    }
   ],
   "source": [
    "class Model1(pm.Model):\n",
    "    class Meta:\n",
    "        table_name = \"sparce_indexes_test_1\"\n",
    "        region = \"us-east-1\"\n",
    "        billing_mode = pm.PAY_PER_REQUEST_BILLING_MODE\n",
    "\n",
    "    pk = pm.UnicodeAttribute(hash_key=True)\n",
    "    sk = pm.UnicodeAttribute(range_key=True)\n",
    "\n",
    "\n",
    "Model1.create_table(wait=True)\n",
    "\n",
    "# Not gonna work\n",
    "model = Model1(doc_id=\"pk-1\", sk=None)\n",
    "model.save()"
   ]
  },
  {
   "cell_type": "markdown",
   "id": "917300f2-570c-4878-b970-3553367f219d",
   "metadata": {},
   "source": [
    "## Example 2\n",
    "\n",
    "下面这个例子说明了如果你的 Index 只有 PK, 且 PK 这个 attribute 在 Base table 中的 Item 中不存在, 那么这个 Item 就不会出现在 Index 里."
   ]
  },
  {
   "cell_type": "code",
   "execution_count": 5,
   "id": "9c8069ea-852d-4d99-8311-408cc38b2988",
   "metadata": {},
   "outputs": [],
   "source": [
    "class Model2Index(pm.GlobalSecondaryIndex):\n",
    "    class Meta:\n",
    "        index = \"model2-index\"\n",
    "        projection = pm.KeysOnlyProjection()\n",
    "\n",
    "    gsi_pk = pm.UnicodeAttribute(hash_key=True)\n",
    "\n",
    "\n",
    "class Model2(pm.Model):\n",
    "    class Meta:\n",
    "        table_name = \"sparce_indexes_test_2\"\n",
    "        region = \"us-east-1\"\n",
    "        billing_mode = pm.PAY_PER_REQUEST_BILLING_MODE\n",
    "\n",
    "    pk = pm.UnicodeAttribute(hash_key=True)\n",
    "    gsi_pk = pm.UnicodeAttribute(null=True)\n",
    "\n",
    "    index = Model2Index()\n",
    "\n",
    "Model2.create_table(wait=True)"
   ]
  },
  {
   "cell_type": "code",
   "execution_count": 6,
   "id": "12a971a6-632e-43a3-bf00-3430603a041f",
   "metadata": {},
   "outputs": [
    {
     "data": {
      "text/plain": [
       "{'ConsumedCapacity': {'CapacityUnits': 2.0,\n",
       "  'TableName': 'sparce_indexes_test_2'}}"
      ]
     },
     "execution_count": 6,
     "metadata": {},
     "output_type": "execute_result"
    }
   ],
   "source": [
    "Model2(pk=\"id-1\", gsi_pk=None).save()\n",
    "Model2(pk=\"id-2\", gsi_pk=\"id-2-gsi-pk\").save()"
   ]
  },
  {
   "cell_type": "code",
   "execution_count": 7,
   "id": "013f53c3-2678-40d2-890d-03d4d16d6cf6",
   "metadata": {},
   "outputs": [
    {
     "ename": "QueryError",
     "evalue": "Failed to query items: An error occurred (ValidationException) on request (I1NDF93NG76SP0Q6RC410310FBVV4KQNSO5AEMVJF66Q9ASUAAJG) on table (sparce_indexes_test_2) when calling the Query operation: ExpressionAttributeValues contains invalid value: Supplied AttributeValue is empty, must contain exactly one of the supported datatypes for key :0",
     "output_type": "error",
     "traceback": [
      "\u001b[0;31m---------------------------------------------------------------------------\u001b[0m",
      "\u001b[0;31mVerboseClientError\u001b[0m                        Traceback (most recent call last)",
      "File \u001b[0;32m~/Documents/GitHub/learn_aws-project/.venv/lib/python3.10/site-packages/pynamodb/connection/base.py:1396\u001b[0m, in \u001b[0;36mConnection.query\u001b[0;34m(self, table_name, hash_key, range_key_condition, filter_condition, attributes_to_get, consistent_read, exclusive_start_key, index_name, limit, return_consumed_capacity, scan_index_forward, select, settings)\u001b[0m\n\u001b[1;32m   1395\u001b[0m \u001b[38;5;28;01mtry\u001b[39;00m:\n\u001b[0;32m-> 1396\u001b[0m     \u001b[38;5;28;01mreturn\u001b[39;00m \u001b[38;5;28;43mself\u001b[39;49m\u001b[38;5;241;43m.\u001b[39;49m\u001b[43mdispatch\u001b[49m\u001b[43m(\u001b[49m\u001b[43mQUERY\u001b[49m\u001b[43m,\u001b[49m\u001b[43m \u001b[49m\u001b[43moperation_kwargs\u001b[49m\u001b[43m,\u001b[49m\u001b[43m \u001b[49m\u001b[43msettings\u001b[49m\u001b[43m)\u001b[49m\n\u001b[1;32m   1397\u001b[0m \u001b[38;5;28;01mexcept\u001b[39;00m BOTOCORE_EXCEPTIONS \u001b[38;5;28;01mas\u001b[39;00m e:\n",
      "File \u001b[0;32m~/Documents/GitHub/learn_aws-project/.venv/lib/python3.10/site-packages/pynamodb/connection/base.py:347\u001b[0m, in \u001b[0;36mConnection.dispatch\u001b[0;34m(self, operation_name, operation_kwargs, settings)\u001b[0m\n\u001b[1;32m    346\u001b[0m \u001b[38;5;28mself\u001b[39m\u001b[38;5;241m.\u001b[39msend_pre_boto_callback(operation_name, req_uuid, table_name)\n\u001b[0;32m--> 347\u001b[0m data \u001b[38;5;241m=\u001b[39m \u001b[38;5;28;43mself\u001b[39;49m\u001b[38;5;241;43m.\u001b[39;49m\u001b[43m_make_api_call\u001b[49m\u001b[43m(\u001b[49m\u001b[43moperation_name\u001b[49m\u001b[43m,\u001b[49m\u001b[43m \u001b[49m\u001b[43moperation_kwargs\u001b[49m\u001b[43m,\u001b[49m\u001b[43m \u001b[49m\u001b[43msettings\u001b[49m\u001b[43m)\u001b[49m\n\u001b[1;32m    348\u001b[0m \u001b[38;5;28mself\u001b[39m\u001b[38;5;241m.\u001b[39msend_post_boto_callback(operation_name, req_uuid, table_name)\n",
      "File \u001b[0;32m~/Documents/GitHub/learn_aws-project/.venv/lib/python3.10/site-packages/pynamodb/connection/base.py:475\u001b[0m, in \u001b[0;36mConnection._make_api_call\u001b[0;34m(self, operation_name, operation_kwargs, settings)\u001b[0m\n\u001b[1;32m    474\u001b[0m \u001b[38;5;28;01mtry\u001b[39;00m:\n\u001b[0;32m--> 475\u001b[0m     \u001b[38;5;28;01mraise\u001b[39;00m VerboseClientError(\n\u001b[1;32m    476\u001b[0m         botocore_expected_format,\n\u001b[1;32m    477\u001b[0m         operation_name,\n\u001b[1;32m    478\u001b[0m         verbose_properties,\n\u001b[1;32m    479\u001b[0m         cancellation_reasons\u001b[38;5;241m=\u001b[39m(\n\u001b[1;32m    480\u001b[0m             (\n\u001b[1;32m    481\u001b[0m                 CancellationReason(\n\u001b[1;32m    482\u001b[0m                     code\u001b[38;5;241m=\u001b[39md[\u001b[38;5;124m'\u001b[39m\u001b[38;5;124mCode\u001b[39m\u001b[38;5;124m'\u001b[39m],\n\u001b[1;32m    483\u001b[0m                     message\u001b[38;5;241m=\u001b[39md\u001b[38;5;241m.\u001b[39mget(\u001b[38;5;124m'\u001b[39m\u001b[38;5;124mMessage\u001b[39m\u001b[38;5;124m'\u001b[39m),\n\u001b[1;32m    484\u001b[0m                 ) \u001b[38;5;28;01mif\u001b[39;00m d[\u001b[38;5;124m'\u001b[39m\u001b[38;5;124mCode\u001b[39m\u001b[38;5;124m'\u001b[39m] \u001b[38;5;241m!=\u001b[39m \u001b[38;5;124m'\u001b[39m\u001b[38;5;124mNone\u001b[39m\u001b[38;5;124m'\u001b[39m \u001b[38;5;28;01melse\u001b[39;00m \u001b[38;5;28;01mNone\u001b[39;00m\n\u001b[1;32m    485\u001b[0m             )\n\u001b[1;32m    486\u001b[0m             \u001b[38;5;28;01mfor\u001b[39;00m d \u001b[38;5;129;01min\u001b[39;00m data\u001b[38;5;241m.\u001b[39mget(\u001b[38;5;124m'\u001b[39m\u001b[38;5;124mCancellationReasons\u001b[39m\u001b[38;5;124m'\u001b[39m, [])\n\u001b[1;32m    487\u001b[0m         ),\n\u001b[1;32m    488\u001b[0m     )\n\u001b[1;32m    489\u001b[0m \u001b[38;5;28;01mexcept\u001b[39;00m VerboseClientError \u001b[38;5;28;01mas\u001b[39;00m e:\n",
      "\u001b[0;31mVerboseClientError\u001b[0m: An error occurred (ValidationException) on request (I1NDF93NG76SP0Q6RC410310FBVV4KQNSO5AEMVJF66Q9ASUAAJG) on table (sparce_indexes_test_2) when calling the Query operation: ExpressionAttributeValues contains invalid value: Supplied AttributeValue is empty, must contain exactly one of the supported datatypes for key :0",
      "\nDuring handling of the above exception, another exception occurred:\n",
      "\u001b[0;31mQueryError\u001b[0m                                Traceback (most recent call last)",
      "Cell \u001b[0;32mIn[7], line 1\u001b[0m\n\u001b[0;32m----> 1\u001b[0m \u001b[38;5;28;01mfor\u001b[39;00m i \u001b[38;5;129;01min\u001b[39;00m Model2\u001b[38;5;241m.\u001b[39mindex\u001b[38;5;241m.\u001b[39mquery(hash_key\u001b[38;5;241m=\u001b[39m\u001b[38;5;28;01mNone\u001b[39;00m):\n\u001b[1;32m      2\u001b[0m     \u001b[38;5;28mprint\u001b[39m(i)\n",
      "File \u001b[0;32m~/Documents/GitHub/learn_aws-project/.venv/lib/python3.10/site-packages/pynamodb/pagination.py:193\u001b[0m, in \u001b[0;36mResultIterator.__next__\u001b[0;34m(self)\u001b[0m\n\u001b[1;32m    190\u001b[0m     \u001b[38;5;28;01mraise\u001b[39;00m \u001b[38;5;167;01mStopIteration\u001b[39;00m\n\u001b[1;32m    192\u001b[0m \u001b[38;5;28;01mwhile\u001b[39;00m \u001b[38;5;28mself\u001b[39m\u001b[38;5;241m.\u001b[39m_index \u001b[38;5;241m==\u001b[39m \u001b[38;5;28mself\u001b[39m\u001b[38;5;241m.\u001b[39m_count:\n\u001b[0;32m--> 193\u001b[0m     \u001b[38;5;28;43mself\u001b[39;49m\u001b[38;5;241;43m.\u001b[39;49m\u001b[43m_get_next_page\u001b[49m\u001b[43m(\u001b[49m\u001b[43m)\u001b[49m\n\u001b[1;32m    195\u001b[0m item \u001b[38;5;241m=\u001b[39m \u001b[38;5;28mself\u001b[39m\u001b[38;5;241m.\u001b[39m_items[\u001b[38;5;28mself\u001b[39m\u001b[38;5;241m.\u001b[39m_index]\n\u001b[1;32m    196\u001b[0m \u001b[38;5;28mself\u001b[39m\u001b[38;5;241m.\u001b[39m_index \u001b[38;5;241m+\u001b[39m\u001b[38;5;241m=\u001b[39m \u001b[38;5;241m1\u001b[39m\n",
      "File \u001b[0;32m~/Documents/GitHub/learn_aws-project/.venv/lib/python3.10/site-packages/pynamodb/pagination.py:179\u001b[0m, in \u001b[0;36mResultIterator._get_next_page\u001b[0;34m(self)\u001b[0m\n\u001b[1;32m    178\u001b[0m \u001b[38;5;28;01mdef\u001b[39;00m \u001b[38;5;21m_get_next_page\u001b[39m(\u001b[38;5;28mself\u001b[39m) \u001b[38;5;241m-\u001b[39m\u001b[38;5;241m>\u001b[39m \u001b[38;5;28;01mNone\u001b[39;00m:\n\u001b[0;32m--> 179\u001b[0m     page \u001b[38;5;241m=\u001b[39m \u001b[38;5;28;43mnext\u001b[39;49m\u001b[43m(\u001b[49m\u001b[38;5;28;43mself\u001b[39;49m\u001b[38;5;241;43m.\u001b[39;49m\u001b[43mpage_iter\u001b[49m\u001b[43m)\u001b[49m\n\u001b[1;32m    180\u001b[0m     \u001b[38;5;28mself\u001b[39m\u001b[38;5;241m.\u001b[39m_count \u001b[38;5;241m=\u001b[39m page[CAMEL_COUNT]\n\u001b[1;32m    181\u001b[0m     \u001b[38;5;28mself\u001b[39m\u001b[38;5;241m.\u001b[39m_items \u001b[38;5;241m=\u001b[39m page\u001b[38;5;241m.\u001b[39mget(ITEMS)  \u001b[38;5;66;03m# not returned if 'Select' is set to 'COUNT'\u001b[39;00m\n",
      "File \u001b[0;32m~/Documents/GitHub/learn_aws-project/.venv/lib/python3.10/site-packages/pynamodb/pagination.py:113\u001b[0m, in \u001b[0;36mPageIterator.__next__\u001b[0;34m(self)\u001b[0m\n\u001b[1;32m    111\u001b[0m     \u001b[38;5;28mself\u001b[39m\u001b[38;5;241m.\u001b[39m_rate_limiter\u001b[38;5;241m.\u001b[39macquire()\n\u001b[1;32m    112\u001b[0m     \u001b[38;5;28mself\u001b[39m\u001b[38;5;241m.\u001b[39m_kwargs[\u001b[38;5;124m'\u001b[39m\u001b[38;5;124mreturn_consumed_capacity\u001b[39m\u001b[38;5;124m'\u001b[39m] \u001b[38;5;241m=\u001b[39m TOTAL\n\u001b[0;32m--> 113\u001b[0m page \u001b[38;5;241m=\u001b[39m \u001b[38;5;28;43mself\u001b[39;49m\u001b[38;5;241;43m.\u001b[39;49m\u001b[43m_operation\u001b[49m\u001b[43m(\u001b[49m\u001b[38;5;241;43m*\u001b[39;49m\u001b[38;5;28;43mself\u001b[39;49m\u001b[38;5;241;43m.\u001b[39;49m\u001b[43m_args\u001b[49m\u001b[43m,\u001b[49m\u001b[43m \u001b[49m\u001b[43msettings\u001b[49m\u001b[38;5;241;43m=\u001b[39;49m\u001b[38;5;28;43mself\u001b[39;49m\u001b[38;5;241;43m.\u001b[39;49m\u001b[43m_settings\u001b[49m\u001b[43m,\u001b[49m\u001b[43m \u001b[49m\u001b[38;5;241;43m*\u001b[39;49m\u001b[38;5;241;43m*\u001b[39;49m\u001b[38;5;28;43mself\u001b[39;49m\u001b[38;5;241;43m.\u001b[39;49m\u001b[43m_kwargs\u001b[49m\u001b[43m)\u001b[49m\n\u001b[1;32m    114\u001b[0m \u001b[38;5;28mself\u001b[39m\u001b[38;5;241m.\u001b[39m_last_evaluated_key \u001b[38;5;241m=\u001b[39m page\u001b[38;5;241m.\u001b[39mget(LAST_EVALUATED_KEY)\n\u001b[1;32m    115\u001b[0m \u001b[38;5;28mself\u001b[39m\u001b[38;5;241m.\u001b[39m_is_last_page \u001b[38;5;241m=\u001b[39m \u001b[38;5;28mself\u001b[39m\u001b[38;5;241m.\u001b[39m_last_evaluated_key \u001b[38;5;129;01mis\u001b[39;00m \u001b[38;5;28;01mNone\u001b[39;00m\n",
      "File \u001b[0;32m~/Documents/GitHub/learn_aws-project/.venv/lib/python3.10/site-packages/pynamodb/connection/table.py:273\u001b[0m, in \u001b[0;36mTableConnection.query\u001b[0;34m(self, hash_key, range_key_condition, filter_condition, attributes_to_get, consistent_read, exclusive_start_key, index_name, limit, return_consumed_capacity, scan_index_forward, select, settings)\u001b[0m\n\u001b[1;32m    255\u001b[0m \u001b[38;5;28;01mdef\u001b[39;00m \u001b[38;5;21mquery\u001b[39m(\n\u001b[1;32m    256\u001b[0m     \u001b[38;5;28mself\u001b[39m,\n\u001b[1;32m    257\u001b[0m     hash_key: \u001b[38;5;28mstr\u001b[39m,\n\u001b[0;32m   (...)\u001b[0m\n\u001b[1;32m    268\u001b[0m     settings: OperationSettings \u001b[38;5;241m=\u001b[39m OperationSettings\u001b[38;5;241m.\u001b[39mdefault,\n\u001b[1;32m    269\u001b[0m ) \u001b[38;5;241m-\u001b[39m\u001b[38;5;241m>\u001b[39m Dict:\n\u001b[1;32m    270\u001b[0m \u001b[38;5;250m    \u001b[39m\u001b[38;5;124;03m\"\"\"\u001b[39;00m\n\u001b[1;32m    271\u001b[0m \u001b[38;5;124;03m    Performs the Query operation and returns the result\u001b[39;00m\n\u001b[1;32m    272\u001b[0m \u001b[38;5;124;03m    \"\"\"\u001b[39;00m\n\u001b[0;32m--> 273\u001b[0m     \u001b[38;5;28;01mreturn\u001b[39;00m \u001b[38;5;28;43mself\u001b[39;49m\u001b[38;5;241;43m.\u001b[39;49m\u001b[43mconnection\u001b[49m\u001b[38;5;241;43m.\u001b[39;49m\u001b[43mquery\u001b[49m\u001b[43m(\u001b[49m\n\u001b[1;32m    274\u001b[0m \u001b[43m        \u001b[49m\u001b[38;5;28;43mself\u001b[39;49m\u001b[38;5;241;43m.\u001b[39;49m\u001b[43mtable_name\u001b[49m\u001b[43m,\u001b[49m\n\u001b[1;32m    275\u001b[0m \u001b[43m        \u001b[49m\u001b[43mhash_key\u001b[49m\u001b[43m,\u001b[49m\n\u001b[1;32m    276\u001b[0m \u001b[43m        \u001b[49m\u001b[43mrange_key_condition\u001b[49m\u001b[38;5;241;43m=\u001b[39;49m\u001b[43mrange_key_condition\u001b[49m\u001b[43m,\u001b[49m\n\u001b[1;32m    277\u001b[0m \u001b[43m        \u001b[49m\u001b[43mfilter_condition\u001b[49m\u001b[38;5;241;43m=\u001b[39;49m\u001b[43mfilter_condition\u001b[49m\u001b[43m,\u001b[49m\n\u001b[1;32m    278\u001b[0m \u001b[43m        \u001b[49m\u001b[43mattributes_to_get\u001b[49m\u001b[38;5;241;43m=\u001b[39;49m\u001b[43mattributes_to_get\u001b[49m\u001b[43m,\u001b[49m\n\u001b[1;32m    279\u001b[0m \u001b[43m        \u001b[49m\u001b[43mconsistent_read\u001b[49m\u001b[38;5;241;43m=\u001b[39;49m\u001b[43mconsistent_read\u001b[49m\u001b[43m,\u001b[49m\n\u001b[1;32m    280\u001b[0m \u001b[43m        \u001b[49m\u001b[43mexclusive_start_key\u001b[49m\u001b[38;5;241;43m=\u001b[39;49m\u001b[43mexclusive_start_key\u001b[49m\u001b[43m,\u001b[49m\n\u001b[1;32m    281\u001b[0m \u001b[43m        \u001b[49m\u001b[43mindex_name\u001b[49m\u001b[38;5;241;43m=\u001b[39;49m\u001b[43mindex_name\u001b[49m\u001b[43m,\u001b[49m\n\u001b[1;32m    282\u001b[0m \u001b[43m        \u001b[49m\u001b[43mlimit\u001b[49m\u001b[38;5;241;43m=\u001b[39;49m\u001b[43mlimit\u001b[49m\u001b[43m,\u001b[49m\n\u001b[1;32m    283\u001b[0m \u001b[43m        \u001b[49m\u001b[43mreturn_consumed_capacity\u001b[49m\u001b[38;5;241;43m=\u001b[39;49m\u001b[43mreturn_consumed_capacity\u001b[49m\u001b[43m,\u001b[49m\n\u001b[1;32m    284\u001b[0m \u001b[43m        \u001b[49m\u001b[43mscan_index_forward\u001b[49m\u001b[38;5;241;43m=\u001b[39;49m\u001b[43mscan_index_forward\u001b[49m\u001b[43m,\u001b[49m\n\u001b[1;32m    285\u001b[0m \u001b[43m        \u001b[49m\u001b[43mselect\u001b[49m\u001b[38;5;241;43m=\u001b[39;49m\u001b[43mselect\u001b[49m\u001b[43m,\u001b[49m\n\u001b[1;32m    286\u001b[0m \u001b[43m        \u001b[49m\u001b[43msettings\u001b[49m\u001b[38;5;241;43m=\u001b[39;49m\u001b[43msettings\u001b[49m\u001b[43m,\u001b[49m\n\u001b[1;32m    287\u001b[0m \u001b[43m    \u001b[49m\u001b[43m)\u001b[49m\n",
      "File \u001b[0;32m~/Documents/GitHub/learn_aws-project/.venv/lib/python3.10/site-packages/pynamodb/connection/base.py:1398\u001b[0m, in \u001b[0;36mConnection.query\u001b[0;34m(self, table_name, hash_key, range_key_condition, filter_condition, attributes_to_get, consistent_read, exclusive_start_key, index_name, limit, return_consumed_capacity, scan_index_forward, select, settings)\u001b[0m\n\u001b[1;32m   1396\u001b[0m     \u001b[38;5;28;01mreturn\u001b[39;00m \u001b[38;5;28mself\u001b[39m\u001b[38;5;241m.\u001b[39mdispatch(QUERY, operation_kwargs, settings)\n\u001b[1;32m   1397\u001b[0m \u001b[38;5;28;01mexcept\u001b[39;00m BOTOCORE_EXCEPTIONS \u001b[38;5;28;01mas\u001b[39;00m e:\n\u001b[0;32m-> 1398\u001b[0m     \u001b[38;5;28;01mraise\u001b[39;00m QueryError(\u001b[38;5;124m\"\u001b[39m\u001b[38;5;124mFailed to query items: \u001b[39m\u001b[38;5;132;01m{}\u001b[39;00m\u001b[38;5;124m\"\u001b[39m\u001b[38;5;241m.\u001b[39mformat(e), e)\n",
      "\u001b[0;31mQueryError\u001b[0m: Failed to query items: An error occurred (ValidationException) on request (I1NDF93NG76SP0Q6RC410310FBVV4KQNSO5AEMVJF66Q9ASUAAJG) on table (sparce_indexes_test_2) when calling the Query operation: ExpressionAttributeValues contains invalid value: Supplied AttributeValue is empty, must contain exactly one of the supported datatypes for key :0"
     ]
    }
   ],
   "source": [
    "for i in Model2.index.query(hash_key=None):\n",
    "    print(i)"
   ]
  },
  {
   "cell_type": "code",
   "execution_count": 8,
   "id": "486457cf-d718-4d2b-bb26-452b6b999fc2",
   "metadata": {},
   "outputs": [
    {
     "name": "stdout",
     "output_type": "stream",
     "text": [
      "{'gsi_pk': 'id-2-gsi-pk', 'pk': 'id-2'}\n"
     ]
    }
   ],
   "source": [
    "for i in Model2.index.query(hash_key=\"id-2-gsi-pk\"):\n",
    "    print(i.attribute_values)"
   ]
  },
  {
   "cell_type": "markdown",
   "id": "c8150f2c-3ac6-4827-9317-ed35738aa7c4",
   "metadata": {},
   "source": [
    "## Example 3\n",
    "\n",
    "下面这个例子说明了如果你的 Index 有 PK 和 SK, 且 PK 和 SK 的 attribute 中的任意一个在 Base table 中的 Item 中不存在, 那么这个 Item 就不会出现在 Index 里."
   ]
  },
  {
   "cell_type": "code",
   "execution_count": null,
   "id": "91d7d4e1-c788-452c-bdfd-f33469487a0d",
   "metadata": {},
   "outputs": [],
   "source": [
    "class Model3Index(pm.GlobalSecondaryIndex):\n",
    "    class Meta:\n",
    "        index = \"model3-index\"\n",
    "        projection = pm.KeysOnlyProjection()\n",
    "\n",
    "    gsi_pk = pm.UnicodeAttribute(hash_key=True)\n",
    "    gsi_sk = pm.UnicodeAttribute(range_key=True)\n",
    "\n",
    "\n",
    "class Model3(pm.Model):\n",
    "    class Meta:\n",
    "        table_name = \"sparce_indexes_test_3\"\n",
    "        region = \"us-east-1\"\n",
    "        billing_mode = pm.PAY_PER_REQUEST_BILLING_MODE\n",
    "\n",
    "    pk = pm.UnicodeAttribute(hash_key=True)\n",
    "    gsi_pk = pm.UnicodeAttribute(null=True)\n",
    "    gsi_sk = pm.UnicodeAttribute(null=True)\n",
    "\n",
    "    index = Model3Index()\n",
    "\n",
    "Model3.create_table(wait=True)"
   ]
  },
  {
   "cell_type": "code",
   "execution_count": null,
   "id": "3ee1ea6f-926f-46d3-b7a5-db0f95390ff1",
   "metadata": {},
   "outputs": [],
   "source": [
    "Model3(pk=\"id-1\", gsi_pk=None, gsi_sk=None).save()\n",
    "Model3(pk=\"id-2\", gsi_pk=\"id-2-gsi-pk\", gsi_sk=None).save()\n",
    "Model3(pk=\"id-3\", gsi_pk=None, gsi_sk=\"id-3-gsi-sk\").save()\n",
    "Model3(pk=\"id-4\", gsi_pk=\"id-4-gsi-pk\", gsi_sk=\"id-4-gsi-sk\").save() # only this will be in the index"
   ]
  },
  {
   "cell_type": "code",
   "execution_count": null,
   "id": "4d06f104-1ea7-421f-940b-e113d7331161",
   "metadata": {},
   "outputs": [],
   "source": [
    "# Nothing there\n",
    "for i in Model3.index.query(hash_key=\"id-2-gsi-pk\"):\n",
    "    print(i.attribute_values)"
   ]
  },
  {
   "cell_type": "code",
   "execution_count": null,
   "id": "6a662a4d-92c9-4dae-a9e8-885e72e3b967",
   "metadata": {},
   "outputs": [],
   "source": [
    "for i in Model3.index.query(hash_key=\"id-4-gsi-pk\"):\n",
    "    print(i.attribute_values)"
   ]
  },
  {
   "cell_type": "markdown",
   "id": "dacf852dc085a366",
   "metadata": {
    "collapsed": false,
    "jupyter": {
     "outputs_hidden": false
    }
   },
   "source": [
    "## Example 4\n",
    "\n",
    "这个例子是说明在 GSI 中, PK 和 SK 合起来并不需要是唯一的. GSI 只是像 DynamoDB Table, 但它不是一个真正的 GSI Table."
   ]
  },
  {
   "cell_type": "code",
   "execution_count": null,
   "id": "30f5e8c5af672c02",
   "metadata": {
    "ExecuteTime": {
     "end_time": "2024-05-06T20:39:27.169624Z",
     "start_time": "2024-05-06T20:39:26.955190Z"
    },
    "collapsed": false,
    "jupyter": {
     "outputs_hidden": false
    }
   },
   "outputs": [],
   "source": [
    "class Model4Index(pm.GlobalSecondaryIndex):\n",
    "    class Meta:\n",
    "        index = \"model4-index\"\n",
    "        projection = pm.KeysOnlyProjection()\n",
    "\n",
    "    gsi_pk = pm.UnicodeAttribute(hash_key=True)\n",
    "    gsi_sk = pm.UnicodeAttribute(range_key=True)\n",
    "\n",
    "\n",
    "class Model4(pm.Model):\n",
    "    class Meta:\n",
    "        table_name = \"sparce_indexes_test_4\"\n",
    "        region = \"us-east-1\"\n",
    "        billing_mode = pm.PAY_PER_REQUEST_BILLING_MODE\n",
    "\n",
    "    pk = pm.UnicodeAttribute(hash_key=True)\n",
    "    gsi_pk = pm.UnicodeAttribute(null=True)\n",
    "    gsi_sk = pm.UnicodeAttribute(null=True)\n",
    "\n",
    "    index = Model4Index()\n",
    "\n",
    "Model4.create_table(wait=True)"
   ]
  },
  {
   "cell_type": "code",
   "execution_count": null,
   "id": "b37f88429a8027eb",
   "metadata": {
    "ExecuteTime": {
     "end_time": "2024-05-06T20:39:27.599942Z",
     "start_time": "2024-05-06T20:39:27.564529Z"
    },
    "collapsed": false,
    "jupyter": {
     "outputs_hidden": false
    }
   },
   "outputs": [],
   "source": [
    "Model4(pk=\"id-1\", gsi_pk=\"gsi-pk\", gsi_sk=\"gsi-sk\").save()\n",
    "Model4(pk=\"id-2\", gsi_pk=\"gsi-pk\", gsi_sk=\"gsi-sk\").save()"
   ]
  },
  {
   "cell_type": "code",
   "execution_count": null,
   "id": "c43e82c64cac9ed0",
   "metadata": {
    "ExecuteTime": {
     "end_time": "2024-05-06T20:39:28.434495Z",
     "start_time": "2024-05-06T20:39:28.422Z"
    },
    "collapsed": false,
    "jupyter": {
     "outputs_hidden": false
    }
   },
   "outputs": [],
   "source": [
    "for i in Model4.index.query(hash_key=\"gsi-pk\"):\n",
    "    print(i.attribute_values)"
   ]
  },
  {
   "cell_type": "code",
   "execution_count": null,
   "id": "fffef40b-5a61-4612-95a8-28e11f61ac3f",
   "metadata": {},
   "outputs": [],
   "source": []
  }
 ],
 "metadata": {
  "kernelspec": {
   "display_name": "Python 3 (ipykernel)",
   "language": "python",
   "name": "python3"
  },
  "language_info": {
   "codemirror_mode": {
    "name": "ipython",
    "version": 3
   },
   "file_extension": ".py",
   "mimetype": "text/x-python",
   "name": "python",
   "nbconvert_exporter": "python",
   "pygments_lexer": "ipython3",
   "version": "3.10.10"
  }
 },
 "nbformat": 4,
 "nbformat_minor": 5
}
