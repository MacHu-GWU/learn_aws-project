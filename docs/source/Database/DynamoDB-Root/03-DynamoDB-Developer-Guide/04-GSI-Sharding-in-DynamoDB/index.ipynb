{
 "cells": [
  {
   "cell_type": "markdown",
   "id": "54ec876f-f3b0-4e3f-888e-f997b2e2b33e",
   "metadata": {},
   "source": [
    "# GSI Sharding in DynamoDB\n",
    "\n",
    "Keywords: AWS, Amazon, DynamoDB\n",
    "\n",
    "在传统数据库中, 经常会有按照某一个列的区间进行查询的需求. 例如仅按照时间来筛选数据. 在 DynamoDB 中由于查询必须要带 Hash Key, 你无法仅仅对时间列进行查询. 很直接的你就会想到创建一个 attribute 叫做 gsi_pk, 它的值是一个定值. 然后创建了一个以 gsi_pk 为 PK, 时间为 SK 的 GSI 索引不就可以对时间进行查询了? 由于 GSI 本质上也是一个特殊的, 和主表自动同步的 DynamoDB table, 它同样也会按照 PK 来将数据分散到不同的 node 上. 而你的 gsi_pk 是一个定值, 也就是所有的数据都落在了一个 Node 上, 这样 GSI index 很快就会不堪重负.\n",
    "\n",
    "为了解决这一问题, Amazon 推荐使用 GSI Sharding 的技术 (和以前 S3 中的这个技术很像, 后来 S3 做了优化, 你不需要做这件事了). 这个技术本质上是将 gsi_pk 的那个常量变成一个随机数. 例如 1-100. 那么这样流量就会被打散了. \n",
    "\n",
    "不过你的代价就是:\n",
    "\n",
    "1. 查询的时候要发起 100 个查询, 然后将查询结果汇总.\n",
    "2. 对时间的排序需要在结果汇总之后在内存中汇总, 因为每个 shard 返回的数据的时间是分散的.\n",
    "\n",
    "这种技巧还有一些变种. 例如你的一个表有很多 job, 每个 job 有一个 id, 以及一个 status (pending, in_progress, failed, succeeded, ignored) 来表示这个 job 的进度, 还有 job 的 create_time 和 update_time. 很自然的, 你会想要查询 status 处于某个状态的所有 job, 并且按照 create_time 或是 update_time 来进行筛选. 这时 status 的问题是它虽然不是一个常量, 但是 cardinality 太低了, 只有 5 个值. 这时候你不应该无脑的给每个 status 加上 1-100 的后缀. 因为这样做某些非常热的 status 例如 succeeded, ignored 的 item 还是会很多, 最后数据还是不均匀. 这时候你应该按照不同的 status 的比例来分配. 例如 succeeded, ignored 的数据多, 那么你将它们分为 35 份. 而给 pending, in_progress, failed 一人 10 份, 总计还是 100 份, 但是数据最终就会比较平均. \n",
    "\n",
    "**Reference**:\n",
    "\n",
    "- [Using Global Secondary Index write sharding for selective table queries](https://docs.aws.amazon.com/amazondynamodb/latest/developerguide/bp-indexes-gsi-sharding.html)"
   ]
  },
  {
   "cell_type": "code",
   "execution_count": 1,
   "id": "69cfc430-cd2a-4356-b342-9d9cb52c20c9",
   "metadata": {
    "ExecuteTime": {
     "end_time": "2024-05-06T19:40:50.521395Z",
     "start_time": "2024-05-06T19:40:50.516748Z"
    },
    "collapsed": false,
    "jupyter": {
     "outputs_hidden": false
    }
   },
   "outputs": [],
   "source": [
    "import uuid\n",
    "import random\n",
    "from datetime import datetime, timezone, timedelta\n",
    "\n",
    "import pynamodb_mate as pm\n",
    "from boto_session_manager import BotoSesManager\n",
    "\n",
    "bsm = BotoSesManager(profile_name=\"bmt_app_dev_us_east_1\")\n",
    "with bsm.awscli():\n",
    "    pm.Connection()\n",
    "    \n",
    "def get_utc_now() -> datetime:\n",
    "    return datetime.utcnow().replace(tzinfo=timezone.utc)"
   ]
  },
  {
   "cell_type": "code",
   "execution_count": 2,
   "id": "9c8069ea-852d-4d99-8311-408cc38b2988",
   "metadata": {
    "ExecuteTime": {
     "end_time": "2024-05-06T19:41:11.730206Z",
     "start_time": "2024-05-06T19:40:51.377633Z"
    },
    "collapsed": false,
    "jupyter": {
     "outputs_hidden": false
    }
   },
   "outputs": [],
   "source": [
    "class TimeIndex(pm.GlobalSecondaryIndex):\n",
    "    class Meta:\n",
    "        index = \"time-index\"\n",
    "        projection = pm.KeysOnlyProjection()\n",
    "\n",
    "    shard = pm.NumberAttribute(hash_key=True)\n",
    "    time = pm.UTCDateTimeAttribute(range_key=True)\n",
    "\n",
    "\n",
    "class Event(pm.Model):\n",
    "    class Meta:\n",
    "        table_name = \"gsi_sharding_test_1\"\n",
    "        region = \"us-east-1\"\n",
    "        billing_mode = pm.PAY_PER_REQUEST_BILLING_MODE\n",
    "\n",
    "    event_id = pm.UnicodeAttribute(hash_key=True)\n",
    "    time = pm.UTCDateTimeAttribute()\n",
    "    shard = pm.NumberAttribute()\n",
    "\n",
    "    index = TimeIndex()\n",
    "\n",
    "Event.create_table(wait=True)"
   ]
  },
  {
   "cell_type": "code",
   "execution_count": 3,
   "id": "12a971a6-632e-43a3-bf00-3430603a041f",
   "metadata": {
    "ExecuteTime": {
     "end_time": "2024-05-06T19:42:00.262129Z",
     "start_time": "2024-05-06T19:42:00.175719Z"
    }
   },
   "outputs": [],
   "source": [
    "n_shard = 5\n",
    "\n",
    "with Event.batch_write() as batch:\n",
    "    start = datetime(2020, 1, 1, tzinfo=timezone.utc)\n",
    "    \n",
    "    for i in range(100):\n",
    "        event = Event(\n",
    "            event_id=str(uuid.uuid4()), \n",
    "            time=start + timedelta(minutes=15) * i, \n",
    "            shard=random.randint(1, n_shard),\n",
    "        )\n",
    "        batch.save(event)"
   ]
  },
  {
   "cell_type": "markdown",
   "id": "33d4481c0d6a1167",
   "metadata": {
    "collapsed": false,
    "jupyter": {
     "outputs_hidden": false
    }
   },
   "source": [
    "## If you don't care the order"
   ]
  },
  {
   "cell_type": "code",
   "execution_count": 4,
   "id": "013f53c3-2678-40d2-890d-03d4d16d6cf6",
   "metadata": {
    "ExecuteTime": {
     "end_time": "2024-05-06T19:42:09.059131Z",
     "start_time": "2024-05-06T19:42:09.007745Z"
    }
   },
   "outputs": [
    {
     "name": "stdout",
     "output_type": "stream",
     "text": [
      "{'event_id': '990be593-cc9c-43e1-97eb-898ca20290b2', 'shard': 1, 'time': datetime.datetime(2020, 1, 1, 1, 30, tzinfo=datetime.timezone.utc)}\n",
      "{'event_id': 'dc49a5e4-6d81-41e1-86d5-ae55f4d5b2ce', 'shard': 1, 'time': datetime.datetime(2020, 1, 1, 3, 15, tzinfo=datetime.timezone.utc)}\n",
      "{'event_id': 'cd9b36d7-3128-42bf-a6c5-57df5cedbede', 'shard': 1, 'time': datetime.datetime(2020, 1, 1, 4, 0, tzinfo=datetime.timezone.utc)}\n",
      "{'event_id': '83bab38d-3340-4f4d-b35b-29821034a8cf', 'shard': 1, 'time': datetime.datetime(2020, 1, 1, 4, 30, tzinfo=datetime.timezone.utc)}\n",
      "{'event_id': 'edec7a07-194b-4387-9433-8d896ef5c5e5', 'shard': 1, 'time': datetime.datetime(2020, 1, 1, 5, 15, tzinfo=datetime.timezone.utc)}\n",
      "{'event_id': '3116920d-c49b-4c9c-8472-0488a4d22a80', 'shard': 1, 'time': datetime.datetime(2020, 1, 1, 7, 0, tzinfo=datetime.timezone.utc)}\n",
      "{'event_id': 'a60d7b0a-5f2f-42d3-bfb9-41e12c8f5b3b', 'shard': 1, 'time': datetime.datetime(2020, 1, 1, 8, 0, tzinfo=datetime.timezone.utc)}\n",
      "{'event_id': '6df0ce08-8311-40a2-9cf7-4199318b683d', 'shard': 1, 'time': datetime.datetime(2020, 1, 1, 8, 45, tzinfo=datetime.timezone.utc)}\n",
      "{'event_id': '2a1ea437-1a08-4e70-9ff5-ebfd4908b34d', 'shard': 1, 'time': datetime.datetime(2020, 1, 1, 11, 30, tzinfo=datetime.timezone.utc)}\n",
      "{'event_id': '5d63b0aa-fd6a-4e4d-a2b0-d7f6337069ed', 'shard': 2, 'time': datetime.datetime(2020, 1, 1, 0, 45, tzinfo=datetime.timezone.utc)}\n",
      "{'event_id': '26740dfd-0c4d-4cd1-bdb0-e5f1f37e8629', 'shard': 2, 'time': datetime.datetime(2020, 1, 1, 2, 0, tzinfo=datetime.timezone.utc)}\n",
      "{'event_id': '3692a7fb-0196-43d1-88b6-71151b117a63', 'shard': 2, 'time': datetime.datetime(2020, 1, 1, 2, 15, tzinfo=datetime.timezone.utc)}\n",
      "{'event_id': 'a3716063-8ba9-4bba-8fcf-e7d1ecf9d273', 'shard': 2, 'time': datetime.datetime(2020, 1, 1, 3, 0, tzinfo=datetime.timezone.utc)}\n",
      "{'event_id': '7fb72b7b-4c2e-485d-ae7a-ed33c80e3af9', 'shard': 2, 'time': datetime.datetime(2020, 1, 1, 9, 45, tzinfo=datetime.timezone.utc)}\n",
      "{'event_id': '49b17218-b2ba-434b-8efd-3ef9475dcac3', 'shard': 2, 'time': datetime.datetime(2020, 1, 1, 10, 0, tzinfo=datetime.timezone.utc)}\n",
      "{'event_id': '7ad2bf73-285e-45e8-8a52-5bbc73b3076b', 'shard': 2, 'time': datetime.datetime(2020, 1, 1, 11, 0, tzinfo=datetime.timezone.utc)}\n",
      "{'event_id': 'e6fd52be-8214-4dad-8726-cec3bf5f616a', 'shard': 3, 'time': datetime.datetime(2020, 1, 1, 0, 0, tzinfo=datetime.timezone.utc)}\n",
      "{'event_id': 'e6ac98fa-2790-44ae-8346-fdcd59995f14', 'shard': 3, 'time': datetime.datetime(2020, 1, 1, 1, 45, tzinfo=datetime.timezone.utc)}\n",
      "{'event_id': '864b3b92-0103-42a7-a82b-68b67978655c', 'shard': 3, 'time': datetime.datetime(2020, 1, 1, 3, 30, tzinfo=datetime.timezone.utc)}\n",
      "{'event_id': 'd178642e-fcb2-4a66-bd22-a1ef432d8aca', 'shard': 3, 'time': datetime.datetime(2020, 1, 1, 5, 0, tzinfo=datetime.timezone.utc)}\n",
      "{'event_id': '197b9afe-7d0f-46d7-b840-417b3a236f79', 'shard': 3, 'time': datetime.datetime(2020, 1, 1, 6, 45, tzinfo=datetime.timezone.utc)}\n",
      "{'event_id': 'f7bec3f9-e379-4a42-b11c-9a2d7a1f9d3e', 'shard': 3, 'time': datetime.datetime(2020, 1, 1, 7, 30, tzinfo=datetime.timezone.utc)}\n",
      "{'event_id': '2eed8f56-b377-4d01-8407-4205939dabf6', 'shard': 3, 'time': datetime.datetime(2020, 1, 1, 8, 15, tzinfo=datetime.timezone.utc)}\n",
      "{'event_id': '5bb69fdf-a4d2-4f8a-9856-c9bbdadb0cca', 'shard': 3, 'time': datetime.datetime(2020, 1, 1, 9, 15, tzinfo=datetime.timezone.utc)}\n",
      "{'event_id': '3c7cf8ce-6cff-4cb6-b2a1-96e413ed7bd1', 'shard': 3, 'time': datetime.datetime(2020, 1, 1, 11, 45, tzinfo=datetime.timezone.utc)}\n",
      "{'event_id': '3e606ffa-d42f-4e47-8f4d-0a71c2b943eb', 'shard': 4, 'time': datetime.datetime(2020, 1, 1, 0, 15, tzinfo=datetime.timezone.utc)}\n",
      "{'event_id': 'a3a7d180-593b-4158-a552-6ecfc116ddb5', 'shard': 4, 'time': datetime.datetime(2020, 1, 1, 2, 30, tzinfo=datetime.timezone.utc)}\n",
      "{'event_id': 'e29b403a-b987-4b57-bee8-7be63cebd8cf', 'shard': 4, 'time': datetime.datetime(2020, 1, 1, 3, 45, tzinfo=datetime.timezone.utc)}\n",
      "{'event_id': 'a3df8c0b-728c-4b92-8276-9c46439c0462', 'shard': 4, 'time': datetime.datetime(2020, 1, 1, 6, 0, tzinfo=datetime.timezone.utc)}\n",
      "{'event_id': 'b16321a1-bd2d-4b89-9e41-68d396494e01', 'shard': 4, 'time': datetime.datetime(2020, 1, 1, 7, 45, tzinfo=datetime.timezone.utc)}\n",
      "{'event_id': '3288c254-fcf7-4e96-8c35-1a08fc866c58', 'shard': 4, 'time': datetime.datetime(2020, 1, 1, 9, 30, tzinfo=datetime.timezone.utc)}\n",
      "{'event_id': '95853eee-0459-4110-be8a-cd6d68fc7d06', 'shard': 5, 'time': datetime.datetime(2020, 1, 1, 0, 30, tzinfo=datetime.timezone.utc)}\n",
      "{'event_id': 'adab2405-84a9-481d-9831-f4a5af872acf', 'shard': 5, 'time': datetime.datetime(2020, 1, 1, 4, 15, tzinfo=datetime.timezone.utc)}\n",
      "{'event_id': 'd3f780f2-23d9-48ae-956f-8a6d9c630753', 'shard': 5, 'time': datetime.datetime(2020, 1, 1, 6, 15, tzinfo=datetime.timezone.utc)}\n",
      "{'event_id': 'faee22b1-7014-4200-a209-7a7f5dd8d351', 'shard': 5, 'time': datetime.datetime(2020, 1, 1, 8, 30, tzinfo=datetime.timezone.utc)}\n",
      "{'event_id': 'fd3e1051-1d78-45da-9708-23fed9ff9755', 'shard': 5, 'time': datetime.datetime(2020, 1, 1, 10, 45, tzinfo=datetime.timezone.utc)}\n",
      "{'event_id': '605703e6-1651-421a-87de-4ccf6d5fc2df', 'shard': 5, 'time': datetime.datetime(2020, 1, 1, 11, 15, tzinfo=datetime.timezone.utc)}\n"
     ]
    }
   ],
   "source": [
    "def query_between_time_range(\n",
    "    start: datetime,\n",
    "    end: datetime,\n",
    "):\n",
    "    items = list()\n",
    "    for i in range(1, 1+n_shard):\n",
    "        res = Event.index.query(\n",
    "            hash_key=i, \n",
    "            range_key_condition=TimeIndex.time.between(start, end),\n",
    "        )\n",
    "        for item in res:\n",
    "            items.append(item)\n",
    "    return items\n",
    "\n",
    "for i in query_between_time_range(\n",
    "    start=datetime(2020, 1, 1, tzinfo=timezone.utc),\n",
    "    end=datetime(2020, 1, 1, 11, 59, 59, tzinfo=timezone.utc),\n",
    "):\n",
    "    print(i.attribute_values)"
   ]
  },
  {
   "cell_type": "markdown",
   "id": "54558a5b80f9c6e1",
   "metadata": {
    "collapsed": false,
    "jupyter": {
     "outputs_hidden": false
    }
   },
   "source": [
    "## If you care the order"
   ]
  },
  {
   "cell_type": "code",
   "execution_count": 5,
   "id": "407ee9547309264",
   "metadata": {
    "ExecuteTime": {
     "end_time": "2024-05-06T19:54:46.397130Z",
     "start_time": "2024-05-06T19:54:46.170532Z"
    },
    "collapsed": false,
    "jupyter": {
     "outputs_hidden": false
    }
   },
   "outputs": [
    {
     "name": "stdout",
     "output_type": "stream",
     "text": [
      "{'event_id': 'e6fd52be-8214-4dad-8726-cec3bf5f616a', 'shard': 3, 'time': datetime.datetime(2020, 1, 1, 0, 0, tzinfo=datetime.timezone.utc)}\n",
      "{'event_id': '3e606ffa-d42f-4e47-8f4d-0a71c2b943eb', 'shard': 4, 'time': datetime.datetime(2020, 1, 1, 0, 15, tzinfo=datetime.timezone.utc)}\n",
      "{'event_id': '95853eee-0459-4110-be8a-cd6d68fc7d06', 'shard': 5, 'time': datetime.datetime(2020, 1, 1, 0, 30, tzinfo=datetime.timezone.utc)}\n",
      "{'event_id': '5d63b0aa-fd6a-4e4d-a2b0-d7f6337069ed', 'shard': 2, 'time': datetime.datetime(2020, 1, 1, 0, 45, tzinfo=datetime.timezone.utc)}\n",
      "{'event_id': '990be593-cc9c-43e1-97eb-898ca20290b2', 'shard': 1, 'time': datetime.datetime(2020, 1, 1, 1, 30, tzinfo=datetime.timezone.utc)}\n",
      "{'event_id': 'e6ac98fa-2790-44ae-8346-fdcd59995f14', 'shard': 3, 'time': datetime.datetime(2020, 1, 1, 1, 45, tzinfo=datetime.timezone.utc)}\n",
      "{'event_id': '26740dfd-0c4d-4cd1-bdb0-e5f1f37e8629', 'shard': 2, 'time': datetime.datetime(2020, 1, 1, 2, 0, tzinfo=datetime.timezone.utc)}\n",
      "{'event_id': '3692a7fb-0196-43d1-88b6-71151b117a63', 'shard': 2, 'time': datetime.datetime(2020, 1, 1, 2, 15, tzinfo=datetime.timezone.utc)}\n",
      "{'event_id': 'a3a7d180-593b-4158-a552-6ecfc116ddb5', 'shard': 4, 'time': datetime.datetime(2020, 1, 1, 2, 30, tzinfo=datetime.timezone.utc)}\n",
      "{'event_id': 'a3716063-8ba9-4bba-8fcf-e7d1ecf9d273', 'shard': 2, 'time': datetime.datetime(2020, 1, 1, 3, 0, tzinfo=datetime.timezone.utc)}\n",
      "{'event_id': 'dc49a5e4-6d81-41e1-86d5-ae55f4d5b2ce', 'shard': 1, 'time': datetime.datetime(2020, 1, 1, 3, 15, tzinfo=datetime.timezone.utc)}\n",
      "{'event_id': '864b3b92-0103-42a7-a82b-68b67978655c', 'shard': 3, 'time': datetime.datetime(2020, 1, 1, 3, 30, tzinfo=datetime.timezone.utc)}\n",
      "{'event_id': 'e29b403a-b987-4b57-bee8-7be63cebd8cf', 'shard': 4, 'time': datetime.datetime(2020, 1, 1, 3, 45, tzinfo=datetime.timezone.utc)}\n",
      "{'event_id': 'cd9b36d7-3128-42bf-a6c5-57df5cedbede', 'shard': 1, 'time': datetime.datetime(2020, 1, 1, 4, 0, tzinfo=datetime.timezone.utc)}\n",
      "{'event_id': 'adab2405-84a9-481d-9831-f4a5af872acf', 'shard': 5, 'time': datetime.datetime(2020, 1, 1, 4, 15, tzinfo=datetime.timezone.utc)}\n",
      "{'event_id': '83bab38d-3340-4f4d-b35b-29821034a8cf', 'shard': 1, 'time': datetime.datetime(2020, 1, 1, 4, 30, tzinfo=datetime.timezone.utc)}\n",
      "{'event_id': 'd178642e-fcb2-4a66-bd22-a1ef432d8aca', 'shard': 3, 'time': datetime.datetime(2020, 1, 1, 5, 0, tzinfo=datetime.timezone.utc)}\n",
      "{'event_id': 'edec7a07-194b-4387-9433-8d896ef5c5e5', 'shard': 1, 'time': datetime.datetime(2020, 1, 1, 5, 15, tzinfo=datetime.timezone.utc)}\n",
      "{'event_id': 'a3df8c0b-728c-4b92-8276-9c46439c0462', 'shard': 4, 'time': datetime.datetime(2020, 1, 1, 6, 0, tzinfo=datetime.timezone.utc)}\n",
      "{'event_id': 'd3f780f2-23d9-48ae-956f-8a6d9c630753', 'shard': 5, 'time': datetime.datetime(2020, 1, 1, 6, 15, tzinfo=datetime.timezone.utc)}\n",
      "{'event_id': '197b9afe-7d0f-46d7-b840-417b3a236f79', 'shard': 3, 'time': datetime.datetime(2020, 1, 1, 6, 45, tzinfo=datetime.timezone.utc)}\n",
      "{'event_id': '3116920d-c49b-4c9c-8472-0488a4d22a80', 'shard': 1, 'time': datetime.datetime(2020, 1, 1, 7, 0, tzinfo=datetime.timezone.utc)}\n",
      "{'event_id': 'f7bec3f9-e379-4a42-b11c-9a2d7a1f9d3e', 'shard': 3, 'time': datetime.datetime(2020, 1, 1, 7, 30, tzinfo=datetime.timezone.utc)}\n",
      "{'event_id': 'b16321a1-bd2d-4b89-9e41-68d396494e01', 'shard': 4, 'time': datetime.datetime(2020, 1, 1, 7, 45, tzinfo=datetime.timezone.utc)}\n",
      "{'event_id': 'a60d7b0a-5f2f-42d3-bfb9-41e12c8f5b3b', 'shard': 1, 'time': datetime.datetime(2020, 1, 1, 8, 0, tzinfo=datetime.timezone.utc)}\n",
      "{'event_id': '2eed8f56-b377-4d01-8407-4205939dabf6', 'shard': 3, 'time': datetime.datetime(2020, 1, 1, 8, 15, tzinfo=datetime.timezone.utc)}\n",
      "{'event_id': 'faee22b1-7014-4200-a209-7a7f5dd8d351', 'shard': 5, 'time': datetime.datetime(2020, 1, 1, 8, 30, tzinfo=datetime.timezone.utc)}\n",
      "{'event_id': '6df0ce08-8311-40a2-9cf7-4199318b683d', 'shard': 1, 'time': datetime.datetime(2020, 1, 1, 8, 45, tzinfo=datetime.timezone.utc)}\n",
      "{'event_id': '5bb69fdf-a4d2-4f8a-9856-c9bbdadb0cca', 'shard': 3, 'time': datetime.datetime(2020, 1, 1, 9, 15, tzinfo=datetime.timezone.utc)}\n",
      "{'event_id': '3288c254-fcf7-4e96-8c35-1a08fc866c58', 'shard': 4, 'time': datetime.datetime(2020, 1, 1, 9, 30, tzinfo=datetime.timezone.utc)}\n",
      "{'event_id': '7fb72b7b-4c2e-485d-ae7a-ed33c80e3af9', 'shard': 2, 'time': datetime.datetime(2020, 1, 1, 9, 45, tzinfo=datetime.timezone.utc)}\n",
      "{'event_id': '49b17218-b2ba-434b-8efd-3ef9475dcac3', 'shard': 2, 'time': datetime.datetime(2020, 1, 1, 10, 0, tzinfo=datetime.timezone.utc)}\n",
      "{'event_id': 'fd3e1051-1d78-45da-9708-23fed9ff9755', 'shard': 5, 'time': datetime.datetime(2020, 1, 1, 10, 45, tzinfo=datetime.timezone.utc)}\n",
      "{'event_id': '7ad2bf73-285e-45e8-8a52-5bbc73b3076b', 'shard': 2, 'time': datetime.datetime(2020, 1, 1, 11, 0, tzinfo=datetime.timezone.utc)}\n",
      "{'event_id': '605703e6-1651-421a-87de-4ccf6d5fc2df', 'shard': 5, 'time': datetime.datetime(2020, 1, 1, 11, 15, tzinfo=datetime.timezone.utc)}\n",
      "{'event_id': '2a1ea437-1a08-4e70-9ff5-ebfd4908b34d', 'shard': 1, 'time': datetime.datetime(2020, 1, 1, 11, 30, tzinfo=datetime.timezone.utc)}\n",
      "{'event_id': '3c7cf8ce-6cff-4cb6-b2a1-96e413ed7bd1', 'shard': 3, 'time': datetime.datetime(2020, 1, 1, 11, 45, tzinfo=datetime.timezone.utc)}\n"
     ]
    }
   ],
   "source": [
    "def query_between_time_range(\n",
    "    start: datetime,\n",
    "    end: datetime,\n",
    "):\n",
    "    items = list()\n",
    "    for i in range(1, 1+n_shard):\n",
    "        res = Event.index.query(\n",
    "            hash_key=i, \n",
    "            range_key_condition=TimeIndex.time.between(start, end),\n",
    "        )\n",
    "        for item in res:\n",
    "            items.append(item)\n",
    "    return list(sorted(\n",
    "        items,\n",
    "        key=lambda item: item.time,\n",
    "    ))\n",
    "\n",
    "for i in query_between_time_range(\n",
    "    start=datetime(2020, 1, 1, tzinfo=timezone.utc),\n",
    "    end=datetime(2020, 1, 1, 11, 59, 59, tzinfo=timezone.utc),\n",
    "):\n",
    "    print(i.attribute_values)"
   ]
  },
  {
   "cell_type": "code",
   "execution_count": null,
   "id": "49b2c11f-02ed-452a-a77a-8c75bdb92557",
   "metadata": {},
   "outputs": [],
   "source": []
  }
 ],
 "metadata": {
  "kernelspec": {
   "display_name": "Python 3 (ipykernel)",
   "language": "python",
   "name": "python3"
  },
  "language_info": {
   "codemirror_mode": {
    "name": "ipython",
    "version": 3
   },
   "file_extension": ".py",
   "mimetype": "text/x-python",
   "name": "python",
   "nbconvert_exporter": "python",
   "pygments_lexer": "ipython3",
   "version": "3.10.10"
  }
 },
 "nbformat": 4,
 "nbformat_minor": 5
}
