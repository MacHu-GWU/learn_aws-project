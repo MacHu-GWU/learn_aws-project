{
 "cells": [
  {
   "cell_type": "markdown",
   "id": "54ec876f-f3b0-4e3f-888e-f997b2e2b33e",
   "metadata": {},
   "source": [
    "# GSI Sharding in DynamoDB\n",
    "\n",
    "Keywords: AWS, Amazon, DynamoDB\n",
    "\n",
    "在传统数据库中, 经常会有按照某一个列的区间进行查询的需求. 例如仅按照时间来筛选数据. 在 DynamoDB 中由于查询必须要带 Hash Key, 你无法仅仅对时间列进行查询. 很直接的你就会想到创建一个 attribute 叫做 gsi_pk, 它的值是一个定值. 然后创建了一个以 gsi_pk 为 PK, 时间为 SK 的 GSI 索引不就可以对时间进行查询了? 由于 GSI 本质上也是一个特殊的, 和主表自动同步的 DynamoDB table, 它同样也会按照 PK 来将数据分散到不同的 node 上. 而你的 gsi_pk 是一个定值, 也就是所有的数据都落在了一个 Node 上, 这样 GSI index 很快就会不堪重负.\n",
    "\n",
    "为了解决这一问题, Amazon 推荐使用 GSI Sharding 的技术 (和以前 S3 中的这个技术很像, 后来 S3 做了优化, 你不需要做这件事了). 这个技术本质上是将 gsi_pk 的那个常量变成一个随机数. 例如 1-100. 那么这样流量就会被打散了. \n",
    "\n",
    "不过你的代价就是:\n",
    "\n",
    "1. 查询的时候要发起 100 个查询, 然后将查询结果汇总.\n",
    "2. 对时间的排序需要在结果汇总之后在内存中汇总, 因为每个 shard 返回的数据的时间是分散的.\n",
    "\n",
    "这种技巧还有一些变种. 例如你的一个表有很多 job, 每个 job 有一个 id, 以及一个 status (pending, in_progress, failed, succeeded, ignored) 来表示这个 job 的进度, 还有 job 的 create_time 和 update_time. 很自然的, 你会想要查询 status 处于某个状态的所有 job, 并且按照 create_time 或是 update_time 来进行筛选. 这时 status 的问题是它虽然不是一个常量, 但是 cardinality 太低了, 只有 5 个值. 这时候你不应该无脑的给每个 status 加上 1-100 的后缀. 因为这样做某些非常热的 status 例如 succeeded, ignored 的 item 还是会很多, 最后数据还是不均匀. 这时候你应该按照不同的 status 的比例来分配. 例如 succeeded, ignored 的数据多, 那么你将它们分为 35 份. 而给 pending, in_progress, failed 一人 10 份, 总计还是 100 份, 但是数据最终就会比较平均. \n",
    "\n",
    "**Reference**:\n",
    "\n",
    "- [Using Global Secondary Index write sharding for selective table queries](https://docs.aws.amazon.com/amazondynamodb/latest/developerguide/bp-indexes-gsi-sharding.html)"
   ]
  },
  {
   "cell_type": "code",
   "outputs": [],
   "source": [
    "import uuid\n",
    "import random\n",
    "from datetime import datetime, timezone, timedelta\n",
    "\n",
    "import pynamodb_mate as pm\n",
    "from boto_session_manager import BotoSesManager\n",
    "\n",
    "bsm = BotoSesManager(profile_name=\"bmt_app_dev_us_east_1\")\n",
    "with bsm.awscli():\n",
    "    pm.Connection()\n",
    "    \n",
    "def get_utc_now() -> datetime:\n",
    "    return datetime.utcnow().replace(tzinfo=timezone.utc)"
   ],
   "metadata": {
    "collapsed": false,
    "ExecuteTime": {
     "end_time": "2024-05-06T19:40:50.521395Z",
     "start_time": "2024-05-06T19:40:50.516748Z"
    }
   },
   "id": "69cfc430-cd2a-4356-b342-9d9cb52c20c9",
   "execution_count": 27
  },
  {
   "cell_type": "code",
   "outputs": [],
   "source": [
    "class TimeIndex(pm.GlobalSecondaryIndex):\n",
    "    class Meta:\n",
    "        index = \"time-index\"\n",
    "        projection = pm.KeysOnlyProjection()\n",
    "\n",
    "    shard = pm.NumberAttribute(hash_key=True)\n",
    "    time = pm.UTCDateTimeAttribute(range_key=True)\n",
    "\n",
    "\n",
    "class Event(pm.Model):\n",
    "    class Meta:\n",
    "        table_name = \"gsi_sharding_test_1\"\n",
    "        region = \"us-east-1\"\n",
    "        billing_mode = pm.PAY_PER_REQUEST_BILLING_MODE\n",
    "\n",
    "    event_id = pm.UnicodeAttribute(hash_key=True)\n",
    "    time = pm.UTCDateTimeAttribute()\n",
    "    shard = pm.NumberAttribute()\n",
    "\n",
    "    index = TimeIndex()\n",
    "\n",
    "Event.create_table(wait=True)"
   ],
   "metadata": {
    "collapsed": false,
    "ExecuteTime": {
     "end_time": "2024-05-06T19:41:11.730206Z",
     "start_time": "2024-05-06T19:40:51.377633Z"
    }
   },
   "id": "9c8069ea-852d-4d99-8311-408cc38b2988",
   "execution_count": 28
  },
  {
   "cell_type": "code",
   "execution_count": 29,
   "id": "12a971a6-632e-43a3-bf00-3430603a041f",
   "metadata": {
    "ExecuteTime": {
     "end_time": "2024-05-06T19:42:00.262129Z",
     "start_time": "2024-05-06T19:42:00.175719Z"
    }
   },
   "outputs": [],
   "source": [
    "n_shard = 5\n",
    "\n",
    "with Event.batch_write() as batch:\n",
    "    start = datetime(2020, 1, 1, tzinfo=timezone.utc)\n",
    "    \n",
    "    for i in range(100):\n",
    "        event = Event(\n",
    "            event_id=str(uuid.uuid4()), \n",
    "            time=start + timedelta(minutes=15) * i, \n",
    "            shard=random.randint(1, n_shard),\n",
    "        )\n",
    "        batch.save(event)"
   ]
  },
  {
   "cell_type": "markdown",
   "source": [
    "## If you don't care the order"
   ],
   "metadata": {
    "collapsed": false
   },
   "id": "33d4481c0d6a1167"
  },
  {
   "cell_type": "code",
   "execution_count": 31,
   "id": "013f53c3-2678-40d2-890d-03d4d16d6cf6",
   "metadata": {
    "ExecuteTime": {
     "end_time": "2024-05-06T19:42:09.059131Z",
     "start_time": "2024-05-06T19:42:09.007745Z"
    }
   },
   "outputs": [
    {
     "name": "stdout",
     "output_type": "stream",
     "text": [
      "{'event_id': 'e520ac61-42b6-4d78-9a58-84e012ad548e', 'shard': 1, 'time': datetime.datetime(2020, 1, 1, 1, 45, tzinfo=datetime.timezone.utc)}\n",
      "{'event_id': '4e86c670-7479-4f8d-a6a5-7be6da2b28d2', 'shard': 1, 'time': datetime.datetime(2020, 1, 1, 3, 0, tzinfo=datetime.timezone.utc)}\n",
      "{'event_id': 'd1ed9205-1e49-4ae5-b824-2a6851b5caf3', 'shard': 1, 'time': datetime.datetime(2020, 1, 1, 4, 45, tzinfo=datetime.timezone.utc)}\n",
      "{'event_id': 'af50c5dd-b495-47bc-9ca8-d802dce45295', 'shard': 1, 'time': datetime.datetime(2020, 1, 1, 7, 15, tzinfo=datetime.timezone.utc)}\n",
      "{'event_id': '295c8743-86c6-4324-a0e4-8a954e704498', 'shard': 1, 'time': datetime.datetime(2020, 1, 1, 7, 30, tzinfo=datetime.timezone.utc)}\n",
      "{'event_id': 'bf1b171f-21de-423f-8299-4c89d4db937e', 'shard': 1, 'time': datetime.datetime(2020, 1, 1, 8, 0, tzinfo=datetime.timezone.utc)}\n",
      "{'event_id': '8cfda7a9-f9ab-4dfc-9c8c-8bafa87b9134', 'shard': 1, 'time': datetime.datetime(2020, 1, 1, 8, 15, tzinfo=datetime.timezone.utc)}\n",
      "{'event_id': '9281e569-99db-4141-b442-e0043f0c2236', 'shard': 1, 'time': datetime.datetime(2020, 1, 1, 10, 45, tzinfo=datetime.timezone.utc)}\n",
      "{'event_id': 'd5e73a01-2f7d-45e1-b752-24af175057b9', 'shard': 2, 'time': datetime.datetime(2020, 1, 1, 0, 0, tzinfo=datetime.timezone.utc)}\n",
      "{'event_id': 'fd0c5f72-5491-4127-94d2-53e105c382ee', 'shard': 2, 'time': datetime.datetime(2020, 1, 1, 0, 15, tzinfo=datetime.timezone.utc)}\n",
      "{'event_id': 'f0eb05ee-3de8-45b2-8e30-d94b333dcf8e', 'shard': 2, 'time': datetime.datetime(2020, 1, 1, 2, 45, tzinfo=datetime.timezone.utc)}\n",
      "{'event_id': '67a4eafc-4c5e-47a4-b146-86853b397061', 'shard': 2, 'time': datetime.datetime(2020, 1, 1, 3, 15, tzinfo=datetime.timezone.utc)}\n",
      "{'event_id': '761755e9-1e7b-4db4-b91b-f1448086608e', 'shard': 2, 'time': datetime.datetime(2020, 1, 1, 3, 30, tzinfo=datetime.timezone.utc)}\n",
      "{'event_id': '9ae5e225-6fc4-4ecb-9155-21d88c67ac25', 'shard': 2, 'time': datetime.datetime(2020, 1, 1, 4, 30, tzinfo=datetime.timezone.utc)}\n",
      "{'event_id': '1bf67210-4a92-460d-8a00-715ed24c6aa8', 'shard': 2, 'time': datetime.datetime(2020, 1, 1, 6, 0, tzinfo=datetime.timezone.utc)}\n",
      "{'event_id': '6bd0c666-5985-43e1-b05b-2c4933ea6700', 'shard': 2, 'time': datetime.datetime(2020, 1, 1, 8, 30, tzinfo=datetime.timezone.utc)}\n",
      "{'event_id': '0ace70d5-403f-46d4-993c-2add2ea4dc6a', 'shard': 2, 'time': datetime.datetime(2020, 1, 1, 8, 45, tzinfo=datetime.timezone.utc)}\n",
      "{'event_id': '0078ab6d-e0ce-4845-be14-0263084526ad', 'shard': 2, 'time': datetime.datetime(2020, 1, 1, 10, 0, tzinfo=datetime.timezone.utc)}\n",
      "{'event_id': '14b814d5-0740-4bad-936f-06f41a877d55', 'shard': 2, 'time': datetime.datetime(2020, 1, 1, 11, 30, tzinfo=datetime.timezone.utc)}\n",
      "{'event_id': 'fbf3e156-0319-4809-abcc-924abb4ecb6e', 'shard': 3, 'time': datetime.datetime(2020, 1, 1, 1, 15, tzinfo=datetime.timezone.utc)}\n",
      "{'event_id': 'dc4f0ce5-d726-4a18-9f40-88544933fb01', 'shard': 3, 'time': datetime.datetime(2020, 1, 1, 1, 30, tzinfo=datetime.timezone.utc)}\n",
      "{'event_id': '0a752229-f0a0-46f4-8969-b2c202bda603', 'shard': 3, 'time': datetime.datetime(2020, 1, 1, 2, 15, tzinfo=datetime.timezone.utc)}\n",
      "{'event_id': 'ade806c7-0beb-4737-a1d2-c9ea33a08b37', 'shard': 3, 'time': datetime.datetime(2020, 1, 1, 3, 45, tzinfo=datetime.timezone.utc)}\n",
      "{'event_id': 'c0cf2d54-c425-428c-8fb1-b2088ec49bb7', 'shard': 3, 'time': datetime.datetime(2020, 1, 1, 4, 0, tzinfo=datetime.timezone.utc)}\n",
      "{'event_id': '7f04a48a-1c32-43eb-8b82-8685ce925600', 'shard': 3, 'time': datetime.datetime(2020, 1, 1, 7, 45, tzinfo=datetime.timezone.utc)}\n",
      "{'event_id': '29776b28-5cd6-4e69-9944-82e31c41e020', 'shard': 3, 'time': datetime.datetime(2020, 1, 1, 9, 45, tzinfo=datetime.timezone.utc)}\n",
      "{'event_id': 'afa193c0-5f99-4120-bd30-14e2ba99fb76', 'shard': 3, 'time': datetime.datetime(2020, 1, 1, 10, 15, tzinfo=datetime.timezone.utc)}\n",
      "{'event_id': 'c96519a3-2a9f-47c4-9923-4a59200d7868', 'shard': 3, 'time': datetime.datetime(2020, 1, 1, 10, 30, tzinfo=datetime.timezone.utc)}\n",
      "{'event_id': 'fe473fb3-b18e-4ed4-8177-562b6b801db0', 'shard': 4, 'time': datetime.datetime(2020, 1, 1, 0, 30, tzinfo=datetime.timezone.utc)}\n",
      "{'event_id': '4ba5b186-a95e-4c2d-af91-54712526dad0', 'shard': 4, 'time': datetime.datetime(2020, 1, 1, 0, 45, tzinfo=datetime.timezone.utc)}\n",
      "{'event_id': '7218e167-e0ea-4993-9b42-becf7f4c0233', 'shard': 4, 'time': datetime.datetime(2020, 1, 1, 1, 0, tzinfo=datetime.timezone.utc)}\n",
      "{'event_id': 'cadedb65-bcdc-4ce0-a82f-9303e8e59953', 'shard': 4, 'time': datetime.datetime(2020, 1, 1, 2, 0, tzinfo=datetime.timezone.utc)}\n",
      "{'event_id': '32c5a3d6-696e-495a-865e-201d67a0c130', 'shard': 4, 'time': datetime.datetime(2020, 1, 1, 2, 30, tzinfo=datetime.timezone.utc)}\n",
      "{'event_id': 'ec5a92bf-a351-483d-96cb-7787482349b8', 'shard': 4, 'time': datetime.datetime(2020, 1, 1, 5, 30, tzinfo=datetime.timezone.utc)}\n",
      "{'event_id': '4d323c8a-a3ef-4329-8589-b0e804c78f29', 'shard': 4, 'time': datetime.datetime(2020, 1, 1, 5, 45, tzinfo=datetime.timezone.utc)}\n",
      "{'event_id': '45da494e-1d98-4d6c-ad46-23211bb62d2b', 'shard': 4, 'time': datetime.datetime(2020, 1, 1, 6, 30, tzinfo=datetime.timezone.utc)}\n",
      "{'event_id': '8ab1687a-4323-4184-b762-800731580d4e', 'shard': 4, 'time': datetime.datetime(2020, 1, 1, 7, 0, tzinfo=datetime.timezone.utc)}\n",
      "{'event_id': '40dba169-95c9-476b-9004-5ad91809d843', 'shard': 4, 'time': datetime.datetime(2020, 1, 1, 9, 0, tzinfo=datetime.timezone.utc)}\n",
      "{'event_id': '00c0ffbe-5a4f-45db-9e9a-b3dd731148fb', 'shard': 4, 'time': datetime.datetime(2020, 1, 1, 9, 15, tzinfo=datetime.timezone.utc)}\n",
      "{'event_id': '55bb45e9-8391-4103-a8b3-ee6ef9556ea3', 'shard': 4, 'time': datetime.datetime(2020, 1, 1, 11, 15, tzinfo=datetime.timezone.utc)}\n",
      "{'event_id': '3b4b73f8-dbd2-42a6-aa22-604a173cee11', 'shard': 4, 'time': datetime.datetime(2020, 1, 1, 11, 45, tzinfo=datetime.timezone.utc)}\n",
      "{'event_id': '881260c4-83e1-47c3-bd36-f05eebc9dddf', 'shard': 5, 'time': datetime.datetime(2020, 1, 1, 4, 15, tzinfo=datetime.timezone.utc)}\n",
      "{'event_id': 'c11ae0ca-163a-4332-b118-bc065a52e549', 'shard': 5, 'time': datetime.datetime(2020, 1, 1, 5, 0, tzinfo=datetime.timezone.utc)}\n",
      "{'event_id': '44a4bb7b-1664-4cc9-a764-d459730a3518', 'shard': 5, 'time': datetime.datetime(2020, 1, 1, 5, 15, tzinfo=datetime.timezone.utc)}\n",
      "{'event_id': '310ee0f7-7d60-4adc-87a0-c137d51cf4f0', 'shard': 5, 'time': datetime.datetime(2020, 1, 1, 6, 15, tzinfo=datetime.timezone.utc)}\n",
      "{'event_id': '350d93a9-9da7-41d3-b52f-a79d08633d8e', 'shard': 5, 'time': datetime.datetime(2020, 1, 1, 6, 45, tzinfo=datetime.timezone.utc)}\n",
      "{'event_id': '924db12e-569b-4a6b-a8b3-b707c1db235b', 'shard': 5, 'time': datetime.datetime(2020, 1, 1, 9, 30, tzinfo=datetime.timezone.utc)}\n",
      "{'event_id': '8e382870-ae59-4da3-afcf-956776d76b04', 'shard': 5, 'time': datetime.datetime(2020, 1, 1, 11, 0, tzinfo=datetime.timezone.utc)}\n"
     ]
    }
   ],
   "source": [
    "def query_between_time_range(\n",
    "    start: datetime,\n",
    "    end: datetime,\n",
    "):\n",
    "    items = list()\n",
    "    for i in range(1, 1+n_shard):\n",
    "        res = Event.index.query(\n",
    "            hash_key=i, \n",
    "            range_key_condition=TimeIndex.time.between(start, end),\n",
    "        )\n",
    "        for item in res:\n",
    "            items.append(item)\n",
    "    return items\n",
    "\n",
    "for i in query_between_time_range(\n",
    "    start=datetime(2020, 1, 1, tzinfo=timezone.utc),\n",
    "    end=datetime(2020, 1, 1, 11, 59, 59, tzinfo=timezone.utc),\n",
    "):\n",
    "    print(i.attribute_values)"
   ]
  },
  {
   "cell_type": "markdown",
   "source": [
    "## If you care the order"
   ],
   "metadata": {
    "collapsed": false
   },
   "id": "54558a5b80f9c6e1"
  },
  {
   "cell_type": "code",
   "outputs": [
    {
     "name": "stdout",
     "output_type": "stream",
     "text": [
      "{'event_id': 'd5e73a01-2f7d-45e1-b752-24af175057b9', 'shard': 2, 'time': datetime.datetime(2020, 1, 1, 0, 0, tzinfo=datetime.timezone.utc)}\n",
      "{'event_id': 'fd0c5f72-5491-4127-94d2-53e105c382ee', 'shard': 2, 'time': datetime.datetime(2020, 1, 1, 0, 15, tzinfo=datetime.timezone.utc)}\n",
      "{'event_id': 'fe473fb3-b18e-4ed4-8177-562b6b801db0', 'shard': 4, 'time': datetime.datetime(2020, 1, 1, 0, 30, tzinfo=datetime.timezone.utc)}\n",
      "{'event_id': '4ba5b186-a95e-4c2d-af91-54712526dad0', 'shard': 4, 'time': datetime.datetime(2020, 1, 1, 0, 45, tzinfo=datetime.timezone.utc)}\n",
      "{'event_id': '7218e167-e0ea-4993-9b42-becf7f4c0233', 'shard': 4, 'time': datetime.datetime(2020, 1, 1, 1, 0, tzinfo=datetime.timezone.utc)}\n",
      "{'event_id': 'fbf3e156-0319-4809-abcc-924abb4ecb6e', 'shard': 3, 'time': datetime.datetime(2020, 1, 1, 1, 15, tzinfo=datetime.timezone.utc)}\n",
      "{'event_id': 'dc4f0ce5-d726-4a18-9f40-88544933fb01', 'shard': 3, 'time': datetime.datetime(2020, 1, 1, 1, 30, tzinfo=datetime.timezone.utc)}\n",
      "{'event_id': 'e520ac61-42b6-4d78-9a58-84e012ad548e', 'shard': 1, 'time': datetime.datetime(2020, 1, 1, 1, 45, tzinfo=datetime.timezone.utc)}\n",
      "{'event_id': 'cadedb65-bcdc-4ce0-a82f-9303e8e59953', 'shard': 4, 'time': datetime.datetime(2020, 1, 1, 2, 0, tzinfo=datetime.timezone.utc)}\n",
      "{'event_id': '0a752229-f0a0-46f4-8969-b2c202bda603', 'shard': 3, 'time': datetime.datetime(2020, 1, 1, 2, 15, tzinfo=datetime.timezone.utc)}\n",
      "{'event_id': '32c5a3d6-696e-495a-865e-201d67a0c130', 'shard': 4, 'time': datetime.datetime(2020, 1, 1, 2, 30, tzinfo=datetime.timezone.utc)}\n",
      "{'event_id': 'f0eb05ee-3de8-45b2-8e30-d94b333dcf8e', 'shard': 2, 'time': datetime.datetime(2020, 1, 1, 2, 45, tzinfo=datetime.timezone.utc)}\n",
      "{'event_id': '4e86c670-7479-4f8d-a6a5-7be6da2b28d2', 'shard': 1, 'time': datetime.datetime(2020, 1, 1, 3, 0, tzinfo=datetime.timezone.utc)}\n",
      "{'event_id': '67a4eafc-4c5e-47a4-b146-86853b397061', 'shard': 2, 'time': datetime.datetime(2020, 1, 1, 3, 15, tzinfo=datetime.timezone.utc)}\n",
      "{'event_id': '761755e9-1e7b-4db4-b91b-f1448086608e', 'shard': 2, 'time': datetime.datetime(2020, 1, 1, 3, 30, tzinfo=datetime.timezone.utc)}\n",
      "{'event_id': 'ade806c7-0beb-4737-a1d2-c9ea33a08b37', 'shard': 3, 'time': datetime.datetime(2020, 1, 1, 3, 45, tzinfo=datetime.timezone.utc)}\n",
      "{'event_id': 'c0cf2d54-c425-428c-8fb1-b2088ec49bb7', 'shard': 3, 'time': datetime.datetime(2020, 1, 1, 4, 0, tzinfo=datetime.timezone.utc)}\n",
      "{'event_id': '881260c4-83e1-47c3-bd36-f05eebc9dddf', 'shard': 5, 'time': datetime.datetime(2020, 1, 1, 4, 15, tzinfo=datetime.timezone.utc)}\n",
      "{'event_id': '9ae5e225-6fc4-4ecb-9155-21d88c67ac25', 'shard': 2, 'time': datetime.datetime(2020, 1, 1, 4, 30, tzinfo=datetime.timezone.utc)}\n",
      "{'event_id': 'd1ed9205-1e49-4ae5-b824-2a6851b5caf3', 'shard': 1, 'time': datetime.datetime(2020, 1, 1, 4, 45, tzinfo=datetime.timezone.utc)}\n",
      "{'event_id': 'c11ae0ca-163a-4332-b118-bc065a52e549', 'shard': 5, 'time': datetime.datetime(2020, 1, 1, 5, 0, tzinfo=datetime.timezone.utc)}\n",
      "{'event_id': '44a4bb7b-1664-4cc9-a764-d459730a3518', 'shard': 5, 'time': datetime.datetime(2020, 1, 1, 5, 15, tzinfo=datetime.timezone.utc)}\n",
      "{'event_id': 'ec5a92bf-a351-483d-96cb-7787482349b8', 'shard': 4, 'time': datetime.datetime(2020, 1, 1, 5, 30, tzinfo=datetime.timezone.utc)}\n",
      "{'event_id': '4d323c8a-a3ef-4329-8589-b0e804c78f29', 'shard': 4, 'time': datetime.datetime(2020, 1, 1, 5, 45, tzinfo=datetime.timezone.utc)}\n",
      "{'event_id': '1bf67210-4a92-460d-8a00-715ed24c6aa8', 'shard': 2, 'time': datetime.datetime(2020, 1, 1, 6, 0, tzinfo=datetime.timezone.utc)}\n",
      "{'event_id': '310ee0f7-7d60-4adc-87a0-c137d51cf4f0', 'shard': 5, 'time': datetime.datetime(2020, 1, 1, 6, 15, tzinfo=datetime.timezone.utc)}\n",
      "{'event_id': '45da494e-1d98-4d6c-ad46-23211bb62d2b', 'shard': 4, 'time': datetime.datetime(2020, 1, 1, 6, 30, tzinfo=datetime.timezone.utc)}\n",
      "{'event_id': '350d93a9-9da7-41d3-b52f-a79d08633d8e', 'shard': 5, 'time': datetime.datetime(2020, 1, 1, 6, 45, tzinfo=datetime.timezone.utc)}\n",
      "{'event_id': '8ab1687a-4323-4184-b762-800731580d4e', 'shard': 4, 'time': datetime.datetime(2020, 1, 1, 7, 0, tzinfo=datetime.timezone.utc)}\n",
      "{'event_id': 'af50c5dd-b495-47bc-9ca8-d802dce45295', 'shard': 1, 'time': datetime.datetime(2020, 1, 1, 7, 15, tzinfo=datetime.timezone.utc)}\n",
      "{'event_id': '295c8743-86c6-4324-a0e4-8a954e704498', 'shard': 1, 'time': datetime.datetime(2020, 1, 1, 7, 30, tzinfo=datetime.timezone.utc)}\n",
      "{'event_id': '7f04a48a-1c32-43eb-8b82-8685ce925600', 'shard': 3, 'time': datetime.datetime(2020, 1, 1, 7, 45, tzinfo=datetime.timezone.utc)}\n",
      "{'event_id': 'bf1b171f-21de-423f-8299-4c89d4db937e', 'shard': 1, 'time': datetime.datetime(2020, 1, 1, 8, 0, tzinfo=datetime.timezone.utc)}\n",
      "{'event_id': '8cfda7a9-f9ab-4dfc-9c8c-8bafa87b9134', 'shard': 1, 'time': datetime.datetime(2020, 1, 1, 8, 15, tzinfo=datetime.timezone.utc)}\n",
      "{'event_id': '6bd0c666-5985-43e1-b05b-2c4933ea6700', 'shard': 2, 'time': datetime.datetime(2020, 1, 1, 8, 30, tzinfo=datetime.timezone.utc)}\n",
      "{'event_id': '0ace70d5-403f-46d4-993c-2add2ea4dc6a', 'shard': 2, 'time': datetime.datetime(2020, 1, 1, 8, 45, tzinfo=datetime.timezone.utc)}\n",
      "{'event_id': '40dba169-95c9-476b-9004-5ad91809d843', 'shard': 4, 'time': datetime.datetime(2020, 1, 1, 9, 0, tzinfo=datetime.timezone.utc)}\n",
      "{'event_id': '00c0ffbe-5a4f-45db-9e9a-b3dd731148fb', 'shard': 4, 'time': datetime.datetime(2020, 1, 1, 9, 15, tzinfo=datetime.timezone.utc)}\n",
      "{'event_id': '924db12e-569b-4a6b-a8b3-b707c1db235b', 'shard': 5, 'time': datetime.datetime(2020, 1, 1, 9, 30, tzinfo=datetime.timezone.utc)}\n",
      "{'event_id': '29776b28-5cd6-4e69-9944-82e31c41e020', 'shard': 3, 'time': datetime.datetime(2020, 1, 1, 9, 45, tzinfo=datetime.timezone.utc)}\n",
      "{'event_id': '0078ab6d-e0ce-4845-be14-0263084526ad', 'shard': 2, 'time': datetime.datetime(2020, 1, 1, 10, 0, tzinfo=datetime.timezone.utc)}\n",
      "{'event_id': 'afa193c0-5f99-4120-bd30-14e2ba99fb76', 'shard': 3, 'time': datetime.datetime(2020, 1, 1, 10, 15, tzinfo=datetime.timezone.utc)}\n",
      "{'event_id': 'c96519a3-2a9f-47c4-9923-4a59200d7868', 'shard': 3, 'time': datetime.datetime(2020, 1, 1, 10, 30, tzinfo=datetime.timezone.utc)}\n",
      "{'event_id': '9281e569-99db-4141-b442-e0043f0c2236', 'shard': 1, 'time': datetime.datetime(2020, 1, 1, 10, 45, tzinfo=datetime.timezone.utc)}\n",
      "{'event_id': '8e382870-ae59-4da3-afcf-956776d76b04', 'shard': 5, 'time': datetime.datetime(2020, 1, 1, 11, 0, tzinfo=datetime.timezone.utc)}\n",
      "{'event_id': '55bb45e9-8391-4103-a8b3-ee6ef9556ea3', 'shard': 4, 'time': datetime.datetime(2020, 1, 1, 11, 15, tzinfo=datetime.timezone.utc)}\n",
      "{'event_id': '14b814d5-0740-4bad-936f-06f41a877d55', 'shard': 2, 'time': datetime.datetime(2020, 1, 1, 11, 30, tzinfo=datetime.timezone.utc)}\n",
      "{'event_id': '3b4b73f8-dbd2-42a6-aa22-604a173cee11', 'shard': 4, 'time': datetime.datetime(2020, 1, 1, 11, 45, tzinfo=datetime.timezone.utc)}\n"
     ]
    }
   ],
   "source": [
    "def query_between_time_range(\n",
    "    start: datetime,\n",
    "    end: datetime,\n",
    "):\n",
    "    items = list()\n",
    "    for i in range(1, 1+n_shard):\n",
    "        res = Event.index.query(\n",
    "            hash_key=i, \n",
    "            range_key_condition=TimeIndex.time.between(start, end),\n",
    "        )\n",
    "        for item in res:\n",
    "            items.append(item)\n",
    "    return list(sorted(\n",
    "        items,\n",
    "        key=lambda item: item.time,\n",
    "    ))\n",
    "\n",
    "for i in query_between_time_range(\n",
    "    start=datetime(2020, 1, 1, tzinfo=timezone.utc),\n",
    "    end=datetime(2020, 1, 1, 11, 59, 59, tzinfo=timezone.utc),\n",
    "):\n",
    "    print(i.attribute_values)"
   ],
   "metadata": {
    "collapsed": false,
    "ExecuteTime": {
     "end_time": "2024-05-06T19:54:46.397130Z",
     "start_time": "2024-05-06T19:54:46.170532Z"
    }
   },
   "id": "407ee9547309264",
   "execution_count": 32
  }
 ],
 "metadata": {
  "kernelspec": {
   "display_name": "Python 3 (ipykernel)",
   "language": "python",
   "name": "python3"
  },
  "language_info": {
   "codemirror_mode": {
    "name": "ipython",
    "version": 3
   },
   "file_extension": ".py",
   "mimetype": "text/x-python",
   "name": "python",
   "nbconvert_exporter": "python",
   "pygments_lexer": "ipython3",
   "version": "3.10.10"
  }
 },
 "nbformat": 4,
 "nbformat_minor": 5
}
