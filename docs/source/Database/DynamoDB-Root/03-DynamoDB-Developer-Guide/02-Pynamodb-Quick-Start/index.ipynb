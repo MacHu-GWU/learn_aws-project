{
 "cells": [
  {
   "cell_type": "markdown",
   "id": "04e99be9-f8fc-4c66-86db-f5f8ce25bfdb",
   "metadata": {},
   "source": [
    "# Pynamodb Quick Start\n",
    "\n",
    "## Overview\n",
    "\n",
    "``Pynamodb``, an ORM (Object-Relational Mapping) library for DynamoDB, addresses these challenges by providing a more intuitive and Pythonic way to interact with DynamoDB. With Pynamodb, you can define your data models using Python classes and access DynamoDB tables and items using familiar object-oriented syntax.\n",
    "\n",
    "Pynamodb abstracts away the complexities of the low-level DynamoDB API, providing a higher-level and more readable interface. It handles the data type conversions automatically, allowing you to work with native Python data types directly. This simplifies the code, reduces the chances of errors, and improves overall productivity.\n",
    "\n",
    "By using Pynamodb, developers can focus on writing business logic and application code, rather than wrestling with the intricacies of the DynamoDB API. The library takes care of the heavy lifting, making it easier to perform common operations like querying, filtering, and updating data in DynamoDB tables."
   ]
  },
  {
   "cell_type": "markdown",
   "id": "1c7fa843-4b29-4efb-9e0d-a54fa4bde96d",
   "metadata": {},
   "source": [
    "## Without pynamodb\n",
    "\n",
    "When working with Amazon DynamoDB using the low-level API directly, developers often face two significant challenges: complex API syntax and verbose data type conversions.\n",
    "\n",
    "1. **Complex API Syntax**: The DynamoDB API is highly complex and lacks human-intuitive naming conventions. The API methods and parameters are often lengthy and difficult to memorize, requiring developers to constantly refer to the official documentation and copy-paste exact syntax. This complexity can lead to increased development time, reduced code readability, and a higher likelihood of making errors.\n",
    "2. **Verbose Data Type Conversions**: the DynamoDB API requires developers to convert data types explicitly when interacting with the API. This means that before making any API call, you need to convert Python data types (e.g., strings, integers, booleans) into their corresponding DynamoDB data types (e.g., 'S' for string, 'N' for number, 'BOOL' for boolean)."
   ]
  },
  {
   "cell_type": "code",
   "execution_count": 37,
   "id": "0497c531-383c-4706-92b3-7bccbd80e76f",
   "metadata": {},
   "outputs": [
    {
     "data": {
      "text/html": [
       "<pre style=\"white-space:pre;overflow-x:auto;line-height:normal;font-family:Menlo,'DejaVu Sans Mono',consolas,'Courier New',monospace\"><span style=\"font-weight: bold\">{</span>\n",
       "    <span style=\"color: #008000; text-decoration-color: #008000\">'TableDescription'</span>: <span style=\"font-weight: bold\">{</span>\n",
       "        <span style=\"color: #008000; text-decoration-color: #008000\">'AttributeDefinitions'</span>: <span style=\"font-weight: bold\">[{</span><span style=\"color: #008000; text-decoration-color: #008000\">'AttributeName'</span>: <span style=\"color: #008000; text-decoration-color: #008000\">'user_id'</span>, <span style=\"color: #008000; text-decoration-color: #008000\">'AttributeType'</span>: <span style=\"color: #008000; text-decoration-color: #008000\">'S'</span><span style=\"font-weight: bold\">}]</span>,\n",
       "        <span style=\"color: #008000; text-decoration-color: #008000\">'TableName'</span>: <span style=\"color: #008000; text-decoration-color: #008000\">'without_pynamodb_example'</span>,\n",
       "        <span style=\"color: #008000; text-decoration-color: #008000\">'KeySchema'</span>: <span style=\"font-weight: bold\">[{</span><span style=\"color: #008000; text-decoration-color: #008000\">'AttributeName'</span>: <span style=\"color: #008000; text-decoration-color: #008000\">'user_id'</span>, <span style=\"color: #008000; text-decoration-color: #008000\">'KeyType'</span>: <span style=\"color: #008000; text-decoration-color: #008000\">'HASH'</span><span style=\"font-weight: bold\">}]</span>,\n",
       "        <span style=\"color: #008000; text-decoration-color: #008000\">'TableStatus'</span>: <span style=\"color: #008000; text-decoration-color: #008000\">'CREATING'</span>,\n",
       "        <span style=\"color: #008000; text-decoration-color: #008000\">'CreationDateTime'</span>: <span style=\"color: #800080; text-decoration-color: #800080; font-weight: bold\">datetime.datetime</span><span style=\"font-weight: bold\">(</span><span style=\"color: #008080; text-decoration-color: #008080; font-weight: bold\">2024</span>, <span style=\"color: #008080; text-decoration-color: #008080; font-weight: bold\">5</span>, <span style=\"color: #008080; text-decoration-color: #008080; font-weight: bold\">6</span>, <span style=\"color: #008080; text-decoration-color: #008080; font-weight: bold\">0</span>, <span style=\"color: #008080; text-decoration-color: #008080; font-weight: bold\">51</span>, <span style=\"color: #008080; text-decoration-color: #008080; font-weight: bold\">29</span>, <span style=\"color: #008080; text-decoration-color: #008080; font-weight: bold\">100000</span>, <span style=\"color: #808000; text-decoration-color: #808000\">tzinfo</span>=<span style=\"color: #800080; text-decoration-color: #800080; font-weight: bold\">tzlocal</span><span style=\"font-weight: bold\">())</span>,\n",
       "        <span style=\"color: #008000; text-decoration-color: #008000\">'ProvisionedThroughput'</span>: <span style=\"font-weight: bold\">{</span><span style=\"color: #008000; text-decoration-color: #008000\">'NumberOfDecreasesToday'</span>: <span style=\"color: #008080; text-decoration-color: #008080; font-weight: bold\">0</span>, <span style=\"color: #008000; text-decoration-color: #008000\">'ReadCapacityUnits'</span>: <span style=\"color: #008080; text-decoration-color: #008080; font-weight: bold\">0</span>, <span style=\"color: #008000; text-decoration-color: #008000\">'WriteCapacityUnits'</span>: <span style=\"color: #008080; text-decoration-color: #008080; font-weight: bold\">0</span><span style=\"font-weight: bold\">}</span>,\n",
       "        <span style=\"color: #008000; text-decoration-color: #008000\">'TableSizeBytes'</span>: <span style=\"color: #008080; text-decoration-color: #008080; font-weight: bold\">0</span>,\n",
       "        <span style=\"color: #008000; text-decoration-color: #008000\">'ItemCount'</span>: <span style=\"color: #008080; text-decoration-color: #008080; font-weight: bold\">0</span>,\n",
       "        <span style=\"color: #008000; text-decoration-color: #008000\">'TableArn'</span>: <span style=\"color: #008000; text-decoration-color: #008000\">'arn:aws:dynamodb:us-east-1:878625312159:table/without_pynamodb_example'</span>,\n",
       "        <span style=\"color: #008000; text-decoration-color: #008000\">'TableId'</span>: <span style=\"color: #008000; text-decoration-color: #008000\">'83e80b6a-2101-422c-afaa-164c0fd8cfaf'</span>,\n",
       "        <span style=\"color: #008000; text-decoration-color: #008000\">'BillingModeSummary'</span>: <span style=\"font-weight: bold\">{</span><span style=\"color: #008000; text-decoration-color: #008000\">'BillingMode'</span>: <span style=\"color: #008000; text-decoration-color: #008000\">'PAY_PER_REQUEST'</span><span style=\"font-weight: bold\">}</span>\n",
       "    <span style=\"font-weight: bold\">}</span>,\n",
       "    <span style=\"color: #008000; text-decoration-color: #008000\">'ResponseMetadata'</span>: <span style=\"font-weight: bold\">{</span>\n",
       "        <span style=\"color: #008000; text-decoration-color: #008000\">'RequestId'</span>: <span style=\"color: #008000; text-decoration-color: #008000\">'DCFFQHQ46954G13B2PHU9ANJTNVV4KQNSO5AEMVJF66Q9ASUAAJG'</span>,\n",
       "        <span style=\"color: #008000; text-decoration-color: #008000\">'HTTPStatusCode'</span>: <span style=\"color: #008080; text-decoration-color: #008080; font-weight: bold\">200</span>,\n",
       "        <span style=\"color: #008000; text-decoration-color: #008000\">'HTTPHeaders'</span>: <span style=\"font-weight: bold\">{</span>\n",
       "            <span style=\"color: #008000; text-decoration-color: #008000\">'server'</span>: <span style=\"color: #008000; text-decoration-color: #008000\">'Server'</span>,\n",
       "            <span style=\"color: #008000; text-decoration-color: #008000\">'date'</span>: <span style=\"color: #008000; text-decoration-color: #008000\">'Mon, 06 May 2024 04:51:29 GMT'</span>,\n",
       "            <span style=\"color: #008000; text-decoration-color: #008000\">'content-type'</span>: <span style=\"color: #008000; text-decoration-color: #008000\">'application/x-amz-json-1.0'</span>,\n",
       "            <span style=\"color: #008000; text-decoration-color: #008000\">'content-length'</span>: <span style=\"color: #008000; text-decoration-color: #008000\">'676'</span>,\n",
       "            <span style=\"color: #008000; text-decoration-color: #008000\">'connection'</span>: <span style=\"color: #008000; text-decoration-color: #008000\">'keep-alive'</span>,\n",
       "            <span style=\"color: #008000; text-decoration-color: #008000\">'x-amzn-requestid'</span>: <span style=\"color: #008000; text-decoration-color: #008000\">'DCFFQHQ46954G13B2PHU9ANJTNVV4KQNSO5AEMVJF66Q9ASUAAJG'</span>,\n",
       "            <span style=\"color: #008000; text-decoration-color: #008000\">'x-amz-crc32'</span>: <span style=\"color: #008000; text-decoration-color: #008000\">'2352933615'</span>\n",
       "        <span style=\"font-weight: bold\">}</span>,\n",
       "        <span style=\"color: #008000; text-decoration-color: #008000\">'RetryAttempts'</span>: <span style=\"color: #008080; text-decoration-color: #008080; font-weight: bold\">0</span>\n",
       "    <span style=\"font-weight: bold\">}</span>\n",
       "<span style=\"font-weight: bold\">}</span>\n",
       "</pre>\n"
      ],
      "text/plain": [
       "\u001b[1m{\u001b[0m\n",
       "    \u001b[32m'TableDescription'\u001b[0m: \u001b[1m{\u001b[0m\n",
       "        \u001b[32m'AttributeDefinitions'\u001b[0m: \u001b[1m[\u001b[0m\u001b[1m{\u001b[0m\u001b[32m'AttributeName'\u001b[0m: \u001b[32m'user_id'\u001b[0m, \u001b[32m'AttributeType'\u001b[0m: \u001b[32m'S'\u001b[0m\u001b[1m}\u001b[0m\u001b[1m]\u001b[0m,\n",
       "        \u001b[32m'TableName'\u001b[0m: \u001b[32m'without_pynamodb_example'\u001b[0m,\n",
       "        \u001b[32m'KeySchema'\u001b[0m: \u001b[1m[\u001b[0m\u001b[1m{\u001b[0m\u001b[32m'AttributeName'\u001b[0m: \u001b[32m'user_id'\u001b[0m, \u001b[32m'KeyType'\u001b[0m: \u001b[32m'HASH'\u001b[0m\u001b[1m}\u001b[0m\u001b[1m]\u001b[0m,\n",
       "        \u001b[32m'TableStatus'\u001b[0m: \u001b[32m'CREATING'\u001b[0m,\n",
       "        \u001b[32m'CreationDateTime'\u001b[0m: \u001b[1;35mdatetime.datetime\u001b[0m\u001b[1m(\u001b[0m\u001b[1;36m2024\u001b[0m, \u001b[1;36m5\u001b[0m, \u001b[1;36m6\u001b[0m, \u001b[1;36m0\u001b[0m, \u001b[1;36m51\u001b[0m, \u001b[1;36m29\u001b[0m, \u001b[1;36m100000\u001b[0m, \u001b[33mtzinfo\u001b[0m=\u001b[1;35mtzlocal\u001b[0m\u001b[1m(\u001b[0m\u001b[1m)\u001b[0m\u001b[1m)\u001b[0m,\n",
       "        \u001b[32m'ProvisionedThroughput'\u001b[0m: \u001b[1m{\u001b[0m\u001b[32m'NumberOfDecreasesToday'\u001b[0m: \u001b[1;36m0\u001b[0m, \u001b[32m'ReadCapacityUnits'\u001b[0m: \u001b[1;36m0\u001b[0m, \u001b[32m'WriteCapacityUnits'\u001b[0m: \u001b[1;36m0\u001b[0m\u001b[1m}\u001b[0m,\n",
       "        \u001b[32m'TableSizeBytes'\u001b[0m: \u001b[1;36m0\u001b[0m,\n",
       "        \u001b[32m'ItemCount'\u001b[0m: \u001b[1;36m0\u001b[0m,\n",
       "        \u001b[32m'TableArn'\u001b[0m: \u001b[32m'arn:aws:dynamodb:us-east-1:878625312159:table/without_pynamodb_example'\u001b[0m,\n",
       "        \u001b[32m'TableId'\u001b[0m: \u001b[32m'83e80b6a-2101-422c-afaa-164c0fd8cfaf'\u001b[0m,\n",
       "        \u001b[32m'BillingModeSummary'\u001b[0m: \u001b[1m{\u001b[0m\u001b[32m'BillingMode'\u001b[0m: \u001b[32m'PAY_PER_REQUEST'\u001b[0m\u001b[1m}\u001b[0m\n",
       "    \u001b[1m}\u001b[0m,\n",
       "    \u001b[32m'ResponseMetadata'\u001b[0m: \u001b[1m{\u001b[0m\n",
       "        \u001b[32m'RequestId'\u001b[0m: \u001b[32m'DCFFQHQ46954G13B2PHU9ANJTNVV4KQNSO5AEMVJF66Q9ASUAAJG'\u001b[0m,\n",
       "        \u001b[32m'HTTPStatusCode'\u001b[0m: \u001b[1;36m200\u001b[0m,\n",
       "        \u001b[32m'HTTPHeaders'\u001b[0m: \u001b[1m{\u001b[0m\n",
       "            \u001b[32m'server'\u001b[0m: \u001b[32m'Server'\u001b[0m,\n",
       "            \u001b[32m'date'\u001b[0m: \u001b[32m'Mon, 06 May 2024 04:51:29 GMT'\u001b[0m,\n",
       "            \u001b[32m'content-type'\u001b[0m: \u001b[32m'application/x-amz-json-1.0'\u001b[0m,\n",
       "            \u001b[32m'content-length'\u001b[0m: \u001b[32m'676'\u001b[0m,\n",
       "            \u001b[32m'connection'\u001b[0m: \u001b[32m'keep-alive'\u001b[0m,\n",
       "            \u001b[32m'x-amzn-requestid'\u001b[0m: \u001b[32m'DCFFQHQ46954G13B2PHU9ANJTNVV4KQNSO5AEMVJF66Q9ASUAAJG'\u001b[0m,\n",
       "            \u001b[32m'x-amz-crc32'\u001b[0m: \u001b[32m'2352933615'\u001b[0m\n",
       "        \u001b[1m}\u001b[0m,\n",
       "        \u001b[32m'RetryAttempts'\u001b[0m: \u001b[1;36m0\u001b[0m\n",
       "    \u001b[1m}\u001b[0m\n",
       "\u001b[1m}\u001b[0m\n"
      ]
     },
     "metadata": {},
     "output_type": "display_data"
    }
   ],
   "source": [
    "import boto3\n",
    "from rich import print as rprint\n",
    "\n",
    "aws_profile = \"bmt_app_dev_us_east_1\"\n",
    "\n",
    "dynamodb_client = boto3.session.Session(profile_name=aws_profile).client(\"dynamodb\")\n",
    "\n",
    "res = dynamodb_client.create_table(\n",
    "    TableName=\"without_pynamodb_example\",\n",
    "    KeySchema=[\n",
    "        {\"AttributeName\": \"user_id\", \"KeyType\": \"HASH\"},\n",
    "    ],\n",
    "    AttributeDefinitions=[\n",
    "        {\"AttributeName\": \"user_id\", \"AttributeType\": \"S\"},\n",
    "    ],\n",
    "    BillingMode=\"PAY_PER_REQUEST\",\n",
    ")\n",
    "rprint(res)"
   ]
  },
  {
   "cell_type": "code",
   "execution_count": 38,
   "id": "495d054e-a738-48bf-8072-5bf2eccf4fc5",
   "metadata": {},
   "outputs": [
    {
     "data": {
      "text/html": [
       "<pre style=\"white-space:pre;overflow-x:auto;line-height:normal;font-family:Menlo,'DejaVu Sans Mono',consolas,'Courier New',monospace\"><span style=\"font-weight: bold\">{</span>\n",
       "    <span style=\"color: #008000; text-decoration-color: #008000\">'ResponseMetadata'</span>: <span style=\"font-weight: bold\">{</span>\n",
       "        <span style=\"color: #008000; text-decoration-color: #008000\">'RequestId'</span>: <span style=\"color: #008000; text-decoration-color: #008000\">'UF5AVJQL2BT5GPSLFEK5GTUNEVVV4KQNSO5AEMVJF66Q9ASUAAJG'</span>,\n",
       "        <span style=\"color: #008000; text-decoration-color: #008000\">'HTTPStatusCode'</span>: <span style=\"color: #008080; text-decoration-color: #008080; font-weight: bold\">200</span>,\n",
       "        <span style=\"color: #008000; text-decoration-color: #008000\">'HTTPHeaders'</span>: <span style=\"font-weight: bold\">{</span>\n",
       "            <span style=\"color: #008000; text-decoration-color: #008000\">'server'</span>: <span style=\"color: #008000; text-decoration-color: #008000\">'Server'</span>,\n",
       "            <span style=\"color: #008000; text-decoration-color: #008000\">'date'</span>: <span style=\"color: #008000; text-decoration-color: #008000\">'Mon, 06 May 2024 04:51:41 GMT'</span>,\n",
       "            <span style=\"color: #008000; text-decoration-color: #008000\">'content-type'</span>: <span style=\"color: #008000; text-decoration-color: #008000\">'application/x-amz-json-1.0'</span>,\n",
       "            <span style=\"color: #008000; text-decoration-color: #008000\">'content-length'</span>: <span style=\"color: #008000; text-decoration-color: #008000\">'2'</span>,\n",
       "            <span style=\"color: #008000; text-decoration-color: #008000\">'connection'</span>: <span style=\"color: #008000; text-decoration-color: #008000\">'keep-alive'</span>,\n",
       "            <span style=\"color: #008000; text-decoration-color: #008000\">'x-amzn-requestid'</span>: <span style=\"color: #008000; text-decoration-color: #008000\">'UF5AVJQL2BT5GPSLFEK5GTUNEVVV4KQNSO5AEMVJF66Q9ASUAAJG'</span>,\n",
       "            <span style=\"color: #008000; text-decoration-color: #008000\">'x-amz-crc32'</span>: <span style=\"color: #008000; text-decoration-color: #008000\">'2745614147'</span>\n",
       "        <span style=\"font-weight: bold\">}</span>,\n",
       "        <span style=\"color: #008000; text-decoration-color: #008000\">'RetryAttempts'</span>: <span style=\"color: #008080; text-decoration-color: #008080; font-weight: bold\">0</span>\n",
       "    <span style=\"font-weight: bold\">}</span>\n",
       "<span style=\"font-weight: bold\">}</span>\n",
       "</pre>\n"
      ],
      "text/plain": [
       "\u001b[1m{\u001b[0m\n",
       "    \u001b[32m'ResponseMetadata'\u001b[0m: \u001b[1m{\u001b[0m\n",
       "        \u001b[32m'RequestId'\u001b[0m: \u001b[32m'UF5AVJQL2BT5GPSLFEK5GTUNEVVV4KQNSO5AEMVJF66Q9ASUAAJG'\u001b[0m,\n",
       "        \u001b[32m'HTTPStatusCode'\u001b[0m: \u001b[1;36m200\u001b[0m,\n",
       "        \u001b[32m'HTTPHeaders'\u001b[0m: \u001b[1m{\u001b[0m\n",
       "            \u001b[32m'server'\u001b[0m: \u001b[32m'Server'\u001b[0m,\n",
       "            \u001b[32m'date'\u001b[0m: \u001b[32m'Mon, 06 May 2024 04:51:41 GMT'\u001b[0m,\n",
       "            \u001b[32m'content-type'\u001b[0m: \u001b[32m'application/x-amz-json-1.0'\u001b[0m,\n",
       "            \u001b[32m'content-length'\u001b[0m: \u001b[32m'2'\u001b[0m,\n",
       "            \u001b[32m'connection'\u001b[0m: \u001b[32m'keep-alive'\u001b[0m,\n",
       "            \u001b[32m'x-amzn-requestid'\u001b[0m: \u001b[32m'UF5AVJQL2BT5GPSLFEK5GTUNEVVV4KQNSO5AEMVJF66Q9ASUAAJG'\u001b[0m,\n",
       "            \u001b[32m'x-amz-crc32'\u001b[0m: \u001b[32m'2745614147'\u001b[0m\n",
       "        \u001b[1m}\u001b[0m,\n",
       "        \u001b[32m'RetryAttempts'\u001b[0m: \u001b[1;36m0\u001b[0m\n",
       "    \u001b[1m}\u001b[0m\n",
       "\u001b[1m}\u001b[0m\n"
      ]
     },
     "metadata": {},
     "output_type": "display_data"
    }
   ],
   "source": [
    "# Insert item\n",
    "res = dynamodb_client.put_item(\n",
    "    TableName=\"without_pynamodb_example\",\n",
    "    # complicate data type adaptor\n",
    "    Item={\n",
    "        \"user_id\": {\"S\": \"uid-1\"},\n",
    "        # if it is not string type, you need additional code to convert the raw value to string\n",
    "        \"email\": {\"S\": \"alice@example.com\"},\n",
    "    }\n",
    ")\n",
    "rprint(res)"
   ]
  },
  {
   "cell_type": "code",
   "execution_count": 39,
   "id": "0122454a-e9dd-41ad-88e7-d9dbb8426650",
   "metadata": {},
   "outputs": [
    {
     "name": "stdout",
     "output_type": "stream",
     "text": [
      "user uid-1's email is alice@example.com\n"
     ]
    }
   ],
   "source": [
    "# Query\n",
    "response = dynamodb_client.query(\n",
    "    TableName=\"without_pynamodb_example\",\n",
    "    KeyConditions={\n",
    "        \"user_id\": {\n",
    "            \"AttributeValueList\": [\n",
    "                {\"S\": \"uid-1\"}\n",
    "            ],\n",
    "            \"ComparisonOperator\": \"EQ\",\n",
    "        }\n",
    "    }\n",
    ")\n",
    "for item_dict in response[\"Items\"]:\n",
    "    # you need additional code to convert the item back to native python dictionary\n",
    "    email = item_dict[\"email\"][\"S\"] # if it is not string type, you need additional code to convert it back to raw value, like integer, binary ...\n",
    "    print(f\"user uid-1's email is {email}\")"
   ]
  },
  {
   "cell_type": "markdown",
   "id": "e00810b3-44da-4773-8581-b6c6815e0150",
   "metadata": {},
   "source": [
    "## With pynamodb\n",
    "\n",
    "Python offers a wide range of data class and ORM (Object-Relational Mapping) libraries that simplify working with data and databases. Some popular examples include ``dataclasses``, ``attrs``, ``pydantic``, ``peewee``, ``sqlalchemy``, and ``django-orm``. These libraries provide a convenient way to define data structures, validate data, and interact with databases using an object-oriented approach.\n",
    "\n",
    "When it comes to working with Amazon DynamoDB, ``pynamodb`` stands out as a powerful and intuitive ORM library specifically designed for DynamoDB. With ``pynamodb``, you can define your data models as Python classes, specifying attributes and their types. This declarative style of defining data models makes your code more readable and maintainable.\n",
    "\n",
    "One of the key advantages of using ``pynamodb`` is its human-friendly API for performing CRUD (Create, Read, Update, Delete) operations. Instead of dealing with the low-level DynamoDB API, ``pynamodb`` provides a high-level and intuitive interface that abstracts away the complexities."
   ]
  },
  {
   "cell_type": "code",
   "execution_count": 40,
   "id": "2b5f9e7b-2f1b-4750-abd9-830a9a57d0ca",
   "metadata": {},
   "outputs": [],
   "source": [
    "# Authenticate to AWS\n",
    "from pynamodb.connection import Connection\n",
    "\n",
    "boto_ses = boto3.session.Session(profile_name=aws_profile)\n",
    "credentials = boto_ses.get_credentials()\n",
    "connect = Connection(\n",
    "    aws_access_key_id=credentials.access_key, \n",
    "    aws_secret_access_key=credentials.secret_key, \n",
    "    aws_session_token=credentials.token,\n",
    ")"
   ]
  },
  {
   "cell_type": "code",
   "execution_count": 41,
   "id": "97a3db3a-2cc2-4e7b-85f0-bf6b971a4ef2",
   "metadata": {},
   "outputs": [],
   "source": [
    "# Declare data model\n",
    "from pynamodb.models import Model, PAY_PER_REQUEST_BILLING_MODE\n",
    "from pynamodb.attributes import UnicodeAttribute\n",
    "\n",
    "class User(Model):\n",
    "    class Meta:\n",
    "        table_name = \"with_pynamodb_example\"\n",
    "        region = \"us-east-1\"\n",
    "        billing_mode = PAY_PER_REQUEST_BILLING_MODE\n",
    "\n",
    "    user_id = UnicodeAttribute(hash_key=True)\n",
    "    email = UnicodeAttribute()\n",
    "\n",
    "User.create_table(wait=True)"
   ]
  },
  {
   "cell_type": "code",
   "execution_count": 42,
   "id": "dc42eff6-2915-41d3-bc4e-34e20e4f1389",
   "metadata": {},
   "outputs": [
    {
     "data": {
      "text/html": [
       "<pre style=\"white-space:pre;overflow-x:auto;line-height:normal;font-family:Menlo,'DejaVu Sans Mono',consolas,'Courier New',monospace\"><span style=\"font-weight: bold\">{</span><span style=\"color: #008000; text-decoration-color: #008000\">'ConsumedCapacity'</span>: <span style=\"font-weight: bold\">{</span><span style=\"color: #008000; text-decoration-color: #008000\">'CapacityUnits'</span>: <span style=\"color: #008080; text-decoration-color: #008080; font-weight: bold\">1.0</span>, <span style=\"color: #008000; text-decoration-color: #008000\">'TableName'</span>: <span style=\"color: #008000; text-decoration-color: #008000\">'with_pynamodb_example'</span><span style=\"font-weight: bold\">}}</span>\n",
       "</pre>\n"
      ],
      "text/plain": [
       "\u001b[1m{\u001b[0m\u001b[32m'ConsumedCapacity'\u001b[0m: \u001b[1m{\u001b[0m\u001b[32m'CapacityUnits'\u001b[0m: \u001b[1;36m1.0\u001b[0m, \u001b[32m'TableName'\u001b[0m: \u001b[32m'with_pynamodb_example'\u001b[0m\u001b[1m}\u001b[0m\u001b[1m}\u001b[0m\n"
      ]
     },
     "metadata": {},
     "output_type": "display_data"
    }
   ],
   "source": [
    "# Insert item\n",
    "# pass in value as it is, no convertion needed\n",
    "user = User(user_id=\"uid-1\", email=\"alice@example.com\")\n",
    "rprint(user.save())"
   ]
  },
  {
   "cell_type": "code",
   "execution_count": 43,
   "id": "cc56c52f-8a18-41c3-96b5-6ca772c09771",
   "metadata": {},
   "outputs": [
    {
     "data": {
      "text/html": [
       "<pre style=\"white-space:pre;overflow-x:auto;line-height:normal;font-family:Menlo,'DejaVu Sans Mono',consolas,'Courier New',monospace\"><span style=\"font-weight: bold\">{</span><span style=\"color: #008000; text-decoration-color: #008000\">'email'</span>: <span style=\"color: #008000; text-decoration-color: #008000\">'alice@example.com'</span>, <span style=\"color: #008000; text-decoration-color: #008000\">'user_id'</span>: <span style=\"color: #008000; text-decoration-color: #008000\">'uid-1'</span><span style=\"font-weight: bold\">}</span>\n",
       "</pre>\n"
      ],
      "text/plain": [
       "\u001b[1m{\u001b[0m\u001b[32m'email'\u001b[0m: \u001b[32m'alice@example.com'\u001b[0m, \u001b[32m'user_id'\u001b[0m: \u001b[32m'uid-1'\u001b[0m\u001b[1m}\u001b[0m\n"
      ]
     },
     "metadata": {},
     "output_type": "display_data"
    },
    {
     "name": "stdout",
     "output_type": "stream",
     "text": [
      "user uid-1's email is alice@example.com\n"
     ]
    }
   ],
   "source": [
    "# Query \n",
    "for user in User.query(hash_key=\"uid-1\"):\n",
    "    # visit dictionary view\n",
    "    rprint(user.attribute_values)\n",
    "    # visit raw value as it is\n",
    "    print(f\"user uid-1's email is {user.email}\")"
   ]
  },
  {
   "cell_type": "markdown",
   "id": "3fc35bba-9c0e-4a43-96c0-1e407ea0eed5",
   "metadata": {},
   "source": [
    "## Sample Code - Single Data Model, No Relationship\n",
    "\n",
    "In this example, I will demonstrate:\n",
    "\n",
    "1. How to create a data model (declare a DynamoDB table) in ``pynamodb``.\n",
    "2. How to do basic CRUD operations:\n",
    "   - Create:\n",
    "      - insert one item\n",
    "      - bulk insert\n",
    "   - Read:\n",
    "      - query by keys\n",
    "      - filter by non-keys attribute\n",
    "   - Update:\n",
    "      - full replacement\n",
    "      - key / value update (recommended for most of scenario)\n",
    "   - Delete"
   ]
  },
  {
   "cell_type": "code",
   "execution_count": 44,
   "id": "a6150385-6911-4657-8deb-2540dc4e44b1",
   "metadata": {},
   "outputs": [],
   "source": [
    "# Authenticate to AWS\n",
    "\n",
    "import boto3\n",
    "\n",
    "import pynamodb\n",
    "from pynamodb.models import Model\n",
    "from pynamodb.connection import Connection\n",
    "from pynamodb.attributes import UnicodeAttribute, NumberAttribute\n",
    "\n",
    "# create boto3 dynamodb client connection using user-defined boto session\n",
    "boto_ses = boto3.session.Session(profile_name=aws_profile)\n",
    "credentials = boto_ses.get_credentials()\n",
    "connection = Connection(\n",
    "    aws_access_key_id=credentials.access_key, \n",
    "    aws_secret_access_key=credentials.secret_key, \n",
    "    aws_session_token=credentials.token,\n",
    ")"
   ]
  },
  {
   "cell_type": "code",
   "execution_count": 45,
   "id": "977113c2-d4ab-4925-988b-63b80104a714",
   "metadata": {},
   "outputs": [],
   "source": [
    "# Declare bank account data model, create table\n",
    "class Accounts(Model):\n",
    "    class Meta:\n",
    "        \"\"\"\n",
    "        declare metadata about the table.\n",
    "        \"\"\"\n",
    "        table_name = \"accounts\"\n",
    "        region = \"us-east-1\"\n",
    "\n",
    "        # billing mode\n",
    "        # doc: https://docs.aws.amazon.com/amazondynamodb/latest/developerguide/HowItWorks.ReadWriteCapacityMode.html\n",
    "        # pay as you go mode\n",
    "        billing_mode = pynamodb.models.PAY_PER_REQUEST_BILLING_MODE\n",
    "\n",
    "        # provisioned mode\n",
    "        # write_capacity_units = 10\n",
    "        # read_capacity_units = 10\n",
    "\n",
    "    # define attributes\n",
    "    account_id = UnicodeAttribute(hash_key=True)\n",
    "    primary_holder_email = UnicodeAttribute()\n",
    "    balance = NumberAttribute(default=0) # set default value for attribute\n",
    "    create_time = UnicodeAttribute()\n",
    "    description = UnicodeAttribute(null=True) # allow null value for this attribute\n",
    "\n",
    "\n",
    "# Create dynamodb table if not exists, if already exists, this code won't do anything\n",
    "Accounts.create_table(wait=True)"
   ]
  },
  {
   "cell_type": "code",
   "execution_count": 46,
   "id": "2d9195be-0747-45b9-be18-fd28e462e1c6",
   "metadata": {},
   "outputs": [
    {
     "data": {
      "text/html": [
       "<pre style=\"white-space:pre;overflow-x:auto;line-height:normal;font-family:Menlo,'DejaVu Sans Mono',consolas,'Courier New',monospace\"><span style=\"font-weight: bold\">{</span><span style=\"color: #008000; text-decoration-color: #008000\">'ConsumedCapacity'</span>: <span style=\"font-weight: bold\">{</span><span style=\"color: #008000; text-decoration-color: #008000\">'CapacityUnits'</span>: <span style=\"color: #008080; text-decoration-color: #008080; font-weight: bold\">1.0</span>, <span style=\"color: #008000; text-decoration-color: #008000\">'TableName'</span>: <span style=\"color: #008000; text-decoration-color: #008000\">'accounts'</span><span style=\"font-weight: bold\">}}</span>\n",
       "</pre>\n"
      ],
      "text/plain": [
       "\u001b[1m{\u001b[0m\u001b[32m'ConsumedCapacity'\u001b[0m: \u001b[1m{\u001b[0m\u001b[32m'CapacityUnits'\u001b[0m: \u001b[1;36m1.0\u001b[0m, \u001b[32m'TableName'\u001b[0m: \u001b[32m'accounts'\u001b[0m\u001b[1m}\u001b[0m\u001b[1m}\u001b[0m\n"
      ]
     },
     "metadata": {},
     "output_type": "display_data"
    }
   ],
   "source": [
    "# Insert one item\n",
    "account = Accounts(\n",
    "    account_id=\"111-111-1111\",\n",
    "    primary_holder_email=\"alice@example.com\",\n",
    "    balance=0,\n",
    "    create_time=\"2000-01-01 10:00:00\",\n",
    "    description=\"alice's account\"\n",
    ")\n",
    "rprint(account.save())"
   ]
  },
  {
   "cell_type": "code",
   "execution_count": 47,
   "id": "6ea10e59-ea8c-4ad4-8a3f-5a7588701ee2",
   "metadata": {},
   "outputs": [
    {
     "name": "stdout",
     "output_type": "stream",
     "text": [
      "account.balance = 0\n"
     ]
    },
    {
     "data": {
      "text/html": [
       "<pre style=\"white-space:pre;overflow-x:auto;line-height:normal;font-family:Menlo,'DejaVu Sans Mono',consolas,'Courier New',monospace\">account.attribute_values = <span style=\"font-weight: bold\">{</span><span style=\"color: #008000; text-decoration-color: #008000\">'balance'</span>: <span style=\"color: #008080; text-decoration-color: #008080; font-weight: bold\">0</span>, <span style=\"color: #008000; text-decoration-color: #008000\">'account_id'</span>: <span style=\"color: #008000; text-decoration-color: #008000\">'111-111-1111'</span>, <span style=\"color: #008000; text-decoration-color: #008000\">'create_time'</span>: <span style=\"color: #008000; text-decoration-color: #008000\">'2000-01-01 10:00:00'</span>, \n",
       "<span style=\"color: #008000; text-decoration-color: #008000\">'description'</span>: <span style=\"color: #008000; text-decoration-color: #008000\">\"alice's account\"</span>, <span style=\"color: #008000; text-decoration-color: #008000\">'primary_holder_email'</span>: <span style=\"color: #008000; text-decoration-color: #008000\">'alice@example.com'</span><span style=\"font-weight: bold\">}</span>\n",
       "</pre>\n"
      ],
      "text/plain": [
       "account.attribute_values = \u001b[1m{\u001b[0m\u001b[32m'balance'\u001b[0m: \u001b[1;36m0\u001b[0m, \u001b[32m'account_id'\u001b[0m: \u001b[32m'111-111-1111'\u001b[0m, \u001b[32m'create_time'\u001b[0m: \u001b[32m'2000-01-01 10:00:00'\u001b[0m, \n",
       "\u001b[32m'description'\u001b[0m: \u001b[32m\"alice's account\"\u001b[0m, \u001b[32m'primary_holder_email'\u001b[0m: \u001b[32m'alice@example.com'\u001b[0m\u001b[1m}\u001b[0m\n"
      ]
     },
     "metadata": {},
     "output_type": "display_data"
    }
   ],
   "source": [
    "# Query one item\n",
    "account = Accounts.query(hash_key=\"111-111-1111\").next()\n",
    "# visit value using object, should be 0\n",
    "print(f\"{account.balance = }\")\n",
    "# visit value using python dictionary, should be {\"account_id\": \"111-111-111\", \"primary_holder_email\": \"alice@example.com\", ...}\n",
    "rprint(f\"{account.attribute_values = }\")"
   ]
  },
  {
   "cell_type": "code",
   "execution_count": 48,
   "id": "e309a701-9784-4163-912e-ad8d37b26273",
   "metadata": {},
   "outputs": [
    {
     "data": {
      "text/html": [
       "<pre style=\"white-space:pre;overflow-x:auto;line-height:normal;font-family:Menlo,'DejaVu Sans Mono',consolas,'Courier New',monospace\">account.attribute_values = <span style=\"font-weight: bold\">{</span><span style=\"color: #008000; text-decoration-color: #008000\">'balance'</span>: <span style=\"color: #008080; text-decoration-color: #008080; font-weight: bold\">0</span>, <span style=\"color: #008000; text-decoration-color: #008000\">'account_id'</span>: <span style=\"color: #008000; text-decoration-color: #008000\">'111-111-1111'</span>, <span style=\"color: #008000; text-decoration-color: #008000\">'create_time'</span>: <span style=\"color: #008000; text-decoration-color: #008000\">'2000-01-01 10:00:00'</span>, \n",
       "<span style=\"color: #008000; text-decoration-color: #008000\">'description'</span>: <span style=\"color: #008000; text-decoration-color: #008000\">\"bob's account'\"</span>, <span style=\"color: #008000; text-decoration-color: #008000\">'primary_holder_email'</span>: <span style=\"color: #008000; text-decoration-color: #008000\">'bob@example.com'</span><span style=\"font-weight: bold\">}</span>\n",
       "</pre>\n"
      ],
      "text/plain": [
       "account.attribute_values = \u001b[1m{\u001b[0m\u001b[32m'balance'\u001b[0m: \u001b[1;36m0\u001b[0m, \u001b[32m'account_id'\u001b[0m: \u001b[32m'111-111-1111'\u001b[0m, \u001b[32m'create_time'\u001b[0m: \u001b[32m'2000-01-01 10:00:00'\u001b[0m, \n",
       "\u001b[32m'description'\u001b[0m: \u001b[32m\"bob's account'\"\u001b[0m, \u001b[32m'primary_holder_email'\u001b[0m: \u001b[32m'bob@example.com'\u001b[0m\u001b[1m}\u001b[0m\n"
      ]
     },
     "metadata": {},
     "output_type": "display_data"
    }
   ],
   "source": [
    "# Update one item - key / value update\n",
    "# change primary holder and description\n",
    "Accounts(account_id=\"111-111-1111\").update( # specify the item you want to update by hash key\n",
    "    # define multiple update actions\n",
    "    actions=[\n",
    "        Accounts.primary_holder_email.set(\"bob@example.com\"),\n",
    "        Accounts.description.set(\"bob's account'\"),\n",
    "    ]\n",
    ")\n",
    "account = Accounts.query(hash_key=\"111-111-1111\").next()\n",
    "rprint(f\"{account.attribute_values = }\")"
   ]
  },
  {
   "cell_type": "code",
   "execution_count": 49,
   "id": "6836bcf2-4f54-4cd0-a361-b2b96959fb62",
   "metadata": {},
   "outputs": [
    {
     "name": "stdout",
     "output_type": "stream",
     "text": [
      "account.balance = 1\n"
     ]
    }
   ],
   "source": [
    "# atomic update balance\n",
    "Accounts(account_id=\"111-111-1111\").update( # specify the item you want to update by hash key\n",
    "    actions=[\n",
    "        Accounts.balance.set(Accounts.balance + 1),\n",
    "    ]\n",
    ")\n",
    "# WARNING, NEVER DO THIS, this operation is not atomic\n",
    "# if you have multiple programs running this code concurrently, it may cause double pay or double spend\n",
    "# account = Accounts.query(hash_key=\"111-111-1111\").next()\n",
    "# account.balance = account.balance + 1\n",
    "# account.save()\n",
    "account = Accounts.query(hash_key=\"111-111-1111\").next()\n",
    "print(f\"{account.balance = }\")"
   ]
  },
  {
   "cell_type": "code",
   "execution_count": 50,
   "id": "a53fe82f-5cb3-4742-9465-b38a6f89bc86",
   "metadata": {},
   "outputs": [
    {
     "data": {
      "text/html": [
       "<pre style=\"white-space:pre;overflow-x:auto;line-height:normal;font-family:Menlo,'DejaVu Sans Mono',consolas,'Courier New',monospace\">account.attribute_values = <span style=\"font-weight: bold\">{</span><span style=\"color: #008000; text-decoration-color: #008000\">'balance'</span>: <span style=\"color: #008080; text-decoration-color: #008080; font-weight: bold\">0</span>, <span style=\"color: #008000; text-decoration-color: #008000\">'account_id'</span>: <span style=\"color: #008000; text-decoration-color: #008000\">'111-111-1111'</span>, <span style=\"color: #008000; text-decoration-color: #008000\">'create_time'</span>: <span style=\"color: #008000; text-decoration-color: #008000\">'2000-01-01 10:00:00'</span>, \n",
       "<span style=\"color: #008000; text-decoration-color: #008000\">'primary_holder_email'</span>: <span style=\"color: #008000; text-decoration-color: #008000\">'cathy@example.com'</span><span style=\"font-weight: bold\">}</span>\n",
       "</pre>\n"
      ],
      "text/plain": [
       "account.attribute_values = \u001b[1m{\u001b[0m\u001b[32m'balance'\u001b[0m: \u001b[1;36m0\u001b[0m, \u001b[32m'account_id'\u001b[0m: \u001b[32m'111-111-1111'\u001b[0m, \u001b[32m'create_time'\u001b[0m: \u001b[32m'2000-01-01 10:00:00'\u001b[0m, \n",
       "\u001b[32m'primary_holder_email'\u001b[0m: \u001b[32m'cathy@example.com'\u001b[0m\u001b[1m}\u001b[0m\n"
      ]
     },
     "metadata": {},
     "output_type": "display_data"
    }
   ],
   "source": [
    "# Update one item - replacement the existing one\n",
    "Accounts(\n",
    "    account_id=\"111-111-1111\",\n",
    "    primary_holder_email=\"cathy@example.com\",\n",
    "    balance=0,\n",
    "    create_time=\"2000-01-01 10:00:00\",\n",
    "    # even though we don't change description here, but the old description is gone, because it is a full item replacement.\n",
    ").save()\n",
    "account = Accounts.query(hash_key=\"111-111-1111\").next()\n",
    "rprint(f\"{account.attribute_values = }\")"
   ]
  },
  {
   "cell_type": "code",
   "execution_count": 51,
   "id": "caa4628d-2e24-4f17-8288-691d6bb06cca",
   "metadata": {},
   "outputs": [],
   "source": [
    "# Bulk insert\n",
    "# create some dummy data in memory, or read from csv, database, etc ...\n",
    "many_account_data = [\n",
    "    dict(account_id=\"222-222-2222\", primary_holder_email=\"john@example.com\", create_time=\"2000-01-02 00:00:00\"),\n",
    "    dict(account_id=\"333-333-3333\", primary_holder_email=\"mike@example.com\", create_time=\"2000-01-03 00:00:00\"),\n",
    "    dict(account_id=\"444-444-4444\", primary_holder_email=\"smith@example.com\", create_time=\"2000-01-04 00:00:00\"),\n",
    "]\n",
    "\n",
    "with Accounts.batch_write() as batch:\n",
    "    for account_data in many_account_data:\n",
    "        account = Accounts(**account_data)\n",
    "        batch.save(account)"
   ]
  },
  {
   "cell_type": "code",
   "execution_count": 52,
   "id": "8d957498-0c26-4fdc-be86-a97245e9bc55",
   "metadata": {},
   "outputs": [
    {
     "data": {
      "text/html": [
       "<pre style=\"white-space:pre;overflow-x:auto;line-height:normal;font-family:Menlo,'DejaVu Sans Mono',consolas,'Courier New',monospace\"><span style=\"font-weight: bold\">{</span>\n",
       "    <span style=\"color: #008000; text-decoration-color: #008000\">'balance'</span>: <span style=\"color: #008080; text-decoration-color: #008080; font-weight: bold\">0</span>,\n",
       "    <span style=\"color: #008000; text-decoration-color: #008000\">'account_id'</span>: <span style=\"color: #008000; text-decoration-color: #008000\">'333-333-3333'</span>,\n",
       "    <span style=\"color: #008000; text-decoration-color: #008000\">'create_time'</span>: <span style=\"color: #008000; text-decoration-color: #008000\">'2000-01-03 00:00:00'</span>,\n",
       "    <span style=\"color: #008000; text-decoration-color: #008000\">'primary_holder_email'</span>: <span style=\"color: #008000; text-decoration-color: #008000\">'mike@example.com'</span>\n",
       "<span style=\"font-weight: bold\">}</span>\n",
       "</pre>\n"
      ],
      "text/plain": [
       "\u001b[1m{\u001b[0m\n",
       "    \u001b[32m'balance'\u001b[0m: \u001b[1;36m0\u001b[0m,\n",
       "    \u001b[32m'account_id'\u001b[0m: \u001b[32m'333-333-3333'\u001b[0m,\n",
       "    \u001b[32m'create_time'\u001b[0m: \u001b[32m'2000-01-03 00:00:00'\u001b[0m,\n",
       "    \u001b[32m'primary_holder_email'\u001b[0m: \u001b[32m'mike@example.com'\u001b[0m\n",
       "\u001b[1m}\u001b[0m\n"
      ]
     },
     "metadata": {},
     "output_type": "display_data"
    },
    {
     "data": {
      "text/html": [
       "<pre style=\"white-space:pre;overflow-x:auto;line-height:normal;font-family:Menlo,'DejaVu Sans Mono',consolas,'Courier New',monospace\"><span style=\"font-weight: bold\">{</span>\n",
       "    <span style=\"color: #008000; text-decoration-color: #008000\">'balance'</span>: <span style=\"color: #008080; text-decoration-color: #008080; font-weight: bold\">0</span>,\n",
       "    <span style=\"color: #008000; text-decoration-color: #008000\">'account_id'</span>: <span style=\"color: #008000; text-decoration-color: #008000\">'222-222-2222'</span>,\n",
       "    <span style=\"color: #008000; text-decoration-color: #008000\">'create_time'</span>: <span style=\"color: #008000; text-decoration-color: #008000\">'2000-01-02 00:00:00'</span>,\n",
       "    <span style=\"color: #008000; text-decoration-color: #008000\">'primary_holder_email'</span>: <span style=\"color: #008000; text-decoration-color: #008000\">'john@example.com'</span>\n",
       "<span style=\"font-weight: bold\">}</span>\n",
       "</pre>\n"
      ],
      "text/plain": [
       "\u001b[1m{\u001b[0m\n",
       "    \u001b[32m'balance'\u001b[0m: \u001b[1;36m0\u001b[0m,\n",
       "    \u001b[32m'account_id'\u001b[0m: \u001b[32m'222-222-2222'\u001b[0m,\n",
       "    \u001b[32m'create_time'\u001b[0m: \u001b[32m'2000-01-02 00:00:00'\u001b[0m,\n",
       "    \u001b[32m'primary_holder_email'\u001b[0m: \u001b[32m'john@example.com'\u001b[0m\n",
       "\u001b[1m}\u001b[0m\n"
      ]
     },
     "metadata": {},
     "output_type": "display_data"
    }
   ],
   "source": [
    "# Filter by non-keys attribute\n",
    "for account in Accounts.scan(\n",
    "    filter_condition=Accounts.create_time.between(\"2000-01-01 23:59:59\", \"2000-01-03 23:59:59\")\n",
    "):\n",
    "    rprint(account.attribute_values)"
   ]
  },
  {
   "cell_type": "code",
   "execution_count": 54,
   "id": "d6e4d7d4-d7cd-4033-af6f-59531c3de469",
   "metadata": {},
   "outputs": [
    {
     "data": {
      "text/html": [
       "<pre style=\"white-space:pre;overflow-x:auto;line-height:normal;font-family:Menlo,'DejaVu Sans Mono',consolas,'Courier New',monospace\"><span style=\"font-weight: bold\">{</span>\n",
       "    <span style=\"color: #008000; text-decoration-color: #008000\">'balance'</span>: <span style=\"color: #008080; text-decoration-color: #008080; font-weight: bold\">0</span>,\n",
       "    <span style=\"color: #008000; text-decoration-color: #008000\">'account_id'</span>: <span style=\"color: #008000; text-decoration-color: #008000\">'444-444-4444'</span>,\n",
       "    <span style=\"color: #008000; text-decoration-color: #008000\">'create_time'</span>: <span style=\"color: #008000; text-decoration-color: #008000\">'2000-01-04 00:00:00'</span>,\n",
       "    <span style=\"color: #008000; text-decoration-color: #008000\">'primary_holder_email'</span>: <span style=\"color: #008000; text-decoration-color: #008000\">'smith@example.com'</span>\n",
       "<span style=\"font-weight: bold\">}</span>\n",
       "</pre>\n"
      ],
      "text/plain": [
       "\u001b[1m{\u001b[0m\n",
       "    \u001b[32m'balance'\u001b[0m: \u001b[1;36m0\u001b[0m,\n",
       "    \u001b[32m'account_id'\u001b[0m: \u001b[32m'444-444-4444'\u001b[0m,\n",
       "    \u001b[32m'create_time'\u001b[0m: \u001b[32m'2000-01-04 00:00:00'\u001b[0m,\n",
       "    \u001b[32m'primary_holder_email'\u001b[0m: \u001b[32m'smith@example.com'\u001b[0m\n",
       "\u001b[1m}\u001b[0m\n"
      ]
     },
     "metadata": {},
     "output_type": "display_data"
    },
    {
     "data": {
      "text/html": [
       "<pre style=\"white-space:pre;overflow-x:auto;line-height:normal;font-family:Menlo,'DejaVu Sans Mono',consolas,'Courier New',monospace\"><span style=\"font-weight: bold\">{</span>\n",
       "    <span style=\"color: #008000; text-decoration-color: #008000\">'balance'</span>: <span style=\"color: #008080; text-decoration-color: #008080; font-weight: bold\">0</span>,\n",
       "    <span style=\"color: #008000; text-decoration-color: #008000\">'account_id'</span>: <span style=\"color: #008000; text-decoration-color: #008000\">'111-111-1111'</span>,\n",
       "    <span style=\"color: #008000; text-decoration-color: #008000\">'create_time'</span>: <span style=\"color: #008000; text-decoration-color: #008000\">'2000-01-01 10:00:00'</span>,\n",
       "    <span style=\"color: #008000; text-decoration-color: #008000\">'primary_holder_email'</span>: <span style=\"color: #008000; text-decoration-color: #008000\">'cathy@example.com'</span>\n",
       "<span style=\"font-weight: bold\">}</span>\n",
       "</pre>\n"
      ],
      "text/plain": [
       "\u001b[1m{\u001b[0m\n",
       "    \u001b[32m'balance'\u001b[0m: \u001b[1;36m0\u001b[0m,\n",
       "    \u001b[32m'account_id'\u001b[0m: \u001b[32m'111-111-1111'\u001b[0m,\n",
       "    \u001b[32m'create_time'\u001b[0m: \u001b[32m'2000-01-01 10:00:00'\u001b[0m,\n",
       "    \u001b[32m'primary_holder_email'\u001b[0m: \u001b[32m'cathy@example.com'\u001b[0m\n",
       "\u001b[1m}\u001b[0m\n"
      ]
     },
     "metadata": {},
     "output_type": "display_data"
    }
   ],
   "source": [
    "# Bulk delete\n",
    "with Accounts.batch_write() as batch:\n",
    "    for account in Accounts.scan(\n",
    "        filter_condition=Accounts.create_time.between(\"2000-01-01 23:59:59\", \"2000-01-03 23:59:59\"),\n",
    "        attributes_to_get=[\"account_id\"],\n",
    "    ):\n",
    "        batch.delete(account)\n",
    "\n",
    "for account in Accounts.scan():\n",
    "    rprint(account.attribute_values)"
   ]
  },
  {
   "cell_type": "markdown",
   "id": "ebf82c94-9ef5-4119-a42a-c2ccf3c99ecd",
   "metadata": {},
   "source": [
    "## Sample Code - Data Model with many-to-many Relationship and Index\n",
    "\n",
    "In this example, I will demonstrate:\n",
    "\n",
    "1. How to define index.\n",
    "2. How to query many-to-many relationship efficiently using pynamodb"
   ]
  },
  {
   "cell_type": "code",
   "execution_count": 57,
   "id": "d3416c4f-f86b-4b9b-9d25-91ed91c85de3",
   "metadata": {},
   "outputs": [],
   "source": [
    "from pynamodb.indexes import GlobalSecondaryIndex, KeysOnlyProjection\n",
    "\n",
    "# Create Index, allow us to query order that contains specific item\n",
    "class ItemOrderIndex(GlobalSecondaryIndex):\n",
    "    class Meta:\n",
    "        index = \"item-and-order-index\"\n",
    "        projection = KeysOnlyProjection()\n",
    "\n",
    "    item_id = UnicodeAttribute(hash_key=True)\n",
    "    order_id = UnicodeAttribute(range_key=True)\n",
    "\n",
    "\n",
    "# Create Orders data model\n",
    "class Order(Model):\n",
    "    class Meta:\n",
    "        table_name = \"orders\"\n",
    "        region = \"us-east-1\"\n",
    "        billing_mode = pynamodb.models.PAY_PER_REQUEST_BILLING_MODE\n",
    "\n",
    "    # define attributes\n",
    "    order_id = UnicodeAttribute(hash_key=True)\n",
    "    item_id = UnicodeAttribute(range_key=True)\n",
    "    item_unit_price = NumberAttribute()\n",
    "    quantity = NumberAttribute()\n",
    "\n",
    "    # associate index\n",
    "    item_order_index = ItemOrderIndex()\n",
    "\n",
    "\n",
    "Order.create_table(wait=True)"
   ]
  },
  {
   "cell_type": "code",
   "execution_count": 58,
   "id": "862bf9e6-1ca2-4595-86ed-9d26d117d7c2",
   "metadata": {},
   "outputs": [],
   "source": [
    "# Insert some items\n",
    "many_order_data = [\n",
    "    dict(order_id=\"order-1\", item_id=\"item-1-apple\", item_unit_price=0.8, quantity=3),\n",
    "    dict(order_id=\"order-1\", item_id=\"item-2-banana\", item_unit_price=0.4, quantity=5),\n",
    "    dict(order_id=\"order-2\", item_id=\"item-2-banana\", item_unit_price=0.4, quantity=8),\n",
    "    dict(order_id=\"order-2\", item_id=\"item-3-cheery\", item_unit_price=1.3, quantity=2),\n",
    "]\n",
    "with Order.batch_write() as batch:\n",
    "    for order_data in many_order_data:\n",
    "        order = Orders(**order_data)\n",
    "        batch.save(order)"
   ]
  },
  {
   "cell_type": "code",
   "execution_count": 59,
   "id": "ff6f288f-cddf-40d4-9b3f-d72340b70ff4",
   "metadata": {},
   "outputs": [
    {
     "data": {
      "text/html": [
       "<pre style=\"white-space:pre;overflow-x:auto;line-height:normal;font-family:Menlo,'DejaVu Sans Mono',consolas,'Courier New',monospace\">order.attribute_values = <span style=\"font-weight: bold\">{</span><span style=\"color: #008000; text-decoration-color: #008000\">'item_id'</span>: <span style=\"color: #008000; text-decoration-color: #008000\">'item-1-apple'</span>, <span style=\"color: #008000; text-decoration-color: #008000\">'item_unit_price'</span>: <span style=\"color: #008080; text-decoration-color: #008080; font-weight: bold\">0.8</span>, <span style=\"color: #008000; text-decoration-color: #008000\">'order_id'</span>: <span style=\"color: #008000; text-decoration-color: #008000\">'order-1'</span>, <span style=\"color: #008000; text-decoration-color: #008000\">'quantity'</span>: <span style=\"color: #008080; text-decoration-color: #008080; font-weight: bold\">3</span><span style=\"font-weight: bold\">}</span>\n",
       "</pre>\n"
      ],
      "text/plain": [
       "order.attribute_values = \u001b[1m{\u001b[0m\u001b[32m'item_id'\u001b[0m: \u001b[32m'item-1-apple'\u001b[0m, \u001b[32m'item_unit_price'\u001b[0m: \u001b[1;36m0.8\u001b[0m, \u001b[32m'order_id'\u001b[0m: \u001b[32m'order-1'\u001b[0m, \u001b[32m'quantity'\u001b[0m: \u001b[1;36m3\u001b[0m\u001b[1m}\u001b[0m\n"
      ]
     },
     "metadata": {},
     "output_type": "display_data"
    },
    {
     "data": {
      "text/html": [
       "<pre style=\"white-space:pre;overflow-x:auto;line-height:normal;font-family:Menlo,'DejaVu Sans Mono',consolas,'Courier New',monospace\">order.attribute_values = <span style=\"font-weight: bold\">{</span><span style=\"color: #008000; text-decoration-color: #008000\">'item_id'</span>: <span style=\"color: #008000; text-decoration-color: #008000\">'item-2-banana'</span>, <span style=\"color: #008000; text-decoration-color: #008000\">'item_unit_price'</span>: <span style=\"color: #008080; text-decoration-color: #008080; font-weight: bold\">0.4</span>, <span style=\"color: #008000; text-decoration-color: #008000\">'order_id'</span>: <span style=\"color: #008000; text-decoration-color: #008000\">'order-1'</span>, <span style=\"color: #008000; text-decoration-color: #008000\">'quantity'</span>: <span style=\"color: #008080; text-decoration-color: #008080; font-weight: bold\">5</span><span style=\"font-weight: bold\">}</span>\n",
       "</pre>\n"
      ],
      "text/plain": [
       "order.attribute_values = \u001b[1m{\u001b[0m\u001b[32m'item_id'\u001b[0m: \u001b[32m'item-2-banana'\u001b[0m, \u001b[32m'item_unit_price'\u001b[0m: \u001b[1;36m0.4\u001b[0m, \u001b[32m'order_id'\u001b[0m: \u001b[32m'order-1'\u001b[0m, \u001b[32m'quantity'\u001b[0m: \u001b[1;36m5\u001b[0m\u001b[1m}\u001b[0m\n"
      ]
     },
     "metadata": {},
     "output_type": "display_data"
    }
   ],
   "source": [
    "# Given a order id, find out all items in that order\n",
    "for order in Orders.query(hash_key=\"order-1\"):\n",
    "    rprint(f\"{order.attribute_values = }\")"
   ]
  },
  {
   "cell_type": "code",
   "execution_count": 60,
   "id": "94e77348-e1b6-4f46-81ae-61204c3226e0",
   "metadata": {},
   "outputs": [
    {
     "data": {
      "text/html": [
       "<pre style=\"white-space:pre;overflow-x:auto;line-height:normal;font-family:Menlo,'DejaVu Sans Mono',consolas,'Courier New',monospace\">order.attribute_values = <span style=\"font-weight: bold\">{</span><span style=\"color: #008000; text-decoration-color: #008000\">'item_id'</span>: <span style=\"color: #008000; text-decoration-color: #008000\">'item-2-banana'</span>, <span style=\"color: #008000; text-decoration-color: #008000\">'order_id'</span>: <span style=\"color: #008000; text-decoration-color: #008000\">'order-1'</span><span style=\"font-weight: bold\">}</span>\n",
       "</pre>\n"
      ],
      "text/plain": [
       "order.attribute_values = \u001b[1m{\u001b[0m\u001b[32m'item_id'\u001b[0m: \u001b[32m'item-2-banana'\u001b[0m, \u001b[32m'order_id'\u001b[0m: \u001b[32m'order-1'\u001b[0m\u001b[1m}\u001b[0m\n"
      ]
     },
     "metadata": {},
     "output_type": "display_data"
    },
    {
     "data": {
      "text/html": [
       "<pre style=\"white-space:pre;overflow-x:auto;line-height:normal;font-family:Menlo,'DejaVu Sans Mono',consolas,'Courier New',monospace\">order.attribute_values = <span style=\"font-weight: bold\">{</span><span style=\"color: #008000; text-decoration-color: #008000\">'item_id'</span>: <span style=\"color: #008000; text-decoration-color: #008000\">'item-2-banana'</span>, <span style=\"color: #008000; text-decoration-color: #008000\">'order_id'</span>: <span style=\"color: #008000; text-decoration-color: #008000\">'order-2'</span><span style=\"font-weight: bold\">}</span>\n",
       "</pre>\n"
      ],
      "text/plain": [
       "order.attribute_values = \u001b[1m{\u001b[0m\u001b[32m'item_id'\u001b[0m: \u001b[32m'item-2-banana'\u001b[0m, \u001b[32m'order_id'\u001b[0m: \u001b[32m'order-2'\u001b[0m\u001b[1m}\u001b[0m\n"
      ]
     },
     "metadata": {},
     "output_type": "display_data"
    }
   ],
   "source": [
    "# Given a item id, find out all order that has that item\n",
    "for order in Order.item_order_index.query(hash_key=\"item-2-banana\"):\n",
    "    rprint(f\"{order.attribute_values = }\")"
   ]
  },
  {
   "cell_type": "markdown",
   "id": "dfbe8c90-7366-4541-b6ea-3e773e2393f6",
   "metadata": {},
   "source": [
    "## Summary\n",
    "\n",
    "If you're planning to build applications using Amazon DynamoDB, consider using the `pynamodb` library to simplify your development process and create more reliable and maintainable code.\n",
    "\n",
    "`pynamodb` is a mature and actively maintained library that has been available for over a decade. Its long-standing presence in the DynamoDB ecosystem demonstrates its reliability and trustworthiness. You can confidently adopt `pynamodb` knowing that it has been extensively used and continually improved by the community.\n",
    "\n",
    "One of the key benefits of using `pynamodb` is its ability to simplify the development of complex application code. By providing a higher-level abstraction over the DynamoDB API, `pynamodb` reduces the chances of introducing errors and bugs in your codebase. It offers a more intuitive and Pythonic interface, allowing you to focus on writing the core logic of your application rather than dealing with the intricacies of the low-level DynamoDB API.\n",
    "\n",
    "Moreover, `pynamodb` promotes code succinctness and readability. It allows you to express your data models and interactions with DynamoDB using concise and expressive Python code. The library provides a declarative syntax for defining your data schemas, making it easy to understand the structure and relationships of your data. With `pynamodb`, your codebase becomes more human-friendly, enabling other developers (including your future self) to quickly grasp the purpose and functionality of your code.\n",
    "\n",
    "The enhanced readability and maintainability offered by `pynamodb` are particularly valuable in collaborative development environments and long-term projects. As your application grows and evolves, having a clear and comprehensible codebase becomes increasingly important. `pynamodb` helps you achieve this by providing a consistent and intuitive way to interact with DynamoDB, reducing the cognitive load required to understand and modify your code.\n",
    "\n",
    "In summary, if you want to develop DynamoDB applications with confidence, simplify your codebase, and create more maintainable and readable code, using the `pynamodb` library is a wise choice. Its long-standing history, active maintenance, and developer-friendly features make it an excellent tool for building robust and efficient DynamoDB-based applications."
   ]
  },
  {
   "cell_type": "markdown",
   "id": "0d2418c3-a4fe-43d9-8e1c-9630688dd652",
   "metadata": {},
   "source": [
    "## References\n",
    "\n",
    "- [Pynamodb document](https://pynamodb.readthedocs.io/en/latest/)\n",
    "- [Use data model, create / delete dynamodb table](https://pynamodb.readthedocs.io/en/latest/tutorial.html#getting-started)\n",
    "- [Use Index](https://pynamodb.readthedocs.io/en/latest/indexes.html)\n",
    "- [Transaction Operations](https://pynamodb.readthedocs.io/en/latest/transaction.html)\n",
    "- [Pynamodb examples](https://github.com/pynamodb/PynamoDB/tree/master/examples)\n"
   ]
  },
  {
   "cell_type": "code",
   "execution_count": null,
   "id": "e340516e-bc5e-4db6-94be-ab1ad17f37eb",
   "metadata": {},
   "outputs": [],
   "source": []
  }
 ],
 "metadata": {
  "kernelspec": {
   "display_name": "Python 3 (ipykernel)",
   "language": "python",
   "name": "python3"
  },
  "language_info": {
   "codemirror_mode": {
    "name": "ipython",
    "version": 3
   },
   "file_extension": ".py",
   "mimetype": "text/x-python",
   "name": "python",
   "nbconvert_exporter": "python",
   "pygments_lexer": "ipython3",
   "version": "3.10.10"
  }
 },
 "nbformat": 4,
 "nbformat_minor": 5
}
