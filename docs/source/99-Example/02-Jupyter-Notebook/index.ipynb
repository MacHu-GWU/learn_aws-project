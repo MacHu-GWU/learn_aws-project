{
 "cells": [
  {
   "cell_type": "markdown",
   "id": "919db63e-2128-459d-b340-14b5bbed718e",
   "metadata": {},
   "source": [
    "# Example Jupyter Notebook\n",
    "\n",
    "This is an example jupyter notebook"
   ]
  },
  {
   "cell_type": "markdown",
   "id": "ddd563f2-61a3-422f-97d1-0472463046bf",
   "metadata": {},
   "source": [
    "## Topic 1"
   ]
  },
  {
   "cell_type": "code",
   "execution_count": 1,
   "id": "55cbe552-fa48-432f-aa05-565aaa067adc",
   "metadata": {},
   "outputs": [
    {
     "data": {
      "text/plain": [
       "sys.version_info(major=3, minor=10, micro=10, releaselevel='final', serial=0)"
      ]
     },
     "execution_count": 1,
     "metadata": {},
     "output_type": "execute_result"
    }
   ],
   "source": [
    "import sys\n",
    "\n",
    "sys.version_info"
   ]
  },
  {
   "cell_type": "markdown",
   "id": "54fb3c52-1175-441e-8928-29754ad70d53",
   "metadata": {},
   "source": [
    "## Topic 2"
   ]
  },
  {
   "cell_type": "code",
   "execution_count": 2,
   "id": "0ec9d1b8-d532-4d7f-bc2e-c6240f6fbb00",
   "metadata": {},
   "outputs": [
    {
     "name": "stdout",
     "output_type": "stream",
     "text": [
      "Hello World\n"
     ]
    }
   ],
   "source": [
    "print(\"Hello World\")"
   ]
  },
  {
   "cell_type": "code",
   "execution_count": null,
   "id": "f8db2400-02b0-4d9e-a06c-3cc34c2976fd",
   "metadata": {},
   "outputs": [],
   "source": []
  }
 ],
 "metadata": {
  "kernelspec": {
   "display_name": "Python 3 (ipykernel)",
   "language": "python",
   "name": "python3"
  },
  "language_info": {
   "codemirror_mode": {
    "name": "ipython",
    "version": 3
   },
   "file_extension": ".py",
   "mimetype": "text/x-python",
   "name": "python",
   "nbconvert_exporter": "python",
   "pygments_lexer": "ipython3",
   "version": "3.10.10"
  }
 },
 "nbformat": 4,
 "nbformat_minor": 5
}
