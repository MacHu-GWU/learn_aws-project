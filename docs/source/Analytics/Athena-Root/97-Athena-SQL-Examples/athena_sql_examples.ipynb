{
 "cells": [
  {
   "cell_type": "markdown",
   "id": "c4f86798-0699-4182-9d86-ef8753159d19",
   "metadata": {},
   "source": [
    "# Athena SQL Example"
   ]
  },
  {
   "cell_type": "code",
   "execution_count": 2,
   "id": "41fc7922-a6c9-40bc-9cde-3bbba6e04d74",
   "metadata": {},
   "outputs": [],
   "source": [
    "import dataclasses\n",
    "\n",
    "import numpy as np\n",
    "import pandas as pd\n",
    "import awswrangler as wr\n",
    "from boto_session_manager import BotoSesManager\n",
    "from s3pathlib import S3Path, context\n",
    "from pyathena import connect\n",
    "from pyathena.pandas.util import as_pandas\n",
    "\n",
    "from rich import print as rprint\n",
    "from rich.console import Console"
   ]
  },
  {
   "cell_type": "markdown",
   "id": "12430041-9bb8-44ba-b406-8ee46153967b",
   "metadata": {},
   "source": [
    "## Helpers"
   ]
  },
  {
   "cell_type": "code",
   "execution_count": 3,
   "id": "880b0dc0-43b9-4f11-b320-b518374f2858",
   "metadata": {},
   "outputs": [],
   "source": [
    "console = Console()"
   ]
  },
  {
   "cell_type": "code",
   "execution_count": 4,
   "id": "2a024818-c435-4164-8378-6265c4f0bc1a",
   "metadata": {},
   "outputs": [
    {
     "data": {
      "text/html": [
       "<pre style=\"white-space:pre;overflow-x:auto;line-height:normal;font-family:Menlo,'DejaVu Sans Mono',consolas,'Courier New',monospace\"><span style=\"color: #800080; text-decoration-color: #800080; font-weight: bold\">Config</span><span style=\"font-weight: bold\">(</span>\n",
       "    <span style=\"color: #808000; text-decoration-color: #808000\">aws_profile</span>=<span style=\"color: #008000; text-decoration-color: #008000\">'bmt_app_dev_us_east_1'</span>,\n",
       "    <span style=\"color: #808000; text-decoration-color: #808000\">bucket</span>=<span style=\"color: #008000; text-decoration-color: #008000\">'bmt-app-dev-us-east-1-data'</span>,\n",
       "    <span style=\"color: #808000; text-decoration-color: #808000\">prefix</span>=<span style=\"color: #008000; text-decoration-color: #008000\">'poc/2023-12-01-athena-in-python'</span>,\n",
       "    <span style=\"color: #808000; text-decoration-color: #808000\">glue_database</span>=<span style=\"color: #008000; text-decoration-color: #008000\">'athena_sql_examples'</span>\n",
       "<span style=\"font-weight: bold\">)</span>\n",
       "</pre>\n"
      ],
      "text/plain": [
       "\u001b[1;35mConfig\u001b[0m\u001b[1m(\u001b[0m\n",
       "    \u001b[33maws_profile\u001b[0m=\u001b[32m'bmt_app_dev_us_east_1'\u001b[0m,\n",
       "    \u001b[33mbucket\u001b[0m=\u001b[32m'bmt-app-dev-us-east-1-data'\u001b[0m,\n",
       "    \u001b[33mprefix\u001b[0m=\u001b[32m'poc/2023-12-01-athena-in-python'\u001b[0m,\n",
       "    \u001b[33mglue_database\u001b[0m=\u001b[32m'athena_sql_examples'\u001b[0m\n",
       "\u001b[1m)\u001b[0m\n"
      ]
     },
     "metadata": {},
     "output_type": "display_data"
    },
    {
     "name": "stdout",
     "output_type": "stream",
     "text": [
      "https://console.aws.amazon.com/s3/buckets/bmt-app-dev-us-east-1-data?prefix=poc/2023-12-01-athena-in-python/\n"
     ]
    }
   ],
   "source": [
    "@dataclasses.dataclass\n",
    "class Config:\n",
    "    aws_profile: str = dataclasses.field()\n",
    "    bucket: str = dataclasses.field()\n",
    "    prefix: str = dataclasses.field()\n",
    "    glue_database: str = dataclasses.field()\n",
    "\n",
    "    @property\n",
    "    def s3dir_database(self) -> S3Path:\n",
    "        return S3Path(f\"s3://{self.bucket}/{self.prefix}\").to_dir()\n",
    "\n",
    "    def get_s3dir_table(self, table: str) -> S3Path:\n",
    "        return self.s3dir_database.joinpath(table).to_dir()\n",
    "\n",
    "\n",
    "config = Config(\n",
    "    aws_profile = \"bmt_app_dev_us_east_1\",\n",
    "    bucket = \"bmt-app-dev-us-east-1-data\",\n",
    "    prefix = \"poc/2023-12-01-athena-in-python\",\n",
    "    glue_database = \"athena_sql_examples\",\n",
    ")\n",
    "rprint(config)\n",
    "print(config.s3dir_database.console_url)"
   ]
  },
  {
   "cell_type": "code",
   "execution_count": 5,
   "id": "684135f6-8c37-41fa-bdcb-dd82f6eee119",
   "metadata": {},
   "outputs": [],
   "source": [
    "bsm = BotoSesManager(profile_name=config.aws_profile)\n",
    "context.attach_boto_session(bsm.boto_ses)\n",
    "s3dir_athena_result = S3Path(f\"s3://{config.bucket}/athena/results/\").to_dir()\n",
    "conn = connect(\n",
    "    s3_staging_dir=s3dir_athena_result.uri,\n",
    "    profile_name=config.aws_profile,\n",
    "    region_name=bsm.aws_region,\n",
    ")\n",
    "cursor = conn.cursor()"
   ]
  },
  {
   "cell_type": "code",
   "execution_count": 6,
   "id": "6ac804c7-e5b6-4066-8e75-326b838bd99a",
   "metadata": {},
   "outputs": [],
   "source": [
    "def create_database(\n",
    "    bsm: \"BotoSesManager\",\n",
    "    database: str,\n",
    "):\n",
    "    databases = wr.catalog.databases(boto3_session=bsm.boto_ses)\n",
    "    if database not in databases.values:\n",
    "        wr.catalog.create_database(database, boto3_session=bsm.boto_ses)\n",
    "\n",
    "\n",
    "def create_table_with_dummy_data(\n",
    "    bsm: \"BotoSesManager\",\n",
    "    df: pd.DataFrame,\n",
    "    s3dir_table: S3Path,\n",
    "    database: str,\n",
    "    table: str,\n",
    "    mode: str = \"overwrite\",\n",
    "    delete_old_table: bool = True,\n",
    "    delete_old_data: bool = True,\n",
    "    delete_new_data: bool = False,\n",
    "):\n",
    "    if delete_old_table:\n",
    "        tables = wr.catalog.tables(database=database, boto3_session=bsm.boto_ses)\n",
    "        if table in tables.values:\n",
    "            bsm.glue_client.delete_table(\n",
    "                DatabaseName=database,\n",
    "                Name=table,\n",
    "            )\n",
    "\n",
    "    if delete_old_data:\n",
    "        s3dir_table.delete(bsm=bsm)\n",
    "\n",
    "    wr.s3.to_parquet(\n",
    "        df=df,\n",
    "        path=s3dir_table.uri,\n",
    "        dataset=True,\n",
    "        database=database,\n",
    "        table=table,\n",
    "        mode=mode,\n",
    "        boto3_session=bsm.boto_ses,\n",
    "    )\n",
    "    \n",
    "    if delete_new_data:\n",
    "        s3dir_table.delete(bsm=bsm)\n",
    "\n",
    "\n",
    "def create_table_v1(\n",
    "    df: pd.DataFrame,\n",
    "    table: str,\n",
    "):\n",
    "    return create_table_with_dummy_data(\n",
    "        bsm=bsm,\n",
    "        df=df,\n",
    "        s3dir_table=config.get_s3dir_table(table),\n",
    "        database=config.glue_database,\n",
    "        table=table,\n",
    "    )\n",
    "\n",
    "create_database(bsm, config.glue_database)"
   ]
  },
  {
   "cell_type": "code",
   "execution_count": 7,
   "id": "abaf8c85-03f7-4e35-8241-40e1b5e8d41c",
   "metadata": {},
   "outputs": [],
   "source": [
    "def test_sql(\n",
    "    table: str,\n",
    "    df: pd.DataFrame,\n",
    "    sql: str,\n",
    "    recreate_table: bool = True,\n",
    ") -> pd.DataFrame:\n",
    "    console.rule(f\"table: {table}\")\n",
    "    display(df)\n",
    "    if recreate_table:\n",
    "        create_table_v1(df, table)\n",
    "    console.rule(\"sql\")\n",
    "    rprint(sql)\n",
    "    cursor.execute(sql)\n",
    "    df_result = as_pandas(cursor)\n",
    "    console.rule(\"query result\")\n",
    "    display(df_result)\n",
    "    return df_result"
   ]
  },
  {
   "cell_type": "markdown",
   "id": "af2a39d8-075f-4b72-b173-2bd0815a36a4",
   "metadata": {},
   "source": [
    "## Flattening Nested Arrays\n",
    "\n",
    "- https://docs.aws.amazon.com/athena/latest/ug/flattening-arrays.html"
   ]
  },
  {
   "cell_type": "code",
   "execution_count": 8,
   "id": "5b0e7a7f-a9be-4ed4-8995-e4374433d8d7",
   "metadata": {},
   "outputs": [
    {
     "data": {
      "text/html": [
       "<pre style=\"white-space:pre;overflow-x:auto;line-height:normal;font-family:Menlo,'DejaVu Sans Mono',consolas,'Courier New',monospace\"><span style=\"color: #00ff00; text-decoration-color: #00ff00\">───────────────────────────────────────── </span>table: flattening_nested_arrays<span style=\"color: #00ff00; text-decoration-color: #00ff00\"> ─────────────────────────────────────────</span>\n",
       "</pre>\n"
      ],
      "text/plain": [
       "\u001b[92m───────────────────────────────────────── \u001b[0mtable: flattening_nested_arrays\u001b[92m ─────────────────────────────────────────\u001b[0m\n"
      ]
     },
     "metadata": {},
     "output_type": "display_data"
    },
    {
     "data": {
      "text/html": [
       "<div>\n",
       "<style scoped>\n",
       "    .dataframe tbody tr th:only-of-type {\n",
       "        vertical-align: middle;\n",
       "    }\n",
       "\n",
       "    .dataframe tbody tr th {\n",
       "        vertical-align: top;\n",
       "    }\n",
       "\n",
       "    .dataframe thead th {\n",
       "        text-align: right;\n",
       "    }\n",
       "</style>\n",
       "<table border=\"1\" class=\"dataframe\">\n",
       "  <thead>\n",
       "    <tr style=\"text-align: right;\">\n",
       "      <th></th>\n",
       "      <th>post_id</th>\n",
       "      <th>create_time</th>\n",
       "      <th>tags</th>\n",
       "    </tr>\n",
       "  </thead>\n",
       "  <tbody>\n",
       "    <tr>\n",
       "      <th>0</th>\n",
       "      <td>1</td>\n",
       "      <td>2000-01-01</td>\n",
       "      <td>[tag1, tag2, tag3]</td>\n",
       "    </tr>\n",
       "  </tbody>\n",
       "</table>\n",
       "</div>"
      ],
      "text/plain": [
       "   post_id create_time                tags\n",
       "0        1  2000-01-01  [tag1, tag2, tag3]"
      ]
     },
     "metadata": {},
     "output_type": "display_data"
    },
    {
     "data": {
      "text/html": [
       "<pre style=\"white-space:pre;overflow-x:auto;line-height:normal;font-family:Menlo,'DejaVu Sans Mono',consolas,'Courier New',monospace\"><span style=\"color: #00ff00; text-decoration-color: #00ff00\">─────────────────────────────────────────────────────── </span>sql<span style=\"color: #00ff00; text-decoration-color: #00ff00\"> ───────────────────────────────────────────────────────</span>\n",
       "</pre>\n"
      ],
      "text/plain": [
       "\u001b[92m─────────────────────────────────────────────────────── \u001b[0msql\u001b[92m ───────────────────────────────────────────────────────\u001b[0m\n"
      ]
     },
     "metadata": {},
     "output_type": "display_data"
    },
    {
     "data": {
      "text/html": [
       "<pre style=\"white-space:pre;overflow-x:auto;line-height:normal;font-family:Menlo,'DejaVu Sans Mono',consolas,'Courier New',monospace\">\n",
       "SELECT\n",
       "    t.post_id,\n",
       "    tag\n",
       "FROM athena_sql_examples.flattening_nested_arrays t\n",
       "CROSS JOIN <span style=\"color: #800080; text-decoration-color: #800080; font-weight: bold\">UNNEST</span><span style=\"font-weight: bold\">(</span>t.tags<span style=\"font-weight: bold\">)</span> as <span style=\"color: #800080; text-decoration-color: #800080; font-weight: bold\">t</span><span style=\"font-weight: bold\">(</span>tag<span style=\"font-weight: bold\">)</span>\n",
       "\n",
       "</pre>\n"
      ],
      "text/plain": [
       "\n",
       "SELECT\n",
       "    t.post_id,\n",
       "    tag\n",
       "FROM athena_sql_examples.flattening_nested_arrays t\n",
       "CROSS JOIN \u001b[1;35mUNNEST\u001b[0m\u001b[1m(\u001b[0mt.tags\u001b[1m)\u001b[0m as \u001b[1;35mt\u001b[0m\u001b[1m(\u001b[0mtag\u001b[1m)\u001b[0m\n",
       "\n"
      ]
     },
     "metadata": {},
     "output_type": "display_data"
    },
    {
     "data": {
      "text/html": [
       "<pre style=\"white-space:pre;overflow-x:auto;line-height:normal;font-family:Menlo,'DejaVu Sans Mono',consolas,'Courier New',monospace\"><span style=\"color: #00ff00; text-decoration-color: #00ff00\">────────────────────────────────────────────────── </span>query result<span style=\"color: #00ff00; text-decoration-color: #00ff00\"> ───────────────────────────────────────────────────</span>\n",
       "</pre>\n"
      ],
      "text/plain": [
       "\u001b[92m────────────────────────────────────────────────── \u001b[0mquery result\u001b[92m ───────────────────────────────────────────────────\u001b[0m\n"
      ]
     },
     "metadata": {},
     "output_type": "display_data"
    },
    {
     "data": {
      "text/html": [
       "<div>\n",
       "<style scoped>\n",
       "    .dataframe tbody tr th:only-of-type {\n",
       "        vertical-align: middle;\n",
       "    }\n",
       "\n",
       "    .dataframe tbody tr th {\n",
       "        vertical-align: top;\n",
       "    }\n",
       "\n",
       "    .dataframe thead th {\n",
       "        text-align: right;\n",
       "    }\n",
       "</style>\n",
       "<table border=\"1\" class=\"dataframe\">\n",
       "  <thead>\n",
       "    <tr style=\"text-align: right;\">\n",
       "      <th></th>\n",
       "      <th>post_id</th>\n",
       "      <th>tag</th>\n",
       "    </tr>\n",
       "  </thead>\n",
       "  <tbody>\n",
       "    <tr>\n",
       "      <th>0</th>\n",
       "      <td>1</td>\n",
       "      <td>tag1</td>\n",
       "    </tr>\n",
       "    <tr>\n",
       "      <th>1</th>\n",
       "      <td>1</td>\n",
       "      <td>tag2</td>\n",
       "    </tr>\n",
       "    <tr>\n",
       "      <th>2</th>\n",
       "      <td>1</td>\n",
       "      <td>tag3</td>\n",
       "    </tr>\n",
       "  </tbody>\n",
       "</table>\n",
       "</div>"
      ],
      "text/plain": [
       "   post_id   tag\n",
       "0        1  tag1\n",
       "1        1  tag2\n",
       "2        1  tag3"
      ]
     },
     "metadata": {},
     "output_type": "display_data"
    }
   ],
   "source": [
    "table = \"flattening_nested_arrays\"\n",
    "\n",
    "df = pd.DataFrame(\n",
    "    [\n",
    "        (1, \"2000-01-01\", [\"tag1\", \"tag2\", \"tag3\"])\n",
    "    ],\n",
    "    columns=[\"post_id\", \"create_time\", \"tags\"]\n",
    ")\n",
    "\n",
    "sql = f\"\"\"\n",
    "SELECT\n",
    "    t.post_id,\n",
    "    tag\n",
    "FROM {config.glue_database}.{table} t\n",
    "CROSS JOIN UNNEST(t.tags) as t(tag)\n",
    "\"\"\"\n",
    "\n",
    "df_result = test_sql(table, df, sql)"
   ]
  },
  {
   "cell_type": "code",
   "execution_count": 11,
   "id": "992137ac-3f9f-475d-ac16-bd421d8e42f4",
   "metadata": {},
   "outputs": [
    {
     "data": {
      "text/html": [
       "<pre style=\"white-space:pre;overflow-x:auto;line-height:normal;font-family:Menlo,'DejaVu Sans Mono',consolas,'Courier New',monospace\"><span style=\"color: #00ff00; text-decoration-color: #00ff00\">───────────────────────────────────────── </span>table: flattening_nested_arrays<span style=\"color: #00ff00; text-decoration-color: #00ff00\"> ─────────────────────────────────────────</span>\n",
       "</pre>\n"
      ],
      "text/plain": [
       "\u001b[92m───────────────────────────────────────── \u001b[0mtable: flattening_nested_arrays\u001b[92m ─────────────────────────────────────────\u001b[0m\n"
      ]
     },
     "metadata": {},
     "output_type": "display_data"
    },
    {
     "data": {
      "text/html": [
       "<div>\n",
       "<style scoped>\n",
       "    .dataframe tbody tr th:only-of-type {\n",
       "        vertical-align: middle;\n",
       "    }\n",
       "\n",
       "    .dataframe tbody tr th {\n",
       "        vertical-align: top;\n",
       "    }\n",
       "\n",
       "    .dataframe thead th {\n",
       "        text-align: right;\n",
       "    }\n",
       "</style>\n",
       "<table border=\"1\" class=\"dataframe\">\n",
       "  <thead>\n",
       "    <tr style=\"text-align: right;\">\n",
       "      <th></th>\n",
       "      <th>department</th>\n",
       "      <th>people</th>\n",
       "    </tr>\n",
       "  </thead>\n",
       "  <tbody>\n",
       "    <tr>\n",
       "      <th>0</th>\n",
       "      <td>engineering</td>\n",
       "      <td>[{'first': 'Bob', 'last': 'Smith', 'age': 40},...</td>\n",
       "    </tr>\n",
       "  </tbody>\n",
       "</table>\n",
       "</div>"
      ],
      "text/plain": [
       "    department                                             people\n",
       "0  engineering  [{'first': 'Bob', 'last': 'Smith', 'age': 40},..."
      ]
     },
     "metadata": {},
     "output_type": "display_data"
    },
    {
     "data": {
      "text/html": [
       "<pre style=\"white-space:pre;overflow-x:auto;line-height:normal;font-family:Menlo,'DejaVu Sans Mono',consolas,'Courier New',monospace\"><span style=\"color: #00ff00; text-decoration-color: #00ff00\">─────────────────────────────────────────────────────── </span>sql<span style=\"color: #00ff00; text-decoration-color: #00ff00\"> ───────────────────────────────────────────────────────</span>\n",
       "</pre>\n"
      ],
      "text/plain": [
       "\u001b[92m─────────────────────────────────────────────────────── \u001b[0msql\u001b[92m ───────────────────────────────────────────────────────\u001b[0m\n"
      ]
     },
     "metadata": {},
     "output_type": "display_data"
    },
    {
     "data": {
      "text/html": [
       "<pre style=\"white-space:pre;overflow-x:auto;line-height:normal;font-family:Menlo,'DejaVu Sans Mono',consolas,'Courier New',monospace\">\n",
       "SELECT\n",
       "    names.first AS first_name,\n",
       "    names.last AS last_name,\n",
       "    t.department\n",
       "FROM athena_sql_examples.flattening_nested_arrays t\n",
       "CROSS JOIN <span style=\"color: #800080; text-decoration-color: #800080; font-weight: bold\">UNNEST</span><span style=\"font-weight: bold\">(</span>t.people<span style=\"font-weight: bold\">)</span> as <span style=\"color: #800080; text-decoration-color: #800080; font-weight: bold\">t</span><span style=\"font-weight: bold\">(</span>names<span style=\"font-weight: bold\">)</span>\n",
       "\n",
       "</pre>\n"
      ],
      "text/plain": [
       "\n",
       "SELECT\n",
       "    names.first AS first_name,\n",
       "    names.last AS last_name,\n",
       "    t.department\n",
       "FROM athena_sql_examples.flattening_nested_arrays t\n",
       "CROSS JOIN \u001b[1;35mUNNEST\u001b[0m\u001b[1m(\u001b[0mt.people\u001b[1m)\u001b[0m as \u001b[1;35mt\u001b[0m\u001b[1m(\u001b[0mnames\u001b[1m)\u001b[0m\n",
       "\n"
      ]
     },
     "metadata": {},
     "output_type": "display_data"
    },
    {
     "data": {
      "text/html": [
       "<pre style=\"white-space:pre;overflow-x:auto;line-height:normal;font-family:Menlo,'DejaVu Sans Mono',consolas,'Courier New',monospace\"><span style=\"color: #00ff00; text-decoration-color: #00ff00\">────────────────────────────────────────────────── </span>query result<span style=\"color: #00ff00; text-decoration-color: #00ff00\"> ───────────────────────────────────────────────────</span>\n",
       "</pre>\n"
      ],
      "text/plain": [
       "\u001b[92m────────────────────────────────────────────────── \u001b[0mquery result\u001b[92m ───────────────────────────────────────────────────\u001b[0m\n"
      ]
     },
     "metadata": {},
     "output_type": "display_data"
    },
    {
     "data": {
      "text/html": [
       "<div>\n",
       "<style scoped>\n",
       "    .dataframe tbody tr th:only-of-type {\n",
       "        vertical-align: middle;\n",
       "    }\n",
       "\n",
       "    .dataframe tbody tr th {\n",
       "        vertical-align: top;\n",
       "    }\n",
       "\n",
       "    .dataframe thead th {\n",
       "        text-align: right;\n",
       "    }\n",
       "</style>\n",
       "<table border=\"1\" class=\"dataframe\">\n",
       "  <thead>\n",
       "    <tr style=\"text-align: right;\">\n",
       "      <th></th>\n",
       "      <th>first_name</th>\n",
       "      <th>last_name</th>\n",
       "      <th>department</th>\n",
       "    </tr>\n",
       "  </thead>\n",
       "  <tbody>\n",
       "    <tr>\n",
       "      <th>0</th>\n",
       "      <td>Bob</td>\n",
       "      <td>Smith</td>\n",
       "      <td>engineering</td>\n",
       "    </tr>\n",
       "    <tr>\n",
       "      <th>1</th>\n",
       "      <td>Jane</td>\n",
       "      <td>Doe</td>\n",
       "      <td>engineering</td>\n",
       "    </tr>\n",
       "    <tr>\n",
       "      <th>2</th>\n",
       "      <td>Billy</td>\n",
       "      <td>Wilson</td>\n",
       "      <td>engineering</td>\n",
       "    </tr>\n",
       "  </tbody>\n",
       "</table>\n",
       "</div>"
      ],
      "text/plain": [
       "  first_name last_name   department\n",
       "0        Bob     Smith  engineering\n",
       "1       Jane       Doe  engineering\n",
       "2      Billy    Wilson  engineering"
      ]
     },
     "metadata": {},
     "output_type": "display_data"
    }
   ],
   "source": [
    "table = \"flattening_nested_arrays\"\n",
    "\n",
    "df = pd.DataFrame(\n",
    "    [\n",
    "        (\n",
    "            \"engineering\", \n",
    "            [\n",
    "                {\"first\": \"Bob\", \"last\": \"Smith\", \"age\": 40},\n",
    "                {\"first\": \"Jane\", \"last\": \"Doe\", \"age\": 30},\n",
    "                {\"first\": \"Billy\", \"last\": \"Wilson\", \"age\": 8},\n",
    "            ]\n",
    "        ),\n",
    "    ],\n",
    "    columns=[\"department\", \"people\"]\n",
    ")\n",
    "\n",
    "sql = f\"\"\"\n",
    "SELECT\n",
    "    names.first AS first_name,\n",
    "    names.last AS last_name,\n",
    "    t.department\n",
    "FROM {config.glue_database}.{table} t\n",
    "CROSS JOIN UNNEST(t.people) as t(names)\n",
    "\"\"\"\n",
    "\n",
    "df_result = test_sql(table, df, sql)"
   ]
  },
  {
   "cell_type": "code",
   "execution_count": 19,
   "id": "e0bb46b1-7ace-4c80-9e96-a2d11d34101e",
   "metadata": {},
   "outputs": [
    {
     "data": {
      "text/html": [
       "<pre style=\"white-space:pre;overflow-x:auto;line-height:normal;font-family:Menlo,'DejaVu Sans Mono',consolas,'Courier New',monospace\"><span style=\"color: #00ff00; text-decoration-color: #00ff00\">───────────────────────────────────────── </span>table: flattening_nested_arrays<span style=\"color: #00ff00; text-decoration-color: #00ff00\"> ─────────────────────────────────────────</span>\n",
       "</pre>\n"
      ],
      "text/plain": [
       "\u001b[92m───────────────────────────────────────── \u001b[0mtable: flattening_nested_arrays\u001b[92m ─────────────────────────────────────────\u001b[0m\n"
      ]
     },
     "metadata": {},
     "output_type": "display_data"
    },
    {
     "data": {
      "text/html": [
       "<div>\n",
       "<style scoped>\n",
       "    .dataframe tbody tr th:only-of-type {\n",
       "        vertical-align: middle;\n",
       "    }\n",
       "\n",
       "    .dataframe tbody tr th {\n",
       "        vertical-align: top;\n",
       "    }\n",
       "\n",
       "    .dataframe thead th {\n",
       "        text-align: right;\n",
       "    }\n",
       "</style>\n",
       "<table border=\"1\" class=\"dataframe\">\n",
       "  <thead>\n",
       "    <tr style=\"text-align: right;\">\n",
       "      <th></th>\n",
       "      <th>company</th>\n",
       "      <th>users</th>\n",
       "    </tr>\n",
       "  </thead>\n",
       "  <tbody>\n",
       "    <tr>\n",
       "      <th>0</th>\n",
       "      <td>company ABC</td>\n",
       "      <td>[{'name': 'Sally', 'department': 'engineering'...</td>\n",
       "    </tr>\n",
       "  </tbody>\n",
       "</table>\n",
       "</div>"
      ],
      "text/plain": [
       "       company                                              users\n",
       "0  company ABC  [{'name': 'Sally', 'department': 'engineering'..."
      ]
     },
     "metadata": {},
     "output_type": "display_data"
    },
    {
     "data": {
      "text/html": [
       "<pre style=\"white-space:pre;overflow-x:auto;line-height:normal;font-family:Menlo,'DejaVu Sans Mono',consolas,'Courier New',monospace\"><span style=\"color: #00ff00; text-decoration-color: #00ff00\">─────────────────────────────────────────────────────── </span>sql<span style=\"color: #00ff00; text-decoration-color: #00ff00\"> ───────────────────────────────────────────────────────</span>\n",
       "</pre>\n"
      ],
      "text/plain": [
       "\u001b[92m─────────────────────────────────────────────────────── \u001b[0msql\u001b[92m ───────────────────────────────────────────────────────\u001b[0m\n"
      ]
     },
     "metadata": {},
     "output_type": "display_data"
    },
    {
     "data": {
      "text/html": [
       "<pre style=\"white-space:pre;overflow-x:auto;line-height:normal;font-family:Menlo,'DejaVu Sans Mono',consolas,'Courier New',monospace\">\n",
       "SELECT\n",
       "    person,\n",
       "    score\n",
       "FROM \n",
       "    athena_sql_examples.flattening_nested_arrays as dataset,\n",
       "    <span style=\"color: #800080; text-decoration-color: #800080; font-weight: bold\">UNNEST</span><span style=\"font-weight: bold\">(</span>dataset.users<span style=\"font-weight: bold\">)</span> AS <span style=\"color: #800080; text-decoration-color: #800080; font-weight: bold\">t</span><span style=\"font-weight: bold\">(</span>person<span style=\"font-weight: bold\">)</span>,\n",
       "    <span style=\"color: #800080; text-decoration-color: #800080; font-weight: bold\">UNNEST</span><span style=\"font-weight: bold\">(</span>person.scores<span style=\"font-weight: bold\">)</span> AS <span style=\"color: #800080; text-decoration-color: #800080; font-weight: bold\">t</span><span style=\"font-weight: bold\">(</span>score<span style=\"font-weight: bold\">)</span>        \n",
       "\n",
       "</pre>\n"
      ],
      "text/plain": [
       "\n",
       "SELECT\n",
       "    person,\n",
       "    score\n",
       "FROM \n",
       "    athena_sql_examples.flattening_nested_arrays as dataset,\n",
       "    \u001b[1;35mUNNEST\u001b[0m\u001b[1m(\u001b[0mdataset.users\u001b[1m)\u001b[0m AS \u001b[1;35mt\u001b[0m\u001b[1m(\u001b[0mperson\u001b[1m)\u001b[0m,\n",
       "    \u001b[1;35mUNNEST\u001b[0m\u001b[1m(\u001b[0mperson.scores\u001b[1m)\u001b[0m AS \u001b[1;35mt\u001b[0m\u001b[1m(\u001b[0mscore\u001b[1m)\u001b[0m        \n",
       "\n"
      ]
     },
     "metadata": {},
     "output_type": "display_data"
    },
    {
     "data": {
      "text/html": [
       "<pre style=\"white-space:pre;overflow-x:auto;line-height:normal;font-family:Menlo,'DejaVu Sans Mono',consolas,'Courier New',monospace\"><span style=\"color: #00ff00; text-decoration-color: #00ff00\">────────────────────────────────────────────────── </span>query result<span style=\"color: #00ff00; text-decoration-color: #00ff00\"> ───────────────────────────────────────────────────</span>\n",
       "</pre>\n"
      ],
      "text/plain": [
       "\u001b[92m────────────────────────────────────────────────── \u001b[0mquery result\u001b[92m ───────────────────────────────────────────────────\u001b[0m\n"
      ]
     },
     "metadata": {},
     "output_type": "display_data"
    },
    {
     "data": {
      "text/html": [
       "<div>\n",
       "<style scoped>\n",
       "    .dataframe tbody tr th:only-of-type {\n",
       "        vertical-align: middle;\n",
       "    }\n",
       "\n",
       "    .dataframe tbody tr th {\n",
       "        vertical-align: top;\n",
       "    }\n",
       "\n",
       "    .dataframe thead th {\n",
       "        text-align: right;\n",
       "    }\n",
       "</style>\n",
       "<table border=\"1\" class=\"dataframe\">\n",
       "  <thead>\n",
       "    <tr style=\"text-align: right;\">\n",
       "      <th></th>\n",
       "      <th>person</th>\n",
       "      <th>score</th>\n",
       "    </tr>\n",
       "  </thead>\n",
       "  <tbody>\n",
       "    <tr>\n",
       "      <th>0</th>\n",
       "      <td>{department=engineering, name=Sally, scores=[1...</td>\n",
       "      <td>1</td>\n",
       "    </tr>\n",
       "    <tr>\n",
       "      <th>1</th>\n",
       "      <td>{department=engineering, name=Sally, scores=[1...</td>\n",
       "      <td>2</td>\n",
       "    </tr>\n",
       "    <tr>\n",
       "      <th>2</th>\n",
       "      <td>{department=engineering, name=Sally, scores=[1...</td>\n",
       "      <td>3</td>\n",
       "    </tr>\n",
       "    <tr>\n",
       "      <th>3</th>\n",
       "      <td>{department=engineering, name=Sally, scores=[1...</td>\n",
       "      <td>4</td>\n",
       "    </tr>\n",
       "    <tr>\n",
       "      <th>4</th>\n",
       "      <td>{department=finance, name=John, scores=[7, 8, 9]}</td>\n",
       "      <td>7</td>\n",
       "    </tr>\n",
       "    <tr>\n",
       "      <th>5</th>\n",
       "      <td>{department=finance, name=John, scores=[7, 8, 9]}</td>\n",
       "      <td>8</td>\n",
       "    </tr>\n",
       "    <tr>\n",
       "      <th>6</th>\n",
       "      <td>{department=finance, name=John, scores=[7, 8, 9]}</td>\n",
       "      <td>9</td>\n",
       "    </tr>\n",
       "    <tr>\n",
       "      <th>7</th>\n",
       "      <td>{department=hr, name=Amy, scores=[12, 13, 14, ...</td>\n",
       "      <td>12</td>\n",
       "    </tr>\n",
       "    <tr>\n",
       "      <th>8</th>\n",
       "      <td>{department=hr, name=Amy, scores=[12, 13, 14, ...</td>\n",
       "      <td>13</td>\n",
       "    </tr>\n",
       "    <tr>\n",
       "      <th>9</th>\n",
       "      <td>{department=hr, name=Amy, scores=[12, 13, 14, ...</td>\n",
       "      <td>14</td>\n",
       "    </tr>\n",
       "    <tr>\n",
       "      <th>10</th>\n",
       "      <td>{department=hr, name=Amy, scores=[12, 13, 14, ...</td>\n",
       "      <td>15</td>\n",
       "    </tr>\n",
       "  </tbody>\n",
       "</table>\n",
       "</div>"
      ],
      "text/plain": [
       "                                               person  score\n",
       "0   {department=engineering, name=Sally, scores=[1...      1\n",
       "1   {department=engineering, name=Sally, scores=[1...      2\n",
       "2   {department=engineering, name=Sally, scores=[1...      3\n",
       "3   {department=engineering, name=Sally, scores=[1...      4\n",
       "4   {department=finance, name=John, scores=[7, 8, 9]}      7\n",
       "5   {department=finance, name=John, scores=[7, 8, 9]}      8\n",
       "6   {department=finance, name=John, scores=[7, 8, 9]}      9\n",
       "7   {department=hr, name=Amy, scores=[12, 13, 14, ...     12\n",
       "8   {department=hr, name=Amy, scores=[12, 13, 14, ...     13\n",
       "9   {department=hr, name=Amy, scores=[12, 13, 14, ...     14\n",
       "10  {department=hr, name=Amy, scores=[12, 13, 14, ...     15"
      ]
     },
     "metadata": {},
     "output_type": "display_data"
    },
    {
     "data": {
      "text/html": [
       "<pre style=\"white-space:pre;overflow-x:auto;line-height:normal;font-family:Menlo,'DejaVu Sans Mono',consolas,'Courier New',monospace\"><span style=\"color: #00ff00; text-decoration-color: #00ff00\">───────────────────────────────────────── </span>table: flattening_nested_arrays<span style=\"color: #00ff00; text-decoration-color: #00ff00\"> ─────────────────────────────────────────</span>\n",
       "</pre>\n"
      ],
      "text/plain": [
       "\u001b[92m───────────────────────────────────────── \u001b[0mtable: flattening_nested_arrays\u001b[92m ─────────────────────────────────────────\u001b[0m\n"
      ]
     },
     "metadata": {},
     "output_type": "display_data"
    },
    {
     "data": {
      "text/html": [
       "<div>\n",
       "<style scoped>\n",
       "    .dataframe tbody tr th:only-of-type {\n",
       "        vertical-align: middle;\n",
       "    }\n",
       "\n",
       "    .dataframe tbody tr th {\n",
       "        vertical-align: top;\n",
       "    }\n",
       "\n",
       "    .dataframe thead th {\n",
       "        text-align: right;\n",
       "    }\n",
       "</style>\n",
       "<table border=\"1\" class=\"dataframe\">\n",
       "  <thead>\n",
       "    <tr style=\"text-align: right;\">\n",
       "      <th></th>\n",
       "      <th>company</th>\n",
       "      <th>users</th>\n",
       "    </tr>\n",
       "  </thead>\n",
       "  <tbody>\n",
       "    <tr>\n",
       "      <th>0</th>\n",
       "      <td>company ABC</td>\n",
       "      <td>[{'name': 'Sally', 'department': 'engineering'...</td>\n",
       "    </tr>\n",
       "  </tbody>\n",
       "</table>\n",
       "</div>"
      ],
      "text/plain": [
       "       company                                              users\n",
       "0  company ABC  [{'name': 'Sally', 'department': 'engineering'..."
      ]
     },
     "metadata": {},
     "output_type": "display_data"
    },
    {
     "data": {
      "text/html": [
       "<pre style=\"white-space:pre;overflow-x:auto;line-height:normal;font-family:Menlo,'DejaVu Sans Mono',consolas,'Courier New',monospace\"><span style=\"color: #00ff00; text-decoration-color: #00ff00\">─────────────────────────────────────────────────────── </span>sql<span style=\"color: #00ff00; text-decoration-color: #00ff00\"> ───────────────────────────────────────────────────────</span>\n",
       "</pre>\n"
      ],
      "text/plain": [
       "\u001b[92m─────────────────────────────────────────────────────── \u001b[0msql\u001b[92m ───────────────────────────────────────────────────────\u001b[0m\n"
      ]
     },
     "metadata": {},
     "output_type": "display_data"
    },
    {
     "data": {
      "text/html": [
       "<pre style=\"white-space:pre;overflow-x:auto;line-height:normal;font-family:Menlo,'DejaVu Sans Mono',consolas,'Courier New',monospace\">\n",
       "WITH users AS <span style=\"font-weight: bold\">(</span>\n",
       "    SELECT\n",
       "        person,\n",
       "        score\n",
       "    FROM \n",
       "        athena_sql_examples.flattening_nested_arrays as dataset,\n",
       "        <span style=\"color: #800080; text-decoration-color: #800080; font-weight: bold\">UNNEST</span><span style=\"font-weight: bold\">(</span>dataset.users<span style=\"font-weight: bold\">)</span> AS <span style=\"color: #800080; text-decoration-color: #800080; font-weight: bold\">t</span><span style=\"font-weight: bold\">(</span>person<span style=\"font-weight: bold\">)</span>,\n",
       "        <span style=\"color: #800080; text-decoration-color: #800080; font-weight: bold\">UNNEST</span><span style=\"font-weight: bold\">(</span>person.scores<span style=\"font-weight: bold\">)</span> AS <span style=\"color: #800080; text-decoration-color: #800080; font-weight: bold\">t</span><span style=\"font-weight: bold\">(</span>score<span style=\"font-weight: bold\">)</span>\n",
       "<span style=\"font-weight: bold\">)</span>\n",
       "SELECT \n",
       "    users.person.name, \n",
       "    users.person.department, \n",
       "    <span style=\"color: #800080; text-decoration-color: #800080; font-weight: bold\">SUM</span><span style=\"font-weight: bold\">(</span>users.score<span style=\"font-weight: bold\">)</span> AS total_score \n",
       "FROM users\n",
       "GROUP BY <span style=\"font-weight: bold\">(</span>\n",
       "    users.person.name, \n",
       "    users.person.department\n",
       "<span style=\"font-weight: bold\">)</span>\n",
       "ORDER BY <span style=\"font-weight: bold\">(</span>total_score<span style=\"font-weight: bold\">)</span> DESC\n",
       "\n",
       "</pre>\n"
      ],
      "text/plain": [
       "\n",
       "WITH users AS \u001b[1m(\u001b[0m\n",
       "    SELECT\n",
       "        person,\n",
       "        score\n",
       "    FROM \n",
       "        athena_sql_examples.flattening_nested_arrays as dataset,\n",
       "        \u001b[1;35mUNNEST\u001b[0m\u001b[1m(\u001b[0mdataset.users\u001b[1m)\u001b[0m AS \u001b[1;35mt\u001b[0m\u001b[1m(\u001b[0mperson\u001b[1m)\u001b[0m,\n",
       "        \u001b[1;35mUNNEST\u001b[0m\u001b[1m(\u001b[0mperson.scores\u001b[1m)\u001b[0m AS \u001b[1;35mt\u001b[0m\u001b[1m(\u001b[0mscore\u001b[1m)\u001b[0m\n",
       "\u001b[1m)\u001b[0m\n",
       "SELECT \n",
       "    users.person.name, \n",
       "    users.person.department, \n",
       "    \u001b[1;35mSUM\u001b[0m\u001b[1m(\u001b[0musers.score\u001b[1m)\u001b[0m AS total_score \n",
       "FROM users\n",
       "GROUP BY \u001b[1m(\u001b[0m\n",
       "    users.person.name, \n",
       "    users.person.department\n",
       "\u001b[1m)\u001b[0m\n",
       "ORDER BY \u001b[1m(\u001b[0mtotal_score\u001b[1m)\u001b[0m DESC\n",
       "\n"
      ]
     },
     "metadata": {},
     "output_type": "display_data"
    },
    {
     "data": {
      "text/html": [
       "<pre style=\"white-space:pre;overflow-x:auto;line-height:normal;font-family:Menlo,'DejaVu Sans Mono',consolas,'Courier New',monospace\"><span style=\"color: #00ff00; text-decoration-color: #00ff00\">────────────────────────────────────────────────── </span>query result<span style=\"color: #00ff00; text-decoration-color: #00ff00\"> ───────────────────────────────────────────────────</span>\n",
       "</pre>\n"
      ],
      "text/plain": [
       "\u001b[92m────────────────────────────────────────────────── \u001b[0mquery result\u001b[92m ───────────────────────────────────────────────────\u001b[0m\n"
      ]
     },
     "metadata": {},
     "output_type": "display_data"
    },
    {
     "data": {
      "text/html": [
       "<div>\n",
       "<style scoped>\n",
       "    .dataframe tbody tr th:only-of-type {\n",
       "        vertical-align: middle;\n",
       "    }\n",
       "\n",
       "    .dataframe tbody tr th {\n",
       "        vertical-align: top;\n",
       "    }\n",
       "\n",
       "    .dataframe thead th {\n",
       "        text-align: right;\n",
       "    }\n",
       "</style>\n",
       "<table border=\"1\" class=\"dataframe\">\n",
       "  <thead>\n",
       "    <tr style=\"text-align: right;\">\n",
       "      <th></th>\n",
       "      <th>name</th>\n",
       "      <th>department</th>\n",
       "      <th>total_score</th>\n",
       "    </tr>\n",
       "  </thead>\n",
       "  <tbody>\n",
       "    <tr>\n",
       "      <th>0</th>\n",
       "      <td>Amy</td>\n",
       "      <td>hr</td>\n",
       "      <td>54</td>\n",
       "    </tr>\n",
       "    <tr>\n",
       "      <th>1</th>\n",
       "      <td>John</td>\n",
       "      <td>finance</td>\n",
       "      <td>24</td>\n",
       "    </tr>\n",
       "    <tr>\n",
       "      <th>2</th>\n",
       "      <td>Sally</td>\n",
       "      <td>engineering</td>\n",
       "      <td>10</td>\n",
       "    </tr>\n",
       "  </tbody>\n",
       "</table>\n",
       "</div>"
      ],
      "text/plain": [
       "    name   department  total_score\n",
       "0    Amy           hr           54\n",
       "1   John      finance           24\n",
       "2  Sally  engineering           10"
      ]
     },
     "metadata": {},
     "output_type": "display_data"
    }
   ],
   "source": [
    "table = \"flattening_nested_arrays\"\n",
    "\n",
    "df = pd.DataFrame(\n",
    "    [\n",
    "        (\n",
    "            \"company ABC\",\n",
    "            [\n",
    "                {\"name\": \"Sally\", \"department\": \"engineering\", \"scores\": [1, 2, 3, 4]},\n",
    "                {\"name\": \"John\", \"department\": \"finance\", \"scores\": [7, 8, 9]},\n",
    "                {\"name\": \"Amy\", \"department\": \"hr\", \"scores\": [12, 13, 14, 15]},\n",
    "            ],\n",
    "        )\n",
    "    ],\n",
    "    columns=[\"company\", \"users\"],\n",
    ")\n",
    "\n",
    "sql = f\"\"\"\n",
    "SELECT\n",
    "    person,\n",
    "    score\n",
    "FROM \n",
    "    {config.glue_database}.{table} as dataset,\n",
    "    UNNEST(dataset.users) AS t(person),\n",
    "    UNNEST(person.scores) AS t(score)        \n",
    "\"\"\"\n",
    "df_result = test_sql(table, df, sql)\n",
    "\n",
    "sql = f\"\"\"\n",
    "WITH users AS (\n",
    "    SELECT\n",
    "        person,\n",
    "        score\n",
    "    FROM \n",
    "        {config.glue_database}.{table} as dataset,\n",
    "        UNNEST(dataset.users) AS t(person),\n",
    "        UNNEST(person.scores) AS t(score)\n",
    ")\n",
    "SELECT \n",
    "    users.person.name, \n",
    "    users.person.department, \n",
    "    SUM(users.score) AS total_score \n",
    "FROM users\n",
    "GROUP BY (\n",
    "    users.person.name, \n",
    "    users.person.department\n",
    ")\n",
    "ORDER BY (total_score) DESC\n",
    "\"\"\"\n",
    "df_result = test_sql(table, df, sql)"
   ]
  },
  {
   "cell_type": "code",
   "execution_count": null,
   "id": "e401c918-fbdc-4601-8325-f5802f1a4803",
   "metadata": {},
   "outputs": [],
   "source": []
  }
 ],
 "metadata": {
  "kernelspec": {
   "display_name": "Python 3 (ipykernel)",
   "language": "python",
   "name": "python3"
  },
  "language_info": {
   "codemirror_mode": {
    "name": "ipython",
    "version": 3
   },
   "file_extension": ".py",
   "mimetype": "text/x-python",
   "name": "python",
   "nbconvert_exporter": "python",
   "pygments_lexer": "ipython3",
   "version": "3.10.10"
  }
 },
 "nbformat": 4,
 "nbformat_minor": 5
}
