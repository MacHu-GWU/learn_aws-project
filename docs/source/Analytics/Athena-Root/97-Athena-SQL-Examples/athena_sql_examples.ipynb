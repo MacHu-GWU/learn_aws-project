{
 "cells": [
  {
   "cell_type": "markdown",
   "id": "c4f86798-0699-4182-9d86-ef8753159d19",
   "metadata": {},
   "source": [
    "# Athena SQL Example"
   ]
  },
  {
   "cell_type": "code",
   "execution_count": 62,
   "id": "41fc7922-a6c9-40bc-9cde-3bbba6e04d74",
   "metadata": {},
   "outputs": [],
   "source": [
    "import dataclasses\n",
    "\n",
    "import numpy as np\n",
    "import pandas as pd\n",
    "import awswrangler as wr\n",
    "from boto_session_manager import BotoSesManager\n",
    "from s3pathlib import S3Path, context\n",
    "from pyathena import connect\n",
    "from pyathena.pandas.util import as_pandas\n",
    "\n",
    "from rich import print as rprint\n",
    "from rich.console import Console"
   ]
  },
  {
   "cell_type": "markdown",
   "id": "12430041-9bb8-44ba-b406-8ee46153967b",
   "metadata": {},
   "source": [
    "## Helpers"
   ]
  },
  {
   "cell_type": "code",
   "execution_count": 63,
   "id": "880b0dc0-43b9-4f11-b320-b518374f2858",
   "metadata": {},
   "outputs": [],
   "source": [
    "console = Console()"
   ]
  },
  {
   "cell_type": "code",
   "execution_count": 14,
   "id": "2a024818-c435-4164-8378-6265c4f0bc1a",
   "metadata": {},
   "outputs": [
    {
     "data": {
      "text/html": [
       "<pre style=\"white-space:pre;overflow-x:auto;line-height:normal;font-family:Menlo,'DejaVu Sans Mono',consolas,'Courier New',monospace\"><span style=\"color: #800080; text-decoration-color: #800080; font-weight: bold\">Config</span><span style=\"font-weight: bold\">(</span>\n",
       "    <span style=\"color: #808000; text-decoration-color: #808000\">aws_profile</span>=<span style=\"color: #008000; text-decoration-color: #008000\">'bmt_app_dev_us_east_1'</span>,\n",
       "    <span style=\"color: #808000; text-decoration-color: #808000\">bucket</span>=<span style=\"color: #008000; text-decoration-color: #008000\">'bmt-app-dev-us-east-1-data'</span>,\n",
       "    <span style=\"color: #808000; text-decoration-color: #808000\">prefix</span>=<span style=\"color: #008000; text-decoration-color: #008000\">'poc/2023-12-01-athena-in-python'</span>,\n",
       "    <span style=\"color: #808000; text-decoration-color: #808000\">glue_database</span>=<span style=\"color: #008000; text-decoration-color: #008000\">'athena_sql_examples'</span>\n",
       "<span style=\"font-weight: bold\">)</span>\n",
       "</pre>\n"
      ],
      "text/plain": [
       "\u001b[1;35mConfig\u001b[0m\u001b[1m(\u001b[0m\n",
       "    \u001b[33maws_profile\u001b[0m=\u001b[32m'bmt_app_dev_us_east_1'\u001b[0m,\n",
       "    \u001b[33mbucket\u001b[0m=\u001b[32m'bmt-app-dev-us-east-1-data'\u001b[0m,\n",
       "    \u001b[33mprefix\u001b[0m=\u001b[32m'poc/2023-12-01-athena-in-python'\u001b[0m,\n",
       "    \u001b[33mglue_database\u001b[0m=\u001b[32m'athena_sql_examples'\u001b[0m\n",
       "\u001b[1m)\u001b[0m\n"
      ]
     },
     "metadata": {},
     "output_type": "display_data"
    },
    {
     "name": "stdout",
     "output_type": "stream",
     "text": [
      "https://console.aws.amazon.com/s3/buckets/bmt-app-dev-us-east-1-data?prefix=poc/2023-12-01-athena-in-python/\n"
     ]
    }
   ],
   "source": [
    "@dataclasses.dataclass\n",
    "class Config:\n",
    "    aws_profile: str = dataclasses.field()\n",
    "    bucket: str = dataclasses.field()\n",
    "    prefix: str = dataclasses.field()\n",
    "    glue_database: str = dataclasses.field()\n",
    "\n",
    "    @property\n",
    "    def s3dir_database(self) -> S3Path:\n",
    "        return S3Path(f\"s3://{self.bucket}/{self.prefix}\").to_dir()\n",
    "\n",
    "    def get_s3dir_table(self, table: str) -> S3Path:\n",
    "        return self.s3dir_database.joinpath(table).to_dir()\n",
    "\n",
    "\n",
    "config = Config(\n",
    "    aws_profile = \"bmt_app_dev_us_east_1\",\n",
    "    bucket = \"bmt-app-dev-us-east-1-data\",\n",
    "    prefix = \"poc/2023-12-01-athena-in-python\",\n",
    "    glue_database = \"athena_sql_examples\",\n",
    ")\n",
    "rprint(config)\n",
    "print(config.s3dir_database.console_url)"
   ]
  },
  {
   "cell_type": "code",
   "execution_count": 45,
   "id": "684135f6-8c37-41fa-bdcb-dd82f6eee119",
   "metadata": {},
   "outputs": [],
   "source": [
    "bsm = BotoSesManager(profile_name=config.aws_profile)\n",
    "context.attach_boto_session(bsm.boto_ses)\n",
    "s3dir_athena_result = S3Path(f\"s3://{config.bucket}/athena/results/\").to_dir()\n",
    "conn = connect(\n",
    "    s3_staging_dir=s3dir_athena_result.uri,\n",
    "    profile_name=config.aws_profile,\n",
    "    region_name=bsm.aws_region,\n",
    ")\n",
    "cursor = conn.cursor()"
   ]
  },
  {
   "cell_type": "code",
   "execution_count": 44,
   "id": "6ac804c7-e5b6-4066-8e75-326b838bd99a",
   "metadata": {},
   "outputs": [],
   "source": [
    "def create_database(\n",
    "    bsm: \"BotoSesManager\",\n",
    "    database: str,\n",
    "):\n",
    "    databases = wr.catalog.databases(boto3_session=bsm.boto_ses)\n",
    "    if database not in databases.values:\n",
    "        wr.catalog.create_database(database, boto3_session=bsm.boto_ses)\n",
    "\n",
    "\n",
    "def create_table_with_dummy_data(\n",
    "    bsm: \"BotoSesManager\",\n",
    "    df: pd.DataFrame,\n",
    "    s3dir_table: S3Path,\n",
    "    database: str,\n",
    "    table: str,\n",
    "    mode: str = \"overwrite\",\n",
    "    delete_old_table: bool = True,\n",
    "    delete_old_data: bool = True,\n",
    "    delete_new_data: bool = False,\n",
    "):\n",
    "    if delete_old_table:\n",
    "        tables = wr.catalog.tables(database=database, boto3_session=bsm.boto_ses)\n",
    "        if table in tables.values:\n",
    "            bsm.glue_client.delete_table(\n",
    "                DatabaseName=database,\n",
    "                Name=table,\n",
    "            )\n",
    "\n",
    "    if delete_old_data:\n",
    "        s3dir_table.delete(bsm=bsm)\n",
    "\n",
    "    wr.s3.to_parquet(\n",
    "        df=df,\n",
    "        path=s3dir_table.uri,\n",
    "        dataset=True,\n",
    "        database=database,\n",
    "        table=table,\n",
    "        mode=mode,\n",
    "        boto3_session=bsm.boto_ses,\n",
    "    )\n",
    "    \n",
    "    if delete_new_data:\n",
    "        s3dir_table.delete(bsm=bsm)\n",
    "\n",
    "\n",
    "def create_table_v1(\n",
    "    df: pd.DataFrame,\n",
    "    table: str,\n",
    "):\n",
    "    return create_table_with_dummy_data(\n",
    "        bsm=bsm,\n",
    "        df=df,\n",
    "        s3dir_table=config.get_s3dir_table(table),\n",
    "        database=config.glue_database,\n",
    "        table=table,\n",
    "    )\n",
    "\n",
    "create_database(bsm, config.glue_database)"
   ]
  },
  {
   "cell_type": "code",
   "execution_count": 69,
   "id": "abaf8c85-03f7-4e35-8241-40e1b5e8d41c",
   "metadata": {},
   "outputs": [],
   "source": [
    "def test_sql(\n",
    "    table: str,\n",
    "    df: pd.DataFrame,\n",
    "    sql: str,\n",
    "    recreate_table: bool = True,\n",
    ") -> pd.DataFrame:\n",
    "    console.rule(f\"table: {table}\")\n",
    "    display(df)\n",
    "    if recreate_table:\n",
    "        create_table_v1(df, table)\n",
    "    console.rule(\"sql\")\n",
    "    rprint(sql)\n",
    "    cursor.execute(sql)\n",
    "    df_result = as_pandas(cursor)\n",
    "    console.rule(\"query result\")\n",
    "    display(df_result)\n",
    "    return df_result"
   ]
  },
  {
   "cell_type": "markdown",
   "id": "af2a39d8-075f-4b72-b173-2bd0815a36a4",
   "metadata": {},
   "source": [
    "## Flattening Nested Arrays"
   ]
  },
  {
   "cell_type": "code",
   "execution_count": 67,
   "id": "5b0e7a7f-a9be-4ed4-8995-e4374433d8d7",
   "metadata": {},
   "outputs": [
    {
     "data": {
      "text/html": [
       "<pre style=\"white-space:pre;overflow-x:auto;line-height:normal;font-family:Menlo,'DejaVu Sans Mono',consolas,'Courier New',monospace\"><span style=\"color: #00ff00; text-decoration-color: #00ff00\">───────────────────────────────────────── </span>table: flattening_nested_arrays<span style=\"color: #00ff00; text-decoration-color: #00ff00\"> ─────────────────────────────────────────</span>\n",
       "</pre>\n"
      ],
      "text/plain": [
       "\u001b[92m───────────────────────────────────────── \u001b[0mtable: flattening_nested_arrays\u001b[92m ─────────────────────────────────────────\u001b[0m\n"
      ]
     },
     "metadata": {},
     "output_type": "display_data"
    },
    {
     "data": {
      "text/html": [
       "<div>\n",
       "<style scoped>\n",
       "    .dataframe tbody tr th:only-of-type {\n",
       "        vertical-align: middle;\n",
       "    }\n",
       "\n",
       "    .dataframe tbody tr th {\n",
       "        vertical-align: top;\n",
       "    }\n",
       "\n",
       "    .dataframe thead th {\n",
       "        text-align: right;\n",
       "    }\n",
       "</style>\n",
       "<table border=\"1\" class=\"dataframe\">\n",
       "  <thead>\n",
       "    <tr style=\"text-align: right;\">\n",
       "      <th></th>\n",
       "      <th>post_id</th>\n",
       "      <th>create_time</th>\n",
       "      <th>tags</th>\n",
       "    </tr>\n",
       "  </thead>\n",
       "  <tbody>\n",
       "    <tr>\n",
       "      <th>0</th>\n",
       "      <td>1</td>\n",
       "      <td>2000-01-01</td>\n",
       "      <td>[tag1, tag2, tag3]</td>\n",
       "    </tr>\n",
       "  </tbody>\n",
       "</table>\n",
       "</div>"
      ],
      "text/plain": [
       "   post_id create_time                tags\n",
       "0        1  2000-01-01  [tag1, tag2, tag3]"
      ]
     },
     "metadata": {},
     "output_type": "display_data"
    },
    {
     "data": {
      "text/html": [
       "<pre style=\"white-space:pre;overflow-x:auto;line-height:normal;font-family:Menlo,'DejaVu Sans Mono',consolas,'Courier New',monospace\"><span style=\"color: #00ff00; text-decoration-color: #00ff00\">─────────────────────────────────────────────────────── </span>sql<span style=\"color: #00ff00; text-decoration-color: #00ff00\"> ───────────────────────────────────────────────────────</span>\n",
       "</pre>\n"
      ],
      "text/plain": [
       "\u001b[92m─────────────────────────────────────────────────────── \u001b[0msql\u001b[92m ───────────────────────────────────────────────────────\u001b[0m\n"
      ]
     },
     "metadata": {},
     "output_type": "display_data"
    },
    {
     "data": {
      "text/html": [
       "<pre style=\"white-space:pre;overflow-x:auto;line-height:normal;font-family:Menlo,'DejaVu Sans Mono',consolas,'Courier New',monospace\">\n",
       "SELECT\n",
       "    t.post_id,\n",
       "    tag\n",
       "FROM athena_sql_examples.flattening_nested_arrays t\n",
       "CROSS JOIN <span style=\"color: #800080; text-decoration-color: #800080; font-weight: bold\">UNNEST</span><span style=\"font-weight: bold\">(</span>t.tags<span style=\"font-weight: bold\">)</span> as <span style=\"color: #800080; text-decoration-color: #800080; font-weight: bold\">t</span><span style=\"font-weight: bold\">(</span>tag<span style=\"font-weight: bold\">)</span>\n",
       "\n",
       "</pre>\n"
      ],
      "text/plain": [
       "\n",
       "SELECT\n",
       "    t.post_id,\n",
       "    tag\n",
       "FROM athena_sql_examples.flattening_nested_arrays t\n",
       "CROSS JOIN \u001b[1;35mUNNEST\u001b[0m\u001b[1m(\u001b[0mt.tags\u001b[1m)\u001b[0m as \u001b[1;35mt\u001b[0m\u001b[1m(\u001b[0mtag\u001b[1m)\u001b[0m\n",
       "\n"
      ]
     },
     "metadata": {},
     "output_type": "display_data"
    },
    {
     "data": {
      "text/html": [
       "<pre style=\"white-space:pre;overflow-x:auto;line-height:normal;font-family:Menlo,'DejaVu Sans Mono',consolas,'Courier New',monospace\"><span style=\"color: #00ff00; text-decoration-color: #00ff00\">────────────────────────────────────────────────── </span>query result<span style=\"color: #00ff00; text-decoration-color: #00ff00\"> ───────────────────────────────────────────────────</span>\n",
       "</pre>\n"
      ],
      "text/plain": [
       "\u001b[92m────────────────────────────────────────────────── \u001b[0mquery result\u001b[92m ───────────────────────────────────────────────────\u001b[0m\n"
      ]
     },
     "metadata": {},
     "output_type": "display_data"
    },
    {
     "data": {
      "text/html": [
       "<div>\n",
       "<style scoped>\n",
       "    .dataframe tbody tr th:only-of-type {\n",
       "        vertical-align: middle;\n",
       "    }\n",
       "\n",
       "    .dataframe tbody tr th {\n",
       "        vertical-align: top;\n",
       "    }\n",
       "\n",
       "    .dataframe thead th {\n",
       "        text-align: right;\n",
       "    }\n",
       "</style>\n",
       "<table border=\"1\" class=\"dataframe\">\n",
       "  <thead>\n",
       "    <tr style=\"text-align: right;\">\n",
       "      <th></th>\n",
       "      <th>post_id</th>\n",
       "      <th>tag</th>\n",
       "    </tr>\n",
       "  </thead>\n",
       "  <tbody>\n",
       "    <tr>\n",
       "      <th>0</th>\n",
       "      <td>1</td>\n",
       "      <td>tag1</td>\n",
       "    </tr>\n",
       "    <tr>\n",
       "      <th>1</th>\n",
       "      <td>1</td>\n",
       "      <td>tag2</td>\n",
       "    </tr>\n",
       "    <tr>\n",
       "      <th>2</th>\n",
       "      <td>1</td>\n",
       "      <td>tag3</td>\n",
       "    </tr>\n",
       "  </tbody>\n",
       "</table>\n",
       "</div>"
      ],
      "text/plain": [
       "   post_id   tag\n",
       "0        1  tag1\n",
       "1        1  tag2\n",
       "2        1  tag3"
      ]
     },
     "metadata": {},
     "output_type": "display_data"
    }
   ],
   "source": [
    "table = \"flattening_nested_arrays\"\n",
    "\n",
    "df = pd.DataFrame(\n",
    "    [\n",
    "        (1, \"2000-01-01\", [\"tag1\", \"tag2\", \"tag3\"])\n",
    "    ],\n",
    "    columns=[\"post_id\", \"create_time\", \"tags\"]\n",
    ")\n",
    "\n",
    "sql = f\"\"\"\n",
    "SELECT\n",
    "    t.post_id,\n",
    "    tag\n",
    "FROM {config.glue_database}.{table} t\n",
    "CROSS JOIN UNNEST(t.tags) as t(tag)\n",
    "\"\"\"\n",
    "\n",
    "df_result = test_sql(table, df, sql)"
   ]
  },
  {
   "cell_type": "code",
   "execution_count": 75,
   "id": "992137ac-3f9f-475d-ac16-bd421d8e42f4",
   "metadata": {},
   "outputs": [
    {
     "data": {
      "text/html": [
       "<pre style=\"white-space:pre;overflow-x:auto;line-height:normal;font-family:Menlo,'DejaVu Sans Mono',consolas,'Courier New',monospace\"><span style=\"color: #00ff00; text-decoration-color: #00ff00\">───────────────────────────────────────── </span>table: flattening_nested_arrays<span style=\"color: #00ff00; text-decoration-color: #00ff00\"> ─────────────────────────────────────────</span>\n",
       "</pre>\n"
      ],
      "text/plain": [
       "\u001b[92m───────────────────────────────────────── \u001b[0mtable: flattening_nested_arrays\u001b[92m ─────────────────────────────────────────\u001b[0m\n"
      ]
     },
     "metadata": {},
     "output_type": "display_data"
    },
    {
     "data": {
      "text/html": [
       "<div>\n",
       "<style scoped>\n",
       "    .dataframe tbody tr th:only-of-type {\n",
       "        vertical-align: middle;\n",
       "    }\n",
       "\n",
       "    .dataframe tbody tr th {\n",
       "        vertical-align: top;\n",
       "    }\n",
       "\n",
       "    .dataframe thead th {\n",
       "        text-align: right;\n",
       "    }\n",
       "</style>\n",
       "<table border=\"1\" class=\"dataframe\">\n",
       "  <thead>\n",
       "    <tr style=\"text-align: right;\">\n",
       "      <th></th>\n",
       "      <th>department</th>\n",
       "      <th>people</th>\n",
       "    </tr>\n",
       "  </thead>\n",
       "  <tbody>\n",
       "    <tr>\n",
       "      <th>0</th>\n",
       "      <td>engineering</td>\n",
       "      <td>[{'first': 'Bob', 'last': 'Smith', 'age': 40},...</td>\n",
       "    </tr>\n",
       "  </tbody>\n",
       "</table>\n",
       "</div>"
      ],
      "text/plain": [
       "    department                                             people\n",
       "0  engineering  [{'first': 'Bob', 'last': 'Smith', 'age': 40},..."
      ]
     },
     "metadata": {},
     "output_type": "display_data"
    },
    {
     "data": {
      "text/html": [
       "<pre style=\"white-space:pre;overflow-x:auto;line-height:normal;font-family:Menlo,'DejaVu Sans Mono',consolas,'Courier New',monospace\"><span style=\"color: #00ff00; text-decoration-color: #00ff00\">─────────────────────────────────────────────────────── </span>sql<span style=\"color: #00ff00; text-decoration-color: #00ff00\"> ───────────────────────────────────────────────────────</span>\n",
       "</pre>\n"
      ],
      "text/plain": [
       "\u001b[92m─────────────────────────────────────────────────────── \u001b[0msql\u001b[92m ───────────────────────────────────────────────────────\u001b[0m\n"
      ]
     },
     "metadata": {},
     "output_type": "display_data"
    },
    {
     "data": {
      "text/html": [
       "<pre style=\"white-space:pre;overflow-x:auto;line-height:normal;font-family:Menlo,'DejaVu Sans Mono',consolas,'Courier New',monospace\">\n",
       "SELECT\n",
       "    names.first AS first_name,\n",
       "    names.last AS last_name,\n",
       "    tt1.department\n",
       "FROM athena_sql_examples.flattening_nested_arrays tt1\n",
       "CROSS JOIN <span style=\"color: #800080; text-decoration-color: #800080; font-weight: bold\">UNNEST</span><span style=\"font-weight: bold\">(</span>tt1.people<span style=\"font-weight: bold\">)</span> as <span style=\"color: #800080; text-decoration-color: #800080; font-weight: bold\">t</span><span style=\"font-weight: bold\">(</span>names<span style=\"font-weight: bold\">)</span>\n",
       "\n",
       "</pre>\n"
      ],
      "text/plain": [
       "\n",
       "SELECT\n",
       "    names.first AS first_name,\n",
       "    names.last AS last_name,\n",
       "    tt1.department\n",
       "FROM athena_sql_examples.flattening_nested_arrays tt1\n",
       "CROSS JOIN \u001b[1;35mUNNEST\u001b[0m\u001b[1m(\u001b[0mtt1.people\u001b[1m)\u001b[0m as \u001b[1;35mt\u001b[0m\u001b[1m(\u001b[0mnames\u001b[1m)\u001b[0m\n",
       "\n"
      ]
     },
     "metadata": {},
     "output_type": "display_data"
    },
    {
     "data": {
      "text/html": [
       "<pre style=\"white-space:pre;overflow-x:auto;line-height:normal;font-family:Menlo,'DejaVu Sans Mono',consolas,'Courier New',monospace\"><span style=\"color: #00ff00; text-decoration-color: #00ff00\">────────────────────────────────────────────────── </span>query result<span style=\"color: #00ff00; text-decoration-color: #00ff00\"> ───────────────────────────────────────────────────</span>\n",
       "</pre>\n"
      ],
      "text/plain": [
       "\u001b[92m────────────────────────────────────────────────── \u001b[0mquery result\u001b[92m ───────────────────────────────────────────────────\u001b[0m\n"
      ]
     },
     "metadata": {},
     "output_type": "display_data"
    },
    {
     "data": {
      "text/html": [
       "<div>\n",
       "<style scoped>\n",
       "    .dataframe tbody tr th:only-of-type {\n",
       "        vertical-align: middle;\n",
       "    }\n",
       "\n",
       "    .dataframe tbody tr th {\n",
       "        vertical-align: top;\n",
       "    }\n",
       "\n",
       "    .dataframe thead th {\n",
       "        text-align: right;\n",
       "    }\n",
       "</style>\n",
       "<table border=\"1\" class=\"dataframe\">\n",
       "  <thead>\n",
       "    <tr style=\"text-align: right;\">\n",
       "      <th></th>\n",
       "      <th>first_name</th>\n",
       "      <th>last_name</th>\n",
       "      <th>department</th>\n",
       "    </tr>\n",
       "  </thead>\n",
       "  <tbody>\n",
       "    <tr>\n",
       "      <th>0</th>\n",
       "      <td>Bob</td>\n",
       "      <td>Smith</td>\n",
       "      <td>engineering</td>\n",
       "    </tr>\n",
       "    <tr>\n",
       "      <th>1</th>\n",
       "      <td>Jane</td>\n",
       "      <td>Doe</td>\n",
       "      <td>engineering</td>\n",
       "    </tr>\n",
       "    <tr>\n",
       "      <th>2</th>\n",
       "      <td>Billy</td>\n",
       "      <td>Wilson</td>\n",
       "      <td>engineering</td>\n",
       "    </tr>\n",
       "  </tbody>\n",
       "</table>\n",
       "</div>"
      ],
      "text/plain": [
       "  first_name last_name   department\n",
       "0        Bob     Smith  engineering\n",
       "1       Jane       Doe  engineering\n",
       "2      Billy    Wilson  engineering"
      ]
     },
     "metadata": {},
     "output_type": "display_data"
    }
   ],
   "source": [
    "table = \"flattening_nested_arrays\"\n",
    "\n",
    "df = pd.DataFrame(\n",
    "    [\n",
    "        (\n",
    "            \"engineering\", \n",
    "            [\n",
    "                {\"first\": \"Bob\", \"last\": \"Smith\", \"age\": 40},\n",
    "                {\"first\": \"Jane\", \"last\": \"Doe\", \"age\": 30},\n",
    "                {\"first\": \"Billy\", \"last\": \"Wilson\", \"age\": 8},\n",
    "            ]\n",
    "        ),\n",
    "    ],\n",
    "    columns=[\"department\", \"people\"]\n",
    ")\n",
    "\n",
    "sql = f\"\"\"\n",
    "SELECT\n",
    "    names.first AS first_name,\n",
    "    names.last AS last_name,\n",
    "    tt1.department\n",
    "FROM {config.glue_database}.{table} tt1\n",
    "CROSS JOIN UNNEST(tt1.people) as t(names)\n",
    "\"\"\"\n",
    "\n",
    "df_result = test_sql(table, df, sql)"
   ]
  },
  {
   "cell_type": "code",
   "execution_count": 81,
   "id": "e0bb46b1-7ace-4c80-9e96-a2d11d34101e",
   "metadata": {},
   "outputs": [
    {
     "data": {
      "text/html": [
       "<pre style=\"white-space:pre;overflow-x:auto;line-height:normal;font-family:Menlo,'DejaVu Sans Mono',consolas,'Courier New',monospace\"><span style=\"color: #00ff00; text-decoration-color: #00ff00\">───────────────────────────────────────── </span>table: flattening_nested_arrays<span style=\"color: #00ff00; text-decoration-color: #00ff00\"> ─────────────────────────────────────────</span>\n",
       "</pre>\n"
      ],
      "text/plain": [
       "\u001b[92m───────────────────────────────────────── \u001b[0mtable: flattening_nested_arrays\u001b[92m ─────────────────────────────────────────\u001b[0m\n"
      ]
     },
     "metadata": {},
     "output_type": "display_data"
    },
    {
     "data": {
      "text/html": [
       "<div>\n",
       "<style scoped>\n",
       "    .dataframe tbody tr th:only-of-type {\n",
       "        vertical-align: middle;\n",
       "    }\n",
       "\n",
       "    .dataframe tbody tr th {\n",
       "        vertical-align: top;\n",
       "    }\n",
       "\n",
       "    .dataframe thead th {\n",
       "        text-align: right;\n",
       "    }\n",
       "</style>\n",
       "<table border=\"1\" class=\"dataframe\">\n",
       "  <thead>\n",
       "    <tr style=\"text-align: right;\">\n",
       "      <th></th>\n",
       "      <th>company</th>\n",
       "      <th>users</th>\n",
       "    </tr>\n",
       "  </thead>\n",
       "  <tbody>\n",
       "    <tr>\n",
       "      <th>0</th>\n",
       "      <td>company ABC</td>\n",
       "      <td>[{'name': 'Sally', 'department': 'engineering'...</td>\n",
       "    </tr>\n",
       "  </tbody>\n",
       "</table>\n",
       "</div>"
      ],
      "text/plain": [
       "       company                                              users\n",
       "0  company ABC  [{'name': 'Sally', 'department': 'engineering'..."
      ]
     },
     "metadata": {},
     "output_type": "display_data"
    },
    {
     "data": {
      "text/html": [
       "<pre style=\"white-space:pre;overflow-x:auto;line-height:normal;font-family:Menlo,'DejaVu Sans Mono',consolas,'Courier New',monospace\"><span style=\"color: #00ff00; text-decoration-color: #00ff00\">─────────────────────────────────────────────────────── </span>sql<span style=\"color: #00ff00; text-decoration-color: #00ff00\"> ───────────────────────────────────────────────────────</span>\n",
       "</pre>\n"
      ],
      "text/plain": [
       "\u001b[92m─────────────────────────────────────────────────────── \u001b[0msql\u001b[92m ───────────────────────────────────────────────────────\u001b[0m\n"
      ]
     },
     "metadata": {},
     "output_type": "display_data"
    },
    {
     "data": {
      "text/html": [
       "<pre style=\"white-space:pre;overflow-x:auto;line-height:normal;font-family:Menlo,'DejaVu Sans Mono',consolas,'Courier New',monospace\">\n",
       "SELECT\n",
       "    names.first AS first_name,\n",
       "    names.last AS last_name,\n",
       "    tt1.department\n",
       "FROM athena_sql_examples.flattening_nested_arrays tt1\n",
       "CROSS JOIN <span style=\"color: #800080; text-decoration-color: #800080; font-weight: bold\">UNNEST</span><span style=\"font-weight: bold\">(</span>tt1.people<span style=\"font-weight: bold\">)</span> as <span style=\"color: #800080; text-decoration-color: #800080; font-weight: bold\">t</span><span style=\"font-weight: bold\">(</span>names<span style=\"font-weight: bold\">)</span>\n",
       "\n",
       "</pre>\n"
      ],
      "text/plain": [
       "\n",
       "SELECT\n",
       "    names.first AS first_name,\n",
       "    names.last AS last_name,\n",
       "    tt1.department\n",
       "FROM athena_sql_examples.flattening_nested_arrays tt1\n",
       "CROSS JOIN \u001b[1;35mUNNEST\u001b[0m\u001b[1m(\u001b[0mtt1.people\u001b[1m)\u001b[0m as \u001b[1;35mt\u001b[0m\u001b[1m(\u001b[0mnames\u001b[1m)\u001b[0m\n",
       "\n"
      ]
     },
     "metadata": {},
     "output_type": "display_data"
    },
    {
     "ename": "OperationalError",
     "evalue": "COLUMN_NOT_FOUND: line 6:19: Column 'tt1.people' cannot be resolved or requester is not authorized to access requested resources",
     "output_type": "error",
     "traceback": [
      "\u001b[0;31m---------------------------------------------------------------------------\u001b[0m",
      "\u001b[0;31mOperationalError\u001b[0m                          Traceback (most recent call last)",
      "Cell \u001b[0;32mIn[81], line 46\u001b[0m\n\u001b[1;32m     23\u001b[0m df \u001b[38;5;241m=\u001b[39m pd\u001b[38;5;241m.\u001b[39mDataFrame(\n\u001b[1;32m     24\u001b[0m     [\n\u001b[1;32m     25\u001b[0m         (\n\u001b[0;32m   (...)\u001b[0m\n\u001b[1;32m     34\u001b[0m     columns\u001b[38;5;241m=\u001b[39m[\u001b[38;5;124m\"\u001b[39m\u001b[38;5;124mcompany\u001b[39m\u001b[38;5;124m\"\u001b[39m, \u001b[38;5;124m\"\u001b[39m\u001b[38;5;124musers\u001b[39m\u001b[38;5;124m\"\u001b[39m],\n\u001b[1;32m     35\u001b[0m )\n\u001b[1;32m     37\u001b[0m \u001b[38;5;66;03m# sql = f\"\"\"\u001b[39;00m\n\u001b[1;32m     38\u001b[0m \u001b[38;5;66;03m# SELECT\u001b[39;00m\n\u001b[1;32m     39\u001b[0m \u001b[38;5;66;03m#     names.first AS first_name,\u001b[39;00m\n\u001b[0;32m   (...)\u001b[0m\n\u001b[1;32m     43\u001b[0m \u001b[38;5;66;03m# CROSS JOIN UNNEST(tt1.people) as t(names)\u001b[39;00m\n\u001b[1;32m     44\u001b[0m \u001b[38;5;66;03m# \"\"\"\u001b[39;00m\n\u001b[0;32m---> 46\u001b[0m df_result \u001b[38;5;241m=\u001b[39m \u001b[43mtest_sql\u001b[49m\u001b[43m(\u001b[49m\u001b[43mtable\u001b[49m\u001b[43m,\u001b[49m\u001b[43m \u001b[49m\u001b[43mdf\u001b[49m\u001b[43m,\u001b[49m\u001b[43m \u001b[49m\u001b[43msql\u001b[49m\u001b[43m)\u001b[49m\n",
      "Cell \u001b[0;32mIn[69], line 13\u001b[0m, in \u001b[0;36mtest_sql\u001b[0;34m(table, df, sql, recreate_table)\u001b[0m\n\u001b[1;32m     11\u001b[0m console\u001b[38;5;241m.\u001b[39mrule(\u001b[38;5;124m\"\u001b[39m\u001b[38;5;124msql\u001b[39m\u001b[38;5;124m\"\u001b[39m)\n\u001b[1;32m     12\u001b[0m rprint(sql)\n\u001b[0;32m---> 13\u001b[0m \u001b[43mcursor\u001b[49m\u001b[38;5;241;43m.\u001b[39;49m\u001b[43mexecute\u001b[49m\u001b[43m(\u001b[49m\u001b[43msql\u001b[49m\u001b[43m)\u001b[49m\n\u001b[1;32m     14\u001b[0m df_result \u001b[38;5;241m=\u001b[39m as_pandas(cursor)\n\u001b[1;32m     15\u001b[0m console\u001b[38;5;241m.\u001b[39mrule(\u001b[38;5;124m\"\u001b[39m\u001b[38;5;124mquery result\u001b[39m\u001b[38;5;124m\"\u001b[39m)\n",
      "File \u001b[0;32m~/Documents/GitHub/learn_aws-project/.venv/lib/python3.10/site-packages/pyathena/cursor.py:121\u001b[0m, in \u001b[0;36mCursor.execute\u001b[0;34m(self, operation, parameters, work_group, s3_staging_dir, cache_size, cache_expiration_time, result_reuse_enable, result_reuse_minutes)\u001b[0m\n\u001b[1;32m    113\u001b[0m     \u001b[38;5;28mself\u001b[39m\u001b[38;5;241m.\u001b[39mresult_set \u001b[38;5;241m=\u001b[39m \u001b[38;5;28mself\u001b[39m\u001b[38;5;241m.\u001b[39m_result_set_class(\n\u001b[1;32m    114\u001b[0m         \u001b[38;5;28mself\u001b[39m\u001b[38;5;241m.\u001b[39m_connection,\n\u001b[1;32m    115\u001b[0m         \u001b[38;5;28mself\u001b[39m\u001b[38;5;241m.\u001b[39m_converter,\n\u001b[0;32m   (...)\u001b[0m\n\u001b[1;32m    118\u001b[0m         \u001b[38;5;28mself\u001b[39m\u001b[38;5;241m.\u001b[39m_retry_config,\n\u001b[1;32m    119\u001b[0m     )\n\u001b[1;32m    120\u001b[0m \u001b[38;5;28;01melse\u001b[39;00m:\n\u001b[0;32m--> 121\u001b[0m     \u001b[38;5;28;01mraise\u001b[39;00m OperationalError(query_execution\u001b[38;5;241m.\u001b[39mstate_change_reason)\n\u001b[1;32m    122\u001b[0m \u001b[38;5;28;01mreturn\u001b[39;00m \u001b[38;5;28mself\u001b[39m\n",
      "\u001b[0;31mOperationalError\u001b[0m: COLUMN_NOT_FOUND: line 6:19: Column 'tt1.people' cannot be resolved or requester is not authorized to access requested resources"
     ]
    }
   ],
   "source": [
    "# WITH dataset AS (\n",
    "#     SELECT \n",
    "#         ARRAY[\n",
    "#             CAST(ROW('Sally', 'engineering', ARRAY[1,2,3,4]) AS ROW(name VARCHAR, department VARCHAR, scores ARRAY(INTEGER))),\n",
    "#             CAST(ROW('John', 'finance', ARRAY[7,8,9]) AS ROW(name VARCHAR, department VARCHAR, scores ARRAY(INTEGER))),\n",
    "#             CAST(ROW('Amy', 'devops', ARRAY[12,13,14,15]) AS ROW(name VARCHAR, department VARCHAR, scores ARRAY(INTEGER)))\n",
    "#         ] AS users\n",
    "# ),\n",
    "# users AS (\n",
    "#  SELECT person, score\n",
    "#  FROM\n",
    "#    dataset,\n",
    "#    UNNEST(dataset.users) AS t(person),\n",
    "#    UNNEST(person.scores) AS t(score)\n",
    "# )\n",
    "# SELECT person.name, person.department, SUM(score) AS total_score FROM users\n",
    "# GROUP BY (person.name, person.department)\n",
    "# ORDER BY (total_score) DESC\n",
    "# LIMIT 1\n",
    "\n",
    "table = \"flattening_nested_arrays\"\n",
    "\n",
    "df = pd.DataFrame(\n",
    "    [\n",
    "        (\n",
    "            \"company ABC\",\n",
    "            [\n",
    "                {\"name\": \"Sally\", \"department\": \"engineering\", \"score\": [1, 2, 3, 4]},\n",
    "                {\"name\": \"John\", \"department\": \"finance\", \"score\": [7, 8, 9]},\n",
    "                {\"name\": \"Amy\", \"department\": \"hr\", \"score\": [12, 13, 14, 15]},\n",
    "            ],\n",
    "        )\n",
    "    ],\n",
    "    columns=[\"company\", \"users\"],\n",
    ")\n",
    "\n",
    "# sql = f\"\"\"\n",
    "# SELECT\n",
    "#     names.first AS first_name,\n",
    "#     names.last AS last_name,\n",
    "#     tt1.department\n",
    "# FROM {config.glue_database}.{table} tt1\n",
    "# CROSS JOIN UNNEST(tt1.people) as t(names)\n",
    "# \"\"\"\n",
    "\n",
    "df_result = test_sql(table, df, sql)\n"
   ]
  },
  {
   "cell_type": "code",
   "execution_count": null,
   "id": "e401c918-fbdc-4601-8325-f5802f1a4803",
   "metadata": {},
   "outputs": [],
   "source": []
  }
 ],
 "metadata": {
  "kernelspec": {
   "display_name": "Python 3 (ipykernel)",
   "language": "python",
   "name": "python3"
  },
  "language_info": {
   "codemirror_mode": {
    "name": "ipython",
    "version": 3
   },
   "file_extension": ".py",
   "mimetype": "text/x-python",
   "name": "python",
   "nbconvert_exporter": "python",
   "pygments_lexer": "ipython3",
   "version": "3.10.10"
  }
 },
 "nbformat": 4,
 "nbformat_minor": 5
}
