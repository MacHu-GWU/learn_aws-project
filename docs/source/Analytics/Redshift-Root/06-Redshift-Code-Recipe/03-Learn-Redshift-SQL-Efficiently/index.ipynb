{
 "metadata": {
  "title": "POC",
  "kernelspec": {
   "display_name": "Redshift",
   "language": "postgresql",
   "name": "Redshift"
  },
  "language_info": {
   "file_extension": ".sql",
   "name": "Redshift"
  },
  "version": 1
 },
 "nbformat": 4,
 "nbformat_minor": 0,
 "cells": [
  {
   "metadata": {
    "displayMode": "maximized",
    "width": 12,
    "isLimitOn": true,
    "pycharm": {
     "name": "#%% md\n"
    }
   },
   "source": [
    "# Learn Redshift in Notebook\n",
    "\n",
    "在学习 Redshift 或在工作中使用 Redshift 时, 我经常会有需要 创建表格, 插入测试数据, 运行测试的 SQL 这样的工作需求. 这些实验的过程和结论我往往会写成文档记录下来.\n",
    "\n",
    "AWS Redshift 自带一个 Query Editor, 可以在里面写 SQL. 但是你无法将其导出成人类友好的文档. 2022 年 AWS Redshift 推出了 Notebook 功能 [Authoring and running notebooks](https://docs.aws.amazon.com/redshift/latest/mgmt/query-editor-v2-notebooks.html). 现在开发者可以用 AWS Redshift 自带的 Jupyter Notebook, 在里面写 Markdown, 运行 SQL 并展示结果, 并且还能把数据结果画成图表. 而这一切都在 Notebook 中进行, 并且你还能将其下载下来. 这真是太方便了.\n",
    "\n",
    "现在 Redshift Notebook 是我用来学习, 探索, 写 Redshift 相关的博客的最佳工具."
   ],
   "cell_type": "markdown"
  },
  {
   "metadata": {
    "displayMode": "maximized",
    "width": 12,
    "isLimitOn": true,
    "pycharm": {
     "name": "#%%\n"
    }
   },
   "source": [
    "CREATE TABLE IF NOT EXISTS json_test(\n",
    "    id VARCHAR(255) NOT NULL,\n",
    "    create_at TIMESTAMP NOT NULL,\n",
    "    data SUPER NOT NULL,\n",
    "    PRIMARY KEY (id, create_at)\n",
    ")\n",
    "distkey(id)\n",
    "sortkey(create_at);"
   ],
   "cell_type": "code",
   "execution_count": 0,
   "outputs": []
  },
  {
   "metadata": {
    "displayMode": "maximized",
    "width": 12,
    "isLimitOn": true,
    "pycharm": {
     "name": "#%%\n"
    }
   },
   "source": [
    "DROP TABLE IF EXISTS json_test"
   ],
   "cell_type": "code",
   "execution_count": 0,
   "outputs": []
  },
  {
   "metadata": {
    "displayMode": "maximized",
    "width": 12,
    "isLimitOn": true,
    "pycharm": {
     "name": "#%%\n"
    }
   },
   "source": [
    "INSERT INTO json_test VALUES(\n",
    "    'id-1',\n",
    "    '2000-01-01 00:00:00.123456',\n",
    "    JSON_PARSE('{\"name\": \"Alice\"}')\n",
    ");"
   ],
   "cell_type": "code",
   "execution_count": 0,
   "outputs": []
  },
  {
   "metadata": {
    "displayMode": "maximized",
    "width": 12,
    "isLimitOn": true,
    "pycharm": {
     "name": "#%%\n"
    }
   },
   "source": [
    "SELECT data.name FROM json_test;"
   ],
   "cell_type": "code",
   "execution_count": 0,
   "outputs": []
  },
  {
   "metadata": {
    "displayMode": "maximized",
    "width": 12,
    "isLimitOn": true,
    "pycharm": {
     "name": "#%%\n"
    }
   },
   "source": [],
   "cell_type": "code",
   "execution_count": 0,
   "outputs": []
  },
  {
   "metadata": {
    "displayMode": "maximized",
    "width": 12,
    "isLimitOn": true,
    "pycharm": {
     "name": "#%%\n"
    }
   },
   "source": [],
   "cell_type": "code",
   "execution_count": 0,
   "outputs": []
  }
 ]
}