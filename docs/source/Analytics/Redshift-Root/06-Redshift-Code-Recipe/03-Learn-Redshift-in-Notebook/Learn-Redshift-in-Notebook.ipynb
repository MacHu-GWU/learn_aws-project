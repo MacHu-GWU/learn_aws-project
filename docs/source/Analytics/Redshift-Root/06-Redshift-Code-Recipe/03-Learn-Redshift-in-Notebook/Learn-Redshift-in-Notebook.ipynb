{
 "metadata": {
  "title": "Learn Redshift in Notebook",
  "kernelspec": {
   "display_name": "Redshift",
   "language": "postgresql",
   "name": "Redshift"
  },
  "language_info": {
   "file_extension": ".sql",
   "name": "Redshift"
  },
  "version": 1
 },
 "nbformat": 4,
 "nbformat_minor": 0,
 "cells": [
  {
   "metadata": {
    "displayMode": "maximized",
    "width": 12,
    "isLimitOn": true,
    "pycharm": {
     "name": "#%% md\n"
    }
   },
   "source": [
    "# Learn Redshift in Notebook\n",
    "\n",
    "在学习 Redshift 或在工作中使用 Redshift 时, 我经常会有需要 创建表格, 插入测试数据, 运行测试的 SQL 这样的工作需求. 这些实验的过程和结论我往往会写成文档记录下来.\n",
    "\n",
    "AWS Redshift 自带一个 Query Editor, 可以在里面写 SQL. 但是你无法将其导出成人类友好的文档. 2022 年 AWS Redshift 推出了 Notebook 功能 [Authoring and running notebooks](https://docs.aws.amazon.com/redshift/latest/mgmt/query-editor-v2-notebooks.html). 现在开发者可以用 AWS Redshift 自带的 Jupyter Notebook, 在里面写 Markdown, 运行 SQL 并展示结果, 并且还能把数据结果画成图表. 而这一切都在 Notebook 中进行, 并且你还能将其下载下来. 这真是太方便了.\n",
    "\n",
    "现在 Redshift Notebook 是我用来学习, 探索, 写 Redshift 相关的博客的最佳工具.\n",
    "\n",
    "**我在使用 Redshift Notebook 的过程中发现了以下值得注意的地方**:\n",
    "\n",
    "- Redshift Notebook 不是标准的 Jupyter Notebook. Interactive 的 Output 在 GitHub 或是标准的 Jupyter Lab 中是无法编辑和显式的. **所以你可以把 Notebook 下载下来在 Git 中留档, 但是不要在 Redshift Notebook 环境以外的地方编辑它, 以防损坏**.\n",
    "- Redshift Notebook 无法被 Sphinx doc 构建成文档. 所以作为文档你不能将其命名为 ``index.ipynb``.\n",
    "- 你可以将 Redshift Notebook 用自带文件夹系统进行归档整理. 每个 Notebook 都可以创建 Immutable 的 Version.\n",
    "- Redshift Notebook 支持 export 和 import. 你可以将其导出后备份到 Git.\n",
    "\n",
    "**我是如何用 Redshift Notebook 进行探索性实验的**:\n",
    "\n",
    "每当我需要进行探索性实验, 我就会:\n",
    "\n",
    "1. 把本 Notebook 复制一份然后 import 到 Redshift Query Editor 中.\n",
    "2. 按照顺序, 重点修改 Create Table, Insert Test Data, Run Query 三部分进行探索.\n",
    "3. 创建一个 Version, 并且 export 将其保存到 Git 中. 写一个 ``index.rst`` 文件然后进行简短介绍并引用这个 ``.ipynb`` 文件."
   ],
   "cell_type": "markdown"
  },
  {
   "metadata": {
    "displayMode": "maximized",
    "width": 12,
    "isLimitOn": true,
    "pycharm": {
     "name": "#%% md\n"
    }
   },
   "source": [
    "## Create Table"
   ],
   "cell_type": "markdown"
  },
  {
   "metadata": {
    "displayMode": "maximized",
    "width": 12,
    "isLimitOn": true,
    "pycharm": {
     "name": "#%%\n"
    }
   },
   "source": [
    "CREATE TABLE IF NOT EXISTS json_test(\n",
    "    id VARCHAR(255) NOT NULL,\n",
    "    create_at TIMESTAMP NOT NULL,\n",
    "    data SUPER NOT NULL,\n",
    "    PRIMARY KEY (id, create_at)\n",
    ")\n",
    "distkey(id)\n",
    "sortkey(create_at);"
   ],
   "cell_type": "code",
   "execution_count": 0,
   "outputs": []
  },
  {
   "metadata": {
    "displayMode": "maximized",
    "width": 12,
    "isLimitOn": true,
    "pycharm": {
     "name": "#%% md\n"
    }
   },
   "source": [
    "## Drop Table"
   ],
   "cell_type": "markdown"
  },
  {
   "metadata": {
    "displayMode": "maximized",
    "width": 12,
    "isLimitOn": true,
    "pycharm": {
     "name": "#%%\n"
    }
   },
   "source": [
    "DROP TABLE IF EXISTS json_test"
   ],
   "cell_type": "code",
   "execution_count": 0,
   "outputs": []
  },
  {
   "metadata": {
    "displayMode": "maximized",
    "width": 12,
    "isLimitOn": true,
    "pycharm": {
     "name": "#%% md\n"
    }
   },
   "source": [
    "## Delete All Rows"
   ],
   "cell_type": "markdown"
  },
  {
   "metadata": {
    "displayMode": "maximized",
    "width": 12,
    "isLimitOn": true,
    "pycharm": {
     "name": "#%%\n"
    }
   },
   "source": [
    "DELETE FROM json_test;"
   ],
   "cell_type": "code",
   "execution_count": 0,
   "outputs": []
  },
  {
   "metadata": {
    "displayMode": "maximized",
    "width": 12,
    "isLimitOn": true,
    "pycharm": {
     "name": "#%% md\n"
    }
   },
   "source": [
    "## Insert Test Data"
   ],
   "cell_type": "markdown"
  },
  {
   "metadata": {
    "displayMode": "maximized",
    "width": 12,
    "isLimitOn": true,
    "pycharm": {
     "name": "#%%\n"
    }
   },
   "source": [
    "INSERT INTO json_test VALUES(\n",
    "    'id-1',\n",
    "    '2000-01-01 00:00:00.123456',\n",
    "    JSON_PARSE('{\"name\": \"Alice\"}')\n",
    ");"
   ],
   "cell_type": "code",
   "execution_count": 0,
   "outputs": []
  },
  {
   "metadata": {
    "displayMode": "maximized",
    "width": 12,
    "isLimitOn": true,
    "pycharm": {
     "name": "#%% md\n"
    }
   },
   "source": [
    "## Run Query"
   ],
   "cell_type": "markdown"
  },
  {
   "metadata": {
    "displayMode": "maximized",
    "width": 12,
    "isLimitOn": true,
    "pycharm": {
     "name": "#%%\n"
    }
   },
   "source": [
    "SELECT data.name FROM json_test;"
   ],
   "cell_type": "code",
   "execution_count": 0,
   "outputs": []
  }
 ]
}