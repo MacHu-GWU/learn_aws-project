{
 "cells": [
  {
   "cell_type": "markdown",
   "id": "5feb404f-a4e0-45b9-8bd1-36c5bd71b805",
   "metadata": {},
   "source": [
    "# Work with JSON in Redshift"
   ]
  },
  {
   "cell_type": "code",
   "execution_count": 1,
   "id": "59969da9-301f-4c11-a076-ec525afc2b9c",
   "metadata": {},
   "outputs": [],
   "source": [
    "import json\n",
    "import textwrap\n",
    "from datetime import datetime\n",
    "from pathlib import Path\n",
    "\n",
    "import boto3\n",
    "import pandas as pd\n",
    "import awswrangler as wr\n",
    "\n",
    "import pylib.api as pylib"
   ]
  },
  {
   "cell_type": "code",
   "execution_count": 2,
   "id": "fc44ecb0-e46d-4ce7-bab4-d14d64d1a0d2",
   "metadata": {},
   "outputs": [
    {
     "name": "stdout",
     "output_type": "stream",
     "text": [
      "Test connection by running a query: SELECT 64;\n",
      "Result: 64\n",
      "Success!\n"
     ]
    }
   ],
   "source": [
    "dir_here = Path.cwd().absolute()\n",
    "path_config_serverless = dir_here / \"config-serverless.json\"\n",
    "config_serverless = pylib.Config.load(path_config_serverless)\n",
    "\n",
    "# create boto session\n",
    "boto_ses = boto3.session.Session(profile_name=\"awshsh_app_dev_us_east_1\")\n",
    "aws_account_id = boto_ses.client(\"sts\").get_caller_identity()[\"Account\"]\n",
    "aws_region = boto_ses.region_name\n",
    "\n",
    "# create redshift connection\n",
    "conn = pylib.create_connect_for_serverless_using_iam(\n",
    "    boto_ses=boto_ses,\n",
    "    workgroup_name=config_serverless.workgroup,\n",
    ")\n",
    "\n",
    "pylib.test_connection(conn)\n"
   ]
  },
  {
   "cell_type": "code",
   "execution_count": 3,
   "id": "55e82322-faf7-48ea-8f30-88e2230d246c",
   "metadata": {},
   "outputs": [],
   "source": [
    "cursor = conn.cursor()"
   ]
  },
  {
   "cell_type": "code",
   "execution_count": 4,
   "id": "e4a4b319-8a08-48c6-bd9c-3bf7337362a5",
   "metadata": {},
   "outputs": [],
   "source": [
    "TABLE_NAME = \"json_test\"\n",
    "\n",
    "def create_table():\n",
    "    sql = textwrap.dedent(\n",
    "        f\"\"\"\n",
    "        CREATE TABLE IF NOT EXISTS {TABLE_NAME}(\n",
    "            id VARCHAR(255) NOT NULL,\n",
    "            create_at TIMESTAMP NOT NULL,\n",
    "            data SUPER NOT NULL,\n",
    "            PRIMARY KEY (id, create_at)\n",
    "        )\n",
    "        distkey(id)\n",
    "        sortkey(create_at);\n",
    "        \"\"\"\n",
    "    )\n",
    "    cursor.execute(sql)\n",
    "    conn.commit()\n",
    "\n",
    "\n",
    "def drop_table():\n",
    "    sql = textwrap.dedent(\n",
    "        f\"\"\"\n",
    "        DROP TABLE IF EXISTS {TABLE_NAME};\n",
    "        \"\"\"\n",
    "    )\n",
    "    cursor.execute(sql)\n",
    "    conn.commit()\n",
    "\n",
    "\n",
    "def delete_table():\n",
    "    sql = textwrap.dedent(\n",
    "        f\"\"\"\n",
    "        DELETE FROM {TABLE_NAME};\n",
    "        \"\"\"\n",
    "    )\n",
    "    cursor.execute(sql)\n",
    "    conn.commit()\n",
    "\n",
    "\n",
    "create_table()\n",
    "# drop_table()"
   ]
  },
  {
   "cell_type": "code",
   "execution_count": 5,
   "id": "473a4500-484f-4098-a73d-9917b5af5dc0",
   "metadata": {},
   "outputs": [],
   "source": [
    "bucket = f\"{aws_account_id}-{aws_region}-data\"\n",
    "s3_dir_uri = f\"s3://{bucket}/project/redshift-serverless-poc/\""
   ]
  },
  {
   "cell_type": "code",
   "execution_count": 20,
   "id": "b6a954da-6b5e-4c6a-8e7c-8e251b3129aa",
   "metadata": {},
   "outputs": [],
   "source": [
    "def get_utc_now():\n",
    "    return datetime.utcnow()\n",
    "\n",
    "\n",
    "def load_data():\n",
    "    df = pd.DataFrame(\n",
    "        {\n",
    "            \"id\": [\"id-1\"],\n",
    "            \"create_at\": [get_utc_now()],\n",
    "            # just use dictionary to represent JSON object\n",
    "            \"data\": [\n",
    "                {\n",
    "                    \"name\": \"Alice\",\n",
    "                    \"age\": 25,\n",
    "                    \"tags\": [\"cool\", \"tall\", \"smart\", \"beauty\"],\n",
    "                },\n",
    "            ],\n",
    "        }\n",
    "    )\n",
    "    # awswrangler will dump the data to parquet file, parquet is schema self-contained format\n",
    "    wr.redshift.copy(\n",
    "        df=df,\n",
    "        path=s3_dir_uri,\n",
    "        con=conn,\n",
    "        schema=\"public\",\n",
    "        table=TABLE_NAME,\n",
    "        mode=\"append\",  # append, overwrite or upsert.\n",
    "        boto3_session=boto_ses,\n",
    "        primary_keys=[\"id\"],\n",
    "        serialize_to_json=True, # <--- add this option if you have json field and need to load to SUPER data type column\n",
    "    )\n",
    "\n",
    "delete_table()\n",
    "load_data()"
   ]
  },
  {
   "cell_type": "code",
   "execution_count": 21,
   "id": "31290bb9-f67b-4b30-91f7-bafb19ac258d",
   "metadata": {},
   "outputs": [],
   "source": [
    "def test_query(sql):\n",
    "    cursor.execute(sql)\n",
    "    for row in cursor:\n",
    "        print(row)"
   ]
  },
  {
   "cell_type": "code",
   "execution_count": null,
   "id": "3025cac7-85b5-48a3-9256-23bf810a0fb4",
   "metadata": {},
   "outputs": [],
   "source": [
    "[Querying semistructured data](https://docs.aws.amazon.com/redshift/latest/dg/query-super.html#unnest)"
   ]
  },
  {
   "cell_type": "code",
   "execution_count": 22,
   "id": "a9880258-da6c-4738-a152-bff14ec8f428",
   "metadata": {},
   "outputs": [
    {
     "name": "stdout",
     "output_type": "stream",
     "text": [
      "['id-1', datetime.datetime(2024, 1, 29, 21, 34, 20, 954125), '{\"age\":25,\"name\":\"Alice\",\"tags\":[\"cool\",\"tall\",\"smart\",\"beauty\"]}']\n"
     ]
    }
   ],
   "source": [
    "# 根据 SUPER Type https://docs.aws.amazon.com/redshift/latest/dg/r_SUPER_type.html 的定义\n",
    "# SUPER 这个 field 里的值根据你存的数据的不同可能是不同的值. 在我们这个例子里, 由于 Parquet 会把数据存为复杂 schema 的对象,\n",
    "# 所以虽然你看起来是一个 JSON 编码后的字符串, 但是它实际上是一个对象. 在下面的例子中我们可以验证.\n",
    "test_query(\"SELECT * FROM json_test;\")"
   ]
  },
  {
   "cell_type": "code",
   "execution_count": 36,
   "id": "79e4069e-a11f-4b1b-bb5b-8124014bdc8c",
   "metadata": {},
   "outputs": [
    {
     "name": "stdout",
     "output_type": "stream",
     "text": [
      "['object']\n"
     ]
    }
   ],
   "source": [
    "# data column 是一个对象\n",
    "test_query(\"SELECT JSON_TYPEOF(data) FROM json_test;\")"
   ]
  },
  {
   "cell_type": "code",
   "execution_count": 23,
   "id": "aed4accb-8792-43a8-9ac6-1a5b1981030e",
   "metadata": {},
   "outputs": [
    {
     "name": "stdout",
     "output_type": "stream",
     "text": [
      "['id-1', '25']\n"
     ]
    }
   ],
   "source": [
    "test_query(\"SELECT id, data.age FROM json_test;\")"
   ]
  },
  {
   "cell_type": "code",
   "execution_count": 24,
   "id": "12bbf50d-6bc9-41fd-aac9-b9438c135922",
   "metadata": {},
   "outputs": [
    {
     "name": "stdout",
     "output_type": "stream",
     "text": [
      "['id-1', '\"Alice\"']\n"
     ]
    }
   ],
   "source": [
    "test_query(\"SELECT id, data.name FROM json_test;\")"
   ]
  },
  {
   "cell_type": "code",
   "execution_count": 25,
   "id": "17b1c88e-0422-4829-a193-62152346141b",
   "metadata": {},
   "outputs": [
    {
     "name": "stdout",
     "output_type": "stream",
     "text": [
      "['id-1', '[\"cool\",\"tall\",\"smart\",\"beauty\"]']\n"
     ]
    }
   ],
   "source": [
    "test_query(\"SELECT id, data.tags FROM json_test;\")"
   ]
  },
  {
   "cell_type": "code",
   "execution_count": 26,
   "id": "c593e15d-5d91-45c4-bece-6258fe7e1f10",
   "metadata": {},
   "outputs": [
    {
     "name": "stdout",
     "output_type": "stream",
     "text": [
      "['id-1', '\"cool\"']\n"
     ]
    }
   ],
   "source": [
    "test_query(\"SELECT id, data.tags[0] FROM json_test;\")"
   ]
  },
  {
   "cell_type": "code",
   "execution_count": 27,
   "id": "1731495c-d115-4aa4-a7d1-9046db5ea2f6",
   "metadata": {},
   "outputs": [
    {
     "name": "stdout",
     "output_type": "stream",
     "text": [
      "['id-1', '\"smart\"']\n"
     ]
    }
   ],
   "source": [
    "test_query(\"SELECT id, data.tags[2] FROM json_test;\")"
   ]
  },
  {
   "cell_type": "code",
   "execution_count": 28,
   "id": "7b71b482-6130-49af-8864-f7615b119789",
   "metadata": {},
   "outputs": [
    {
     "name": "stdout",
     "output_type": "stream",
     "text": [
      "['id-1', '{\"age\":25,\"name\":\"Alice\",\"tags\":[\"cool\",\"tall\",\"smart\",\"beauty\"]}']\n"
     ]
    }
   ],
   "source": [
    "test_query(\"SELECT id, JSON_SERIALIZE(data) FROM json_test;\")"
   ]
  },
  {
   "cell_type": "code",
   "execution_count": 34,
   "id": "dcd2586f-3c90-41d9-939e-d49c7ef07414",
   "metadata": {},
   "outputs": [],
   "source": [
    "conn.rollback()\n",
    "# test_query(\"SELECT id, JSON_SERIALIZE(data)[0] FROM json_test;\")"
   ]
  },
  {
   "cell_type": "code",
   "execution_count": null,
   "id": "c30f1aea-f546-4c86-b1f7-555f7100eca3",
   "metadata": {},
   "outputs": [],
   "source": [
    "-- SELECT id, JSON_ARRAY_LENGTH(data.tags) FROM json_test;\n",
    "SELECT * FROM json_test;\n",
    "SELECT id, data FROM json_test;\n",
    "SELECT id, data.age FROM json_test;\n",
    "SELECT id, data.name FROM json_test;\n",
    "SELECT id, data.tags FROM json_test;\n",
    "SELECT id, data.tags[0] FROM json_test;\n",
    "SELECT id, data.tags[2] FROM json_test;\n",
    "SELECT id, JSON_SERIALIZE(data) FROM json_test;\n",
    "SELECT id, JSON_EXTRACT_PATH_TEXT(data, \"age\") FROM json_test;\n"
   ]
  },
  {
   "cell_type": "code",
   "execution_count": 50,
   "id": "af504722-7c6d-4a1f-8bce-75cba48deef4",
   "metadata": {},
   "outputs": [
    {
     "name": "stdout",
     "output_type": "stream",
     "text": [
      "['id-1', '\"smart\"']\n"
     ]
    },
    {
     "name": "stderr",
     "output_type": "stream",
     "text": [
      "/var/folders/3y/7t5ll4sn6x76g8rhfqlc36dw0000gn/T/ipykernel_65316/3325947610.py:2: UserWarning: DB-API extension cursor.connection used\n",
      "  cursor.execute(sql)\n"
     ]
    }
   ],
   "source": [
    "import contextlib\n",
    "\n",
    "@contextlib.contextmanager\n",
    "def auto_commit(connect):\n",
    "    try:\n",
    "        yield connect\n",
    "        connect.commit()\n",
    "    except:\n",
    "        connect.rollback()\n",
    "\n",
    "with auto_commit(conn):\n",
    "    test_query(\"SELECT id, JSON_SERIALIZE(data)[0] FROM json_test;\")\n",
    "# conn.rollback()\n",
    "# cursor = conn.cursor()\n",
    "with auto_commit(conn):\n",
    "    test_query(\"SELECT id, data.tags[2] FROM json_test;\")\n",
    "# try:\n",
    "#     test_query(\"SELECT id, JSON_SERIALIZE(data)[0] FROM json_test;\")\n",
    "# except:\n",
    "#     conn.rollback()\n",
    "#     test_query(\"SELECT id, data.tags[2] FROM json_test;\")"
   ]
  },
  {
   "cell_type": "code",
   "execution_count": null,
   "id": "cd7a8c64-6406-421c-860a-2344f186f69c",
   "metadata": {},
   "outputs": [],
   "source": []
  }
 ],
 "metadata": {
  "kernelspec": {
   "display_name": "Python 3 (ipykernel)",
   "language": "python",
   "name": "python3"
  },
  "language_info": {
   "codemirror_mode": {
    "name": "ipython",
    "version": 3
   },
   "file_extension": ".py",
   "mimetype": "text/x-python",
   "name": "python",
   "nbconvert_exporter": "python",
   "pygments_lexer": "ipython3",
   "version": "3.10.10"
  }
 },
 "nbformat": 4,
 "nbformat_minor": 5
}
