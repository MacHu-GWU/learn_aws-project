{
 "cells": [
  {
   "cell_type": "markdown",
   "id": "6db9e94b-15e3-4826-b27f-196c7ed75962",
   "metadata": {},
   "source": [
    "# Mapping\n",
    "\n",
    "- [Mappings and field types](https://opensearch.org/docs/latest/field-types/index/)\n",
    "- [Supported field types](https://opensearch.org/docs/latest/field-types/supported-field-types/index/)"
   ]
  },
  {
   "cell_type": "code",
   "execution_count": 12,
   "id": "4cb3834b-230c-4bbf-84ce-a134a2be6634",
   "metadata": {},
   "outputs": [],
   "source": [
    "from datetime import datetime, timezone\n",
    "\n",
    "from opensearchpy import OpenSearch\n",
    "from rich import print as rprint"
   ]
  },
  {
   "cell_type": "code",
   "execution_count": 5,
   "id": "aa305f12-1089-4420-92c8-09a96a15b68f",
   "metadata": {},
   "outputs": [],
   "source": [
    "def create_oss_for_local_container(test_conn: bool = True) -> OpenSearch:\n",
    "    \"\"\"\n",
    "    If you are using the OpenSearch Docker image for local developing following\n",
    "    this https://hub.docker.com/r/opensearchproject/opensearch,\n",
    "    and you are using this command to start the container:\n",
    "    ``docker run -p 9200:9200 -p 9600:9600 -e \"discovery.type=single-node\" --name opensearch-node -d opensearchproject/opensearch:latest``\n",
    "    then this function should give you the right OSS object.\n",
    "    \"\"\"\n",
    "    oss = OpenSearch(\n",
    "        hosts=[{\"host\": \"localhost\", \"port\": 9200}],\n",
    "        http_auth=(\"admin\", \"admin\"),\n",
    "        http_compress=True,\n",
    "        use_ssl=True,\n",
    "        verify_certs=False,\n",
    "        ssl_assert_hostname=False,\n",
    "        ssl_show_warn=False,\n",
    "        timeout=300,\n",
    "    )\n",
    "    if test_conn:\n",
    "        res = oss.cat.indices(format=\"json\")\n",
    "        print(res)\n",
    "    return oss"
   ]
  },
  {
   "cell_type": "code",
   "execution_count": 6,
   "id": "0746e478-8f20-46bc-b21f-a89c384ea816",
   "metadata": {},
   "outputs": [
    {
     "name": "stdout",
     "output_type": "stream",
     "text": [
      "[{'health': 'green', 'status': 'open', 'index': '.plugins-ml-config', 'uuid': 'ZrWp7o2hTm6kKF1mRJeuVg', 'pri': '1', 'rep': '0', 'docs.count': '1', 'docs.deleted': '0', 'store.size': '3.8kb', 'pri.store.size': '3.8kb'}, {'health': 'green', 'status': 'open', 'index': '.opensearch-observability', 'uuid': 'NWIZeV4pQue8t0eWMrDK1g', 'pri': '1', 'rep': '0', 'docs.count': '0', 'docs.deleted': '0', 'store.size': '208b', 'pri.store.size': '208b'}, {'health': 'green', 'status': 'open', 'index': '.opendistro_security', 'uuid': 'T2hapD0-SGWmhiBFuMNEAQ', 'pri': '1', 'rep': '0', 'docs.count': '10', 'docs.deleted': '0', 'store.size': '75.4kb', 'pri.store.size': '75.4kb'}]\n"
     ]
    }
   ],
   "source": [
    "oss = create_oss_for_local_container()"
   ]
  },
  {
   "cell_type": "markdown",
   "id": "3d559448-72dc-46bc-9548-30e02f19b359",
   "metadata": {},
   "source": [
    "## asf"
   ]
  },
  {
   "cell_type": "code",
   "execution_count": 9,
   "id": "99eecb46-1961-4bc3-8b1c-080e9a753d4b",
   "metadata": {},
   "outputs": [],
   "source": [
    "index = \"forum\""
   ]
  },
  {
   "cell_type": "code",
   "execution_count": 10,
   "id": "cb8b735c-e6f7-4c14-8796-6d3b56e3c2c8",
   "metadata": {},
   "outputs": [
    {
     "data": {
      "text/plain": [
       "{'acknowledged': True}"
      ]
     },
     "execution_count": 10,
     "metadata": {},
     "output_type": "execute_result"
    }
   ],
   "source": [
    "oss.indices.delete(index=index, ignore=[400, 404])"
   ]
  },
  {
   "cell_type": "code",
   "execution_count": 11,
   "id": "063449be-34d3-4bce-9ce8-6e4c87e7cc77",
   "metadata": {},
   "outputs": [
    {
     "data": {
      "text/html": [
       "<pre style=\"white-space:pre;overflow-x:auto;line-height:normal;font-family:Menlo,'DejaVu Sans Mono',consolas,'Courier New',monospace\"><span style=\"font-weight: bold\">{</span><span style=\"color: #008000; text-decoration-color: #008000\">'acknowledged'</span>: <span style=\"color: #00ff00; text-decoration-color: #00ff00; font-style: italic\">True</span>, <span style=\"color: #008000; text-decoration-color: #008000\">'shards_acknowledged'</span>: <span style=\"color: #00ff00; text-decoration-color: #00ff00; font-style: italic\">True</span>, <span style=\"color: #008000; text-decoration-color: #008000\">'index'</span>: <span style=\"color: #008000; text-decoration-color: #008000\">'forum'</span><span style=\"font-weight: bold\">}</span>\n",
       "</pre>\n"
      ],
      "text/plain": [
       "\u001b[1m{\u001b[0m\u001b[32m'acknowledged'\u001b[0m: \u001b[3;92mTrue\u001b[0m, \u001b[32m'shards_acknowledged'\u001b[0m: \u001b[3;92mTrue\u001b[0m, \u001b[32m'index'\u001b[0m: \u001b[32m'forum'\u001b[0m\u001b[1m}\u001b[0m\n"
      ]
     },
     "metadata": {},
     "output_type": "display_data"
    }
   ],
   "source": [
    "res = oss.indices.create(\n",
    "    index=index,\n",
    "    body={\n",
    "        \"mappings\": {\n",
    "            \"properties\": {\n",
    "                \"title\": {\"type\": \"text\"},\n",
    "                \"body\": {\"type\": \"text\"},\n",
    "                \"create_at\": {\"type\": \"date\"},\n",
    "                \"last_reply_at\": {\"type\": \"date\"},\n",
    "                \"liked\": {\"type\": \"integer\"},\n",
    "            },\n",
    "        },\n",
    "    },\n",
    "    ignore=400,\n",
    ")\n",
    "rprint(res)"
   ]
  },
  {
   "cell_type": "code",
   "execution_count": 16,
   "id": "3cf81bd7-00ed-41bc-a25d-be20b646eca9",
   "metadata": {},
   "outputs": [
    {
     "data": {
      "text/html": [
       "<pre style=\"white-space:pre;overflow-x:auto;line-height:normal;font-family:Menlo,'DejaVu Sans Mono',consolas,'Courier New',monospace\"><span style=\"font-weight: bold\">{</span>\n",
       "    <span style=\"color: #008000; text-decoration-color: #008000\">'_index'</span>: <span style=\"color: #008000; text-decoration-color: #008000\">'forum'</span>,\n",
       "    <span style=\"color: #008000; text-decoration-color: #008000\">'_id'</span>: <span style=\"color: #008000; text-decoration-color: #008000\">'id-1'</span>,\n",
       "    <span style=\"color: #008000; text-decoration-color: #008000\">'_version'</span>: <span style=\"color: #008080; text-decoration-color: #008080; font-weight: bold\">1</span>,\n",
       "    <span style=\"color: #008000; text-decoration-color: #008000\">'result'</span>: <span style=\"color: #008000; text-decoration-color: #008000\">'created'</span>,\n",
       "    <span style=\"color: #008000; text-decoration-color: #008000\">'_shards'</span>: <span style=\"font-weight: bold\">{</span><span style=\"color: #008000; text-decoration-color: #008000\">'total'</span>: <span style=\"color: #008080; text-decoration-color: #008080; font-weight: bold\">2</span>, <span style=\"color: #008000; text-decoration-color: #008000\">'successful'</span>: <span style=\"color: #008080; text-decoration-color: #008080; font-weight: bold\">1</span>, <span style=\"color: #008000; text-decoration-color: #008000\">'failed'</span>: <span style=\"color: #008080; text-decoration-color: #008080; font-weight: bold\">0</span><span style=\"font-weight: bold\">}</span>,\n",
       "    <span style=\"color: #008000; text-decoration-color: #008000\">'_seq_no'</span>: <span style=\"color: #008080; text-decoration-color: #008080; font-weight: bold\">0</span>,\n",
       "    <span style=\"color: #008000; text-decoration-color: #008000\">'_primary_term'</span>: <span style=\"color: #008080; text-decoration-color: #008080; font-weight: bold\">1</span>\n",
       "<span style=\"font-weight: bold\">}</span>\n",
       "</pre>\n"
      ],
      "text/plain": [
       "\u001b[1m{\u001b[0m\n",
       "    \u001b[32m'_index'\u001b[0m: \u001b[32m'forum'\u001b[0m,\n",
       "    \u001b[32m'_id'\u001b[0m: \u001b[32m'id-1'\u001b[0m,\n",
       "    \u001b[32m'_version'\u001b[0m: \u001b[1;36m1\u001b[0m,\n",
       "    \u001b[32m'result'\u001b[0m: \u001b[32m'created'\u001b[0m,\n",
       "    \u001b[32m'_shards'\u001b[0m: \u001b[1m{\u001b[0m\u001b[32m'total'\u001b[0m: \u001b[1;36m2\u001b[0m, \u001b[32m'successful'\u001b[0m: \u001b[1;36m1\u001b[0m, \u001b[32m'failed'\u001b[0m: \u001b[1;36m0\u001b[0m\u001b[1m}\u001b[0m,\n",
       "    \u001b[32m'_seq_no'\u001b[0m: \u001b[1;36m0\u001b[0m,\n",
       "    \u001b[32m'_primary_term'\u001b[0m: \u001b[1;36m1\u001b[0m\n",
       "\u001b[1m}\u001b[0m\n"
      ]
     },
     "metadata": {},
     "output_type": "display_data"
    }
   ],
   "source": [
    "res = oss.index(\n",
    "    index=index,\n",
    "    id=\"id-1\",\n",
    "    body={\n",
    "        \"title\": \"is OpenSearch fast on search?\",\n",
    "        \"body\": \"yes it is really fast, even on Parabytes of documents.\",\n",
    "        \"create_at\": datetime(2023, 7, 15, tzinfo=timezone.utc),\n",
    "        \"last_reply_at\": datetime(2023, 7, 21, tzinfo=timezone.utc),\n",
    "        \"liked\": 20,\n",
    "    },\n",
    ")\n",
    "rprint(res)"
   ]
  },
  {
   "cell_type": "markdown",
   "id": "3a35c301-367f-4ee0-8932-4b320148f6e1",
   "metadata": {},
   "source": [
    "## Search\n",
    "\n",
    "- [Search](https://opensearch.org/docs/latest/search-plugins/index/)\n",
    "- [Query DSL](https://opensearch.org/docs/latest/query-dsl/index/)"
   ]
  },
  {
   "cell_type": "code",
   "execution_count": 20,
   "id": "45de37f4-ac02-4945-963d-3a134b0d06ff",
   "metadata": {},
   "outputs": [
    {
     "data": {
      "text/html": [
       "<pre style=\"white-space:pre;overflow-x:auto;line-height:normal;font-family:Menlo,'DejaVu Sans Mono',consolas,'Courier New',monospace\"><span style=\"font-weight: bold\">{</span>\n",
       "    <span style=\"color: #008000; text-decoration-color: #008000\">'took'</span>: <span style=\"color: #008080; text-decoration-color: #008080; font-weight: bold\">5</span>,\n",
       "    <span style=\"color: #008000; text-decoration-color: #008000\">'timed_out'</span>: <span style=\"color: #ff0000; text-decoration-color: #ff0000; font-style: italic\">False</span>,\n",
       "    <span style=\"color: #008000; text-decoration-color: #008000\">'_shards'</span>: <span style=\"font-weight: bold\">{</span><span style=\"color: #008000; text-decoration-color: #008000\">'total'</span>: <span style=\"color: #008080; text-decoration-color: #008080; font-weight: bold\">1</span>, <span style=\"color: #008000; text-decoration-color: #008000\">'successful'</span>: <span style=\"color: #008080; text-decoration-color: #008080; font-weight: bold\">1</span>, <span style=\"color: #008000; text-decoration-color: #008000\">'skipped'</span>: <span style=\"color: #008080; text-decoration-color: #008080; font-weight: bold\">0</span>, <span style=\"color: #008000; text-decoration-color: #008000\">'failed'</span>: <span style=\"color: #008080; text-decoration-color: #008080; font-weight: bold\">0</span><span style=\"font-weight: bold\">}</span>,\n",
       "    <span style=\"color: #008000; text-decoration-color: #008000\">'hits'</span>: <span style=\"font-weight: bold\">{</span>\n",
       "        <span style=\"color: #008000; text-decoration-color: #008000\">'total'</span>: <span style=\"font-weight: bold\">{</span><span style=\"color: #008000; text-decoration-color: #008000\">'value'</span>: <span style=\"color: #008080; text-decoration-color: #008080; font-weight: bold\">1</span>, <span style=\"color: #008000; text-decoration-color: #008000\">'relation'</span>: <span style=\"color: #008000; text-decoration-color: #008000\">'eq'</span><span style=\"font-weight: bold\">}</span>,\n",
       "        <span style=\"color: #008000; text-decoration-color: #008000\">'max_score'</span>: <span style=\"color: #008080; text-decoration-color: #008080; font-weight: bold\">0.2876821</span>,\n",
       "        <span style=\"color: #008000; text-decoration-color: #008000\">'hits'</span>: <span style=\"font-weight: bold\">[</span>\n",
       "            <span style=\"font-weight: bold\">{</span>\n",
       "                <span style=\"color: #008000; text-decoration-color: #008000\">'_index'</span>: <span style=\"color: #008000; text-decoration-color: #008000\">'forum'</span>,\n",
       "                <span style=\"color: #008000; text-decoration-color: #008000\">'_id'</span>: <span style=\"color: #008000; text-decoration-color: #008000\">'id-1'</span>,\n",
       "                <span style=\"color: #008000; text-decoration-color: #008000\">'_score'</span>: <span style=\"color: #008080; text-decoration-color: #008080; font-weight: bold\">0.2876821</span>,\n",
       "                <span style=\"color: #008000; text-decoration-color: #008000\">'_source'</span>: <span style=\"font-weight: bold\">{</span>\n",
       "                    <span style=\"color: #008000; text-decoration-color: #008000\">'title'</span>: <span style=\"color: #008000; text-decoration-color: #008000\">'is OpenSearch fast on search?'</span>,\n",
       "                    <span style=\"color: #008000; text-decoration-color: #008000\">'body'</span>: <span style=\"color: #008000; text-decoration-color: #008000\">'yes it is really fast, even on Parabytes of documents.'</span>,\n",
       "                    <span style=\"color: #008000; text-decoration-color: #008000\">'create_at'</span>: <span style=\"color: #008000; text-decoration-color: #008000\">'2023-07-15T00:00:00+00:00'</span>,\n",
       "                    <span style=\"color: #008000; text-decoration-color: #008000\">'last_reply_at'</span>: <span style=\"color: #008000; text-decoration-color: #008000\">'2023-07-21T00:00:00+00:00'</span>,\n",
       "                    <span style=\"color: #008000; text-decoration-color: #008000\">'liked'</span>: <span style=\"color: #008080; text-decoration-color: #008080; font-weight: bold\">20</span>\n",
       "                <span style=\"font-weight: bold\">}</span>\n",
       "            <span style=\"font-weight: bold\">}</span>\n",
       "        <span style=\"font-weight: bold\">]</span>\n",
       "    <span style=\"font-weight: bold\">}</span>\n",
       "<span style=\"font-weight: bold\">}</span>\n",
       "</pre>\n"
      ],
      "text/plain": [
       "\u001b[1m{\u001b[0m\n",
       "    \u001b[32m'took'\u001b[0m: \u001b[1;36m5\u001b[0m,\n",
       "    \u001b[32m'timed_out'\u001b[0m: \u001b[3;91mFalse\u001b[0m,\n",
       "    \u001b[32m'_shards'\u001b[0m: \u001b[1m{\u001b[0m\u001b[32m'total'\u001b[0m: \u001b[1;36m1\u001b[0m, \u001b[32m'successful'\u001b[0m: \u001b[1;36m1\u001b[0m, \u001b[32m'skipped'\u001b[0m: \u001b[1;36m0\u001b[0m, \u001b[32m'failed'\u001b[0m: \u001b[1;36m0\u001b[0m\u001b[1m}\u001b[0m,\n",
       "    \u001b[32m'hits'\u001b[0m: \u001b[1m{\u001b[0m\n",
       "        \u001b[32m'total'\u001b[0m: \u001b[1m{\u001b[0m\u001b[32m'value'\u001b[0m: \u001b[1;36m1\u001b[0m, \u001b[32m'relation'\u001b[0m: \u001b[32m'eq'\u001b[0m\u001b[1m}\u001b[0m,\n",
       "        \u001b[32m'max_score'\u001b[0m: \u001b[1;36m0.2876821\u001b[0m,\n",
       "        \u001b[32m'hits'\u001b[0m: \u001b[1m[\u001b[0m\n",
       "            \u001b[1m{\u001b[0m\n",
       "                \u001b[32m'_index'\u001b[0m: \u001b[32m'forum'\u001b[0m,\n",
       "                \u001b[32m'_id'\u001b[0m: \u001b[32m'id-1'\u001b[0m,\n",
       "                \u001b[32m'_score'\u001b[0m: \u001b[1;36m0.2876821\u001b[0m,\n",
       "                \u001b[32m'_source'\u001b[0m: \u001b[1m{\u001b[0m\n",
       "                    \u001b[32m'title'\u001b[0m: \u001b[32m'is OpenSearch fast on search?'\u001b[0m,\n",
       "                    \u001b[32m'body'\u001b[0m: \u001b[32m'yes it is really fast, even on Parabytes of documents.'\u001b[0m,\n",
       "                    \u001b[32m'create_at'\u001b[0m: \u001b[32m'2023-07-15T00:00:00+00:00'\u001b[0m,\n",
       "                    \u001b[32m'last_reply_at'\u001b[0m: \u001b[32m'2023-07-21T00:00:00+00:00'\u001b[0m,\n",
       "                    \u001b[32m'liked'\u001b[0m: \u001b[1;36m20\u001b[0m\n",
       "                \u001b[1m}\u001b[0m\n",
       "            \u001b[1m}\u001b[0m\n",
       "        \u001b[1m]\u001b[0m\n",
       "    \u001b[1m}\u001b[0m\n",
       "\u001b[1m}\u001b[0m\n"
      ]
     },
     "metadata": {},
     "output_type": "display_data"
    }
   ],
   "source": [
    "query = {\n",
    "    \"query\": {\n",
    "        \"match\": {\"title\": \"opensearch\"}\n",
    "    }\n",
    "}\n",
    "res = oss.search(\n",
    "    index=index,\n",
    "    body=query,\n",
    ")\n",
    "rprint(res)"
   ]
  },
  {
   "cell_type": "code",
   "execution_count": 18,
   "id": "906c5c9b-d3bf-4600-b932-737fcbb5f94a",
   "metadata": {},
   "outputs": [
    {
     "data": {
      "text/html": [
       "<pre style=\"white-space:pre;overflow-x:auto;line-height:normal;font-family:Menlo,'DejaVu Sans Mono',consolas,'Courier New',monospace\"><span style=\"font-weight: bold\">{</span>\n",
       "    <span style=\"color: #008000; text-decoration-color: #008000\">'took'</span>: <span style=\"color: #008080; text-decoration-color: #008080; font-weight: bold\">1</span>,\n",
       "    <span style=\"color: #008000; text-decoration-color: #008000\">'timed_out'</span>: <span style=\"color: #ff0000; text-decoration-color: #ff0000; font-style: italic\">False</span>,\n",
       "    <span style=\"color: #008000; text-decoration-color: #008000\">'_shards'</span>: <span style=\"font-weight: bold\">{</span><span style=\"color: #008000; text-decoration-color: #008000\">'total'</span>: <span style=\"color: #008080; text-decoration-color: #008080; font-weight: bold\">1</span>, <span style=\"color: #008000; text-decoration-color: #008000\">'successful'</span>: <span style=\"color: #008080; text-decoration-color: #008080; font-weight: bold\">1</span>, <span style=\"color: #008000; text-decoration-color: #008000\">'skipped'</span>: <span style=\"color: #008080; text-decoration-color: #008080; font-weight: bold\">0</span>, <span style=\"color: #008000; text-decoration-color: #008000\">'failed'</span>: <span style=\"color: #008080; text-decoration-color: #008080; font-weight: bold\">0</span><span style=\"font-weight: bold\">}</span>,\n",
       "    <span style=\"color: #008000; text-decoration-color: #008000\">'hits'</span>: <span style=\"font-weight: bold\">{</span><span style=\"color: #008000; text-decoration-color: #008000\">'total'</span>: <span style=\"font-weight: bold\">{</span><span style=\"color: #008000; text-decoration-color: #008000\">'value'</span>: <span style=\"color: #008080; text-decoration-color: #008080; font-weight: bold\">0</span>, <span style=\"color: #008000; text-decoration-color: #008000\">'relation'</span>: <span style=\"color: #008000; text-decoration-color: #008000\">'eq'</span><span style=\"font-weight: bold\">}</span>, <span style=\"color: #008000; text-decoration-color: #008000\">'max_score'</span>: <span style=\"color: #800080; text-decoration-color: #800080; font-style: italic\">None</span>, <span style=\"color: #008000; text-decoration-color: #008000\">'hits'</span>: <span style=\"font-weight: bold\">[]}</span>\n",
       "<span style=\"font-weight: bold\">}</span>\n",
       "</pre>\n"
      ],
      "text/plain": [
       "\u001b[1m{\u001b[0m\n",
       "    \u001b[32m'took'\u001b[0m: \u001b[1;36m1\u001b[0m,\n",
       "    \u001b[32m'timed_out'\u001b[0m: \u001b[3;91mFalse\u001b[0m,\n",
       "    \u001b[32m'_shards'\u001b[0m: \u001b[1m{\u001b[0m\u001b[32m'total'\u001b[0m: \u001b[1;36m1\u001b[0m, \u001b[32m'successful'\u001b[0m: \u001b[1;36m1\u001b[0m, \u001b[32m'skipped'\u001b[0m: \u001b[1;36m0\u001b[0m, \u001b[32m'failed'\u001b[0m: \u001b[1;36m0\u001b[0m\u001b[1m}\u001b[0m,\n",
       "    \u001b[32m'hits'\u001b[0m: \u001b[1m{\u001b[0m\u001b[32m'total'\u001b[0m: \u001b[1m{\u001b[0m\u001b[32m'value'\u001b[0m: \u001b[1;36m0\u001b[0m, \u001b[32m'relation'\u001b[0m: \u001b[32m'eq'\u001b[0m\u001b[1m}\u001b[0m, \u001b[32m'max_score'\u001b[0m: \u001b[3;35mNone\u001b[0m, \u001b[32m'hits'\u001b[0m: \u001b[1m[\u001b[0m\u001b[1m]\u001b[0m\u001b[1m}\u001b[0m\n",
       "\u001b[1m}\u001b[0m\n"
      ]
     },
     "metadata": {},
     "output_type": "display_data"
    }
   ],
   "source": [
    "query = {\n",
    "    \"query\": {\n",
    "        \"match\": {\"title\": \"unknown\"}\n",
    "    }\n",
    "}\n",
    "res = oss.search(\n",
    "    index=index,\n",
    "    body=query,\n",
    ")\n",
    "rprint(res)"
   ]
  },
  {
   "cell_type": "code",
   "execution_count": 19,
   "id": "4495e043-4517-4685-b83f-749c8d32950e",
   "metadata": {},
   "outputs": [
    {
     "data": {
      "text/html": [
       "<pre style=\"white-space:pre;overflow-x:auto;line-height:normal;font-family:Menlo,'DejaVu Sans Mono',consolas,'Courier New',monospace\"><span style=\"font-weight: bold\">{</span>\n",
       "    <span style=\"color: #008000; text-decoration-color: #008000\">'took'</span>: <span style=\"color: #008080; text-decoration-color: #008080; font-weight: bold\">1</span>,\n",
       "    <span style=\"color: #008000; text-decoration-color: #008000\">'timed_out'</span>: <span style=\"color: #ff0000; text-decoration-color: #ff0000; font-style: italic\">False</span>,\n",
       "    <span style=\"color: #008000; text-decoration-color: #008000\">'_shards'</span>: <span style=\"font-weight: bold\">{</span><span style=\"color: #008000; text-decoration-color: #008000\">'total'</span>: <span style=\"color: #008080; text-decoration-color: #008080; font-weight: bold\">1</span>, <span style=\"color: #008000; text-decoration-color: #008000\">'successful'</span>: <span style=\"color: #008080; text-decoration-color: #008080; font-weight: bold\">1</span>, <span style=\"color: #008000; text-decoration-color: #008000\">'skipped'</span>: <span style=\"color: #008080; text-decoration-color: #008080; font-weight: bold\">0</span>, <span style=\"color: #008000; text-decoration-color: #008000\">'failed'</span>: <span style=\"color: #008080; text-decoration-color: #008080; font-weight: bold\">0</span><span style=\"font-weight: bold\">}</span>,\n",
       "    <span style=\"color: #008000; text-decoration-color: #008000\">'hits'</span>: <span style=\"font-weight: bold\">{</span><span style=\"color: #008000; text-decoration-color: #008000\">'total'</span>: <span style=\"font-weight: bold\">{</span><span style=\"color: #008000; text-decoration-color: #008000\">'value'</span>: <span style=\"color: #008080; text-decoration-color: #008080; font-weight: bold\">0</span>, <span style=\"color: #008000; text-decoration-color: #008000\">'relation'</span>: <span style=\"color: #008000; text-decoration-color: #008000\">'eq'</span><span style=\"font-weight: bold\">}</span>, <span style=\"color: #008000; text-decoration-color: #008000\">'max_score'</span>: <span style=\"color: #800080; text-decoration-color: #800080; font-style: italic\">None</span>, <span style=\"color: #008000; text-decoration-color: #008000\">'hits'</span>: <span style=\"font-weight: bold\">[]}</span>\n",
       "<span style=\"font-weight: bold\">}</span>\n",
       "</pre>\n"
      ],
      "text/plain": [
       "\u001b[1m{\u001b[0m\n",
       "    \u001b[32m'took'\u001b[0m: \u001b[1;36m1\u001b[0m,\n",
       "    \u001b[32m'timed_out'\u001b[0m: \u001b[3;91mFalse\u001b[0m,\n",
       "    \u001b[32m'_shards'\u001b[0m: \u001b[1m{\u001b[0m\u001b[32m'total'\u001b[0m: \u001b[1;36m1\u001b[0m, \u001b[32m'successful'\u001b[0m: \u001b[1;36m1\u001b[0m, \u001b[32m'skipped'\u001b[0m: \u001b[1;36m0\u001b[0m, \u001b[32m'failed'\u001b[0m: \u001b[1;36m0\u001b[0m\u001b[1m}\u001b[0m,\n",
       "    \u001b[32m'hits'\u001b[0m: \u001b[1m{\u001b[0m\u001b[32m'total'\u001b[0m: \u001b[1m{\u001b[0m\u001b[32m'value'\u001b[0m: \u001b[1;36m0\u001b[0m, \u001b[32m'relation'\u001b[0m: \u001b[32m'eq'\u001b[0m\u001b[1m}\u001b[0m, \u001b[32m'max_score'\u001b[0m: \u001b[3;35mNone\u001b[0m, \u001b[32m'hits'\u001b[0m: \u001b[1m[\u001b[0m\u001b[1m]\u001b[0m\u001b[1m}\u001b[0m\n",
       "\u001b[1m}\u001b[0m\n"
      ]
     },
     "metadata": {},
     "output_type": "display_data"
    }
   ],
   "source": [
    "query = {\n",
    "    \"query\": {\n",
    "        \"match\": {\"title\": \"opansearch\"}\n",
    "    }\n",
    "}\n",
    "res = oss.search(\n",
    "    index=index,\n",
    "    body=query,\n",
    ")\n",
    "rprint(res)"
   ]
  },
  {
   "cell_type": "code",
   "execution_count": 22,
   "id": "44a5c6c7-4e3b-4452-a82b-588f0fa55d20",
   "metadata": {},
   "outputs": [
    {
     "data": {
      "text/html": [
       "<pre style=\"white-space:pre;overflow-x:auto;line-height:normal;font-family:Menlo,'DejaVu Sans Mono',consolas,'Courier New',monospace\"><span style=\"font-weight: bold\">{</span>\n",
       "    <span style=\"color: #008000; text-decoration-color: #008000\">'took'</span>: <span style=\"color: #008080; text-decoration-color: #008080; font-weight: bold\">16</span>,\n",
       "    <span style=\"color: #008000; text-decoration-color: #008000\">'timed_out'</span>: <span style=\"color: #ff0000; text-decoration-color: #ff0000; font-style: italic\">False</span>,\n",
       "    <span style=\"color: #008000; text-decoration-color: #008000\">'_shards'</span>: <span style=\"font-weight: bold\">{</span><span style=\"color: #008000; text-decoration-color: #008000\">'total'</span>: <span style=\"color: #008080; text-decoration-color: #008080; font-weight: bold\">1</span>, <span style=\"color: #008000; text-decoration-color: #008000\">'successful'</span>: <span style=\"color: #008080; text-decoration-color: #008080; font-weight: bold\">1</span>, <span style=\"color: #008000; text-decoration-color: #008000\">'skipped'</span>: <span style=\"color: #008080; text-decoration-color: #008080; font-weight: bold\">0</span>, <span style=\"color: #008000; text-decoration-color: #008000\">'failed'</span>: <span style=\"color: #008080; text-decoration-color: #008080; font-weight: bold\">0</span><span style=\"font-weight: bold\">}</span>,\n",
       "    <span style=\"color: #008000; text-decoration-color: #008000\">'hits'</span>: <span style=\"font-weight: bold\">{</span>\n",
       "        <span style=\"color: #008000; text-decoration-color: #008000\">'total'</span>: <span style=\"font-weight: bold\">{</span><span style=\"color: #008000; text-decoration-color: #008000\">'value'</span>: <span style=\"color: #008080; text-decoration-color: #008080; font-weight: bold\">1</span>, <span style=\"color: #008000; text-decoration-color: #008000\">'relation'</span>: <span style=\"color: #008000; text-decoration-color: #008000\">'eq'</span><span style=\"font-weight: bold\">}</span>,\n",
       "        <span style=\"color: #008000; text-decoration-color: #008000\">'max_score'</span>: <span style=\"color: #008080; text-decoration-color: #008080; font-weight: bold\">0.25891387</span>,\n",
       "        <span style=\"color: #008000; text-decoration-color: #008000\">'hits'</span>: <span style=\"font-weight: bold\">[</span>\n",
       "            <span style=\"font-weight: bold\">{</span>\n",
       "                <span style=\"color: #008000; text-decoration-color: #008000\">'_index'</span>: <span style=\"color: #008000; text-decoration-color: #008000\">'forum'</span>,\n",
       "                <span style=\"color: #008000; text-decoration-color: #008000\">'_id'</span>: <span style=\"color: #008000; text-decoration-color: #008000\">'id-1'</span>,\n",
       "                <span style=\"color: #008000; text-decoration-color: #008000\">'_score'</span>: <span style=\"color: #008080; text-decoration-color: #008080; font-weight: bold\">0.25891387</span>,\n",
       "                <span style=\"color: #008000; text-decoration-color: #008000\">'_source'</span>: <span style=\"font-weight: bold\">{</span>\n",
       "                    <span style=\"color: #008000; text-decoration-color: #008000\">'title'</span>: <span style=\"color: #008000; text-decoration-color: #008000\">'is OpenSearch fast on search?'</span>,\n",
       "                    <span style=\"color: #008000; text-decoration-color: #008000\">'body'</span>: <span style=\"color: #008000; text-decoration-color: #008000\">'yes it is really fast, even on Parabytes of documents.'</span>,\n",
       "                    <span style=\"color: #008000; text-decoration-color: #008000\">'create_at'</span>: <span style=\"color: #008000; text-decoration-color: #008000\">'2023-07-15T00:00:00+00:00'</span>,\n",
       "                    <span style=\"color: #008000; text-decoration-color: #008000\">'last_reply_at'</span>: <span style=\"color: #008000; text-decoration-color: #008000\">'2023-07-21T00:00:00+00:00'</span>,\n",
       "                    <span style=\"color: #008000; text-decoration-color: #008000\">'liked'</span>: <span style=\"color: #008080; text-decoration-color: #008080; font-weight: bold\">20</span>\n",
       "                <span style=\"font-weight: bold\">}</span>\n",
       "            <span style=\"font-weight: bold\">}</span>\n",
       "        <span style=\"font-weight: bold\">]</span>\n",
       "    <span style=\"font-weight: bold\">}</span>\n",
       "<span style=\"font-weight: bold\">}</span>\n",
       "</pre>\n"
      ],
      "text/plain": [
       "\u001b[1m{\u001b[0m\n",
       "    \u001b[32m'took'\u001b[0m: \u001b[1;36m16\u001b[0m,\n",
       "    \u001b[32m'timed_out'\u001b[0m: \u001b[3;91mFalse\u001b[0m,\n",
       "    \u001b[32m'_shards'\u001b[0m: \u001b[1m{\u001b[0m\u001b[32m'total'\u001b[0m: \u001b[1;36m1\u001b[0m, \u001b[32m'successful'\u001b[0m: \u001b[1;36m1\u001b[0m, \u001b[32m'skipped'\u001b[0m: \u001b[1;36m0\u001b[0m, \u001b[32m'failed'\u001b[0m: \u001b[1;36m0\u001b[0m\u001b[1m}\u001b[0m,\n",
       "    \u001b[32m'hits'\u001b[0m: \u001b[1m{\u001b[0m\n",
       "        \u001b[32m'total'\u001b[0m: \u001b[1m{\u001b[0m\u001b[32m'value'\u001b[0m: \u001b[1;36m1\u001b[0m, \u001b[32m'relation'\u001b[0m: \u001b[32m'eq'\u001b[0m\u001b[1m}\u001b[0m,\n",
       "        \u001b[32m'max_score'\u001b[0m: \u001b[1;36m0.25891387\u001b[0m,\n",
       "        \u001b[32m'hits'\u001b[0m: \u001b[1m[\u001b[0m\n",
       "            \u001b[1m{\u001b[0m\n",
       "                \u001b[32m'_index'\u001b[0m: \u001b[32m'forum'\u001b[0m,\n",
       "                \u001b[32m'_id'\u001b[0m: \u001b[32m'id-1'\u001b[0m,\n",
       "                \u001b[32m'_score'\u001b[0m: \u001b[1;36m0.25891387\u001b[0m,\n",
       "                \u001b[32m'_source'\u001b[0m: \u001b[1m{\u001b[0m\n",
       "                    \u001b[32m'title'\u001b[0m: \u001b[32m'is OpenSearch fast on search?'\u001b[0m,\n",
       "                    \u001b[32m'body'\u001b[0m: \u001b[32m'yes it is really fast, even on Parabytes of documents.'\u001b[0m,\n",
       "                    \u001b[32m'create_at'\u001b[0m: \u001b[32m'2023-07-15T00:00:00+00:00'\u001b[0m,\n",
       "                    \u001b[32m'last_reply_at'\u001b[0m: \u001b[32m'2023-07-21T00:00:00+00:00'\u001b[0m,\n",
       "                    \u001b[32m'liked'\u001b[0m: \u001b[1;36m20\u001b[0m\n",
       "                \u001b[1m}\u001b[0m\n",
       "            \u001b[1m}\u001b[0m\n",
       "        \u001b[1m]\u001b[0m\n",
       "    \u001b[1m}\u001b[0m\n",
       "\u001b[1m}\u001b[0m\n"
      ]
     },
     "metadata": {},
     "output_type": "display_data"
    }
   ],
   "source": [
    "query = {\n",
    "    \"query\": {\n",
    "        \"match\": {\n",
    "            \"title\": {\n",
    "                \"query\": \"opansearch\",\n",
    "                \"fuzziness\": \"AUTO\",\n",
    "            }\n",
    "        }\n",
    "    }\n",
    "}\n",
    "res = oss.search(\n",
    "    index=index,\n",
    "    body=query,\n",
    ")\n",
    "rprint(res)"
   ]
  },
  {
   "cell_type": "code",
   "execution_count": 24,
   "id": "9a075d7c-44e4-4d48-8e7e-0e1fb8bf2571",
   "metadata": {},
   "outputs": [
    {
     "data": {
      "text/html": [
       "<pre style=\"white-space:pre;overflow-x:auto;line-height:normal;font-family:Menlo,'DejaVu Sans Mono',consolas,'Courier New',monospace\"><span style=\"font-weight: bold\">{</span>\n",
       "    <span style=\"color: #008000; text-decoration-color: #008000\">'took'</span>: <span style=\"color: #008080; text-decoration-color: #008080; font-weight: bold\">3</span>,\n",
       "    <span style=\"color: #008000; text-decoration-color: #008000\">'timed_out'</span>: <span style=\"color: #ff0000; text-decoration-color: #ff0000; font-style: italic\">False</span>,\n",
       "    <span style=\"color: #008000; text-decoration-color: #008000\">'_shards'</span>: <span style=\"font-weight: bold\">{</span><span style=\"color: #008000; text-decoration-color: #008000\">'total'</span>: <span style=\"color: #008080; text-decoration-color: #008080; font-weight: bold\">1</span>, <span style=\"color: #008000; text-decoration-color: #008000\">'successful'</span>: <span style=\"color: #008080; text-decoration-color: #008080; font-weight: bold\">1</span>, <span style=\"color: #008000; text-decoration-color: #008000\">'skipped'</span>: <span style=\"color: #008080; text-decoration-color: #008080; font-weight: bold\">0</span>, <span style=\"color: #008000; text-decoration-color: #008000\">'failed'</span>: <span style=\"color: #008080; text-decoration-color: #008080; font-weight: bold\">0</span><span style=\"font-weight: bold\">}</span>,\n",
       "    <span style=\"color: #008000; text-decoration-color: #008000\">'hits'</span>: <span style=\"font-weight: bold\">{</span><span style=\"color: #008000; text-decoration-color: #008000\">'total'</span>: <span style=\"font-weight: bold\">{</span><span style=\"color: #008000; text-decoration-color: #008000\">'value'</span>: <span style=\"color: #008080; text-decoration-color: #008080; font-weight: bold\">0</span>, <span style=\"color: #008000; text-decoration-color: #008000\">'relation'</span>: <span style=\"color: #008000; text-decoration-color: #008000\">'eq'</span><span style=\"font-weight: bold\">}</span>, <span style=\"color: #008000; text-decoration-color: #008000\">'max_score'</span>: <span style=\"color: #800080; text-decoration-color: #800080; font-style: italic\">None</span>, <span style=\"color: #008000; text-decoration-color: #008000\">'hits'</span>: <span style=\"font-weight: bold\">[]}</span>\n",
       "<span style=\"font-weight: bold\">}</span>\n",
       "</pre>\n"
      ],
      "text/plain": [
       "\u001b[1m{\u001b[0m\n",
       "    \u001b[32m'took'\u001b[0m: \u001b[1;36m3\u001b[0m,\n",
       "    \u001b[32m'timed_out'\u001b[0m: \u001b[3;91mFalse\u001b[0m,\n",
       "    \u001b[32m'_shards'\u001b[0m: \u001b[1m{\u001b[0m\u001b[32m'total'\u001b[0m: \u001b[1;36m1\u001b[0m, \u001b[32m'successful'\u001b[0m: \u001b[1;36m1\u001b[0m, \u001b[32m'skipped'\u001b[0m: \u001b[1;36m0\u001b[0m, \u001b[32m'failed'\u001b[0m: \u001b[1;36m0\u001b[0m\u001b[1m}\u001b[0m,\n",
       "    \u001b[32m'hits'\u001b[0m: \u001b[1m{\u001b[0m\u001b[32m'total'\u001b[0m: \u001b[1m{\u001b[0m\u001b[32m'value'\u001b[0m: \u001b[1;36m0\u001b[0m, \u001b[32m'relation'\u001b[0m: \u001b[32m'eq'\u001b[0m\u001b[1m}\u001b[0m, \u001b[32m'max_score'\u001b[0m: \u001b[3;35mNone\u001b[0m, \u001b[32m'hits'\u001b[0m: \u001b[1m[\u001b[0m\u001b[1m]\u001b[0m\u001b[1m}\u001b[0m\n",
       "\u001b[1m}\u001b[0m\n"
      ]
     },
     "metadata": {},
     "output_type": "display_data"
    }
   ],
   "source": [
    "query = {\n",
    "    \"query\": {\n",
    "        \"term\": {\n",
    "            \"title\": \"is OpenSearch fast on search?\"\n",
    "        }\n",
    "    }\n",
    "}\n",
    "res = oss.search(\n",
    "    index=index,\n",
    "    body=query,\n",
    ")\n",
    "rprint(res)"
   ]
  },
  {
   "cell_type": "code",
   "execution_count": null,
   "id": "c6b3d365-8bca-4d32-9fe8-b57efc83bd96",
   "metadata": {},
   "outputs": [],
   "source": []
  }
 ],
 "metadata": {
  "kernelspec": {
   "display_name": "Python 3 (ipykernel)",
   "language": "python",
   "name": "python3"
  },
  "language_info": {
   "codemirror_mode": {
    "name": "ipython",
    "version": 3
   },
   "file_extension": ".py",
   "mimetype": "text/x-python",
   "name": "python",
   "nbconvert_exporter": "python",
   "pygments_lexer": "ipython3",
   "version": "3.10.10"
  }
 },
 "nbformat": 4,
 "nbformat_minor": 5
}
