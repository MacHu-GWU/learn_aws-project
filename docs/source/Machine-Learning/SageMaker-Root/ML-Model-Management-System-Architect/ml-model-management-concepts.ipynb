{
 "cells": [
  {
   "cell_type": "markdown",
   "id": "84cd36ed-902a-491e-bd7d-b7f38ce0888a",
   "metadata": {},
   "source": [
    "# ML Model Management Concepts"
   ]
  },
  {
   "cell_type": "code",
   "execution_count": null,
   "id": "0432970b-c5bb-448d-9ce1-dfd529573f85",
   "metadata": {},
   "outputs": [],
   "source": [
    "import typing as T\n",
    "\n",
    "class ModelAsset\n",
    "\n",
    "\n",
    "class ModelArtifact:\n",
    "    pass"
   ]
  }
 ],
 "metadata": {
  "kernelspec": {
   "display_name": "Python 3 (ipykernel)",
   "language": "python",
   "name": "python3"
  },
  "language_info": {
   "codemirror_mode": {
    "name": "ipython",
    "version": 3
   },
   "file_extension": ".py",
   "mimetype": "text/x-python",
   "name": "python",
   "nbconvert_exporter": "python",
   "pygments_lexer": "ipython3",
   "version": "3.10.10"
  }
 },
 "nbformat": 4,
 "nbformat_minor": 5
}
