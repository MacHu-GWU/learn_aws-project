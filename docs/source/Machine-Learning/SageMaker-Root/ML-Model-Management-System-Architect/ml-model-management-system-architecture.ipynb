{
 "cells": [
  {
   "cell_type": "markdown",
   "id": "28cb3884-7d4f-4b9d-9df4-bec08a0e3eec",
   "metadata": {
    "pycharm": {
     "name": "#%% md\n"
    }
   },
   "source": [
    "# ML Model Management System Architecture\n",
    "\n",
    "Line of Business."
   ]
  },
  {
   "cell_type": "code",
   "execution_count": 22,
   "id": "e9c5cb9e-e636-4b5f-aa58-f1abb100357f",
   "metadata": {
    "pycharm": {
     "name": "#%%\n"
    }
   },
   "outputs": [],
   "source": [
    "# standard library\n",
    "import typing as T\n",
    "import dataclasses\n",
    "\n",
    "# third party library\n",
    "import moto\n",
    "import pynamodb_mate as pm\n",
    "import versioned.api as versioned\n",
    "from s3pathlib import S3Path, context\n",
    "from boto_session_manager import BotoSesManager\n",
    "from rich import print as rprint"
   ]
  },
  {
   "cell_type": "markdown",
   "id": "2aa70706-6db2-48aa-ba1a-d1536a7504a1",
   "metadata": {
    "pycharm": {
     "name": "#%% md\n"
    }
   },
   "source": [
    "full list of supported services: https://docs.getmoto.org/en/latest/docs/services/index.html"
   ]
  },
  {
   "cell_type": "code",
   "execution_count": 11,
   "id": "c282eb58-5f45-47f4-b049-dcd3d489a25a",
   "metadata": {
    "pycharm": {
     "name": "#%%\n"
    }
   },
   "outputs": [],
   "source": [
    "@dataclasses.dataclass\n",
    "class AwsMockManager:\n",
    "    mock_list: list = dataclasses.field()\n",
    "\n",
    "    @classmethod\n",
    "    def new(cls, mock_list: list):\n",
    "        return cls(\n",
    "            mock_list=[\n",
    "                mock_service()\n",
    "                for mock_service in mock_list\n",
    "            ]\n",
    "        )\n",
    "\n",
    "    def mock_start(self):\n",
    "        for mock_service in self.mock_list:\n",
    "            mock_service.start()\n",
    "\n",
    "    def mock_stop(self):\n",
    "        for mock_service in self.mock_list:\n",
    "            mock_service.stop()\n",
    "\n",
    "amm = AwsMockManager.new(\n",
    "    mock_list = [\n",
    "        moto.mock_sts,\n",
    "        moto.mock_s3,\n",
    "        moto.mock_dynamodb,\n",
    "        moto.mock_iam,\n",
    "    ]\n",
    ")"
   ]
  },
  {
   "cell_type": "code",
   "execution_count": 15,
   "id": "ca0afc2e-4624-4953-ba90-cd6eb118132b",
   "metadata": {
    "pycharm": {
     "name": "#%%\n"
    }
   },
   "outputs": [
    {
     "name": "stdout",
     "output_type": "stream",
     "text": [
      "bsm.principal_arn = 'arn:aws:sts::123456789012:user/moto'\n",
      "bsm.aws_account_id = '123456789012'\n"
     ]
    }
   ],
   "source": [
    "amm.mock_start()\n",
    "\n",
    "bsm = BotoSesManager()\n",
    "print(f\"{bsm.principal_arn = }\")\n",
    "print(f\"{bsm.aws_account_id = }\")"
   ]
  },
  {
   "cell_type": "code",
   "execution_count": null,
   "id": "62a9f1b8-055d-4cff-91d9-6b3dd1ca9a95",
   "metadata": {
    "pycharm": {
     "name": "#%%\n"
    }
   },
   "outputs": [],
   "source": [
    "class ModelCatalog(pm.Model):\n",
    "    class Meta:\n",
    "        table_name = \"model-catalog\"\n",
    "        region = \"us-east-1\"\n",
    "        billing_mode = pm.PAY_PER_REQUEST_BILLING_MODE\n",
    "\n",
    "    namespace = pm.UnicodeAttribute(hash_key=True)"
   ]
  },
  {
   "cell_type": "code",
   "execution_count": null,
   "id": "6d73752f-1bd7-4223-bb17-4438c52f8948",
   "metadata": {
    "pycharm": {
     "name": "#%%\n"
    }
   },
   "outputs": [],
   "source": [
    "class ModelRegistry(pm.Model):\n",
    "    class Meta:\n",
    "        table_name = \"model-registry\"\n",
    "        region = \"us-east-1\"\n",
    "        billing_mode = pm.PAY_PER_REQUEST_BILLING_MODE\n",
    "\n",
    "    url = pm.UnicodeAttribute(hash_key=True)"
   ]
  },
  {
   "cell_type": "code",
   "execution_count": null,
   "id": "2da138c4-7564-451c-b4c8-1f3f64701968",
   "metadata": {
    "pycharm": {
     "name": "#%%\n"
    }
   },
   "outputs": [],
   "source": []
  },
  {
   "cell_type": "markdown",
   "id": "a0055522-6e67-4ec8-bad9-1a02aed931c4",
   "metadata": {
    "pycharm": {
     "name": "#%% md\n"
    }
   },
   "source": [
    "## Model Registry - Artifacts Store"
   ]
  },
  {
   "cell_type": "code",
   "execution_count": 18,
   "id": "dafac16a-97b7-4adb-a906-8d332037da26",
   "metadata": {
    "pycharm": {
     "name": "#%%\n"
    }
   },
   "outputs": [],
   "source": [
    "lob_name = \"lob1\"\n",
    "model_name = \"model1\""
   ]
  },
  {
   "cell_type": "code",
   "execution_count": 24,
   "id": "1f34e88b-06a7-4451-8edc-e0fd0a8de0b1",
   "metadata": {
    "pycharm": {
     "name": "#%%\n"
    }
   },
   "outputs": [],
   "source": [
    "repo = versioned.s3_only_backend.Repository(\n",
    "    aws_region=bsm.aws_region,\n",
    "    s3_bucket=f\"{bsm.aws_account_id}-{bsm.aws_region}-artifacts\",\n",
    "    s3_prefix=f\"ml-models/{lob_name}\",\n",
    "    suffix=\".tar.gz\",\n",
    ")\n",
    "repo.bootstrap(bsm=bsm)\n",
    "repo.purge_artifact(bsm=bsm, name=model_name)"
   ]
  },
  {
   "cell_type": "code",
   "execution_count": null,
   "id": "d33f93c7",
   "metadata": {
    "collapsed": false,
    "jupyter": {
     "outputs_hidden": false
    },
    "pycharm": {
     "name": "#%%\n"
    }
   },
   "outputs": [],
   "source": []
  },
  {
   "cell_type": "code",
   "execution_count": null,
   "id": "1f85bbe3",
   "metadata": {
    "collapsed": false,
    "jupyter": {
     "outputs_hidden": false
    },
    "pycharm": {
     "name": "#%%\n"
    }
   },
   "outputs": [],
   "source": [
    "artifact = repo.put_artifact(\n",
    "    bsm=bsm, \n",
    "    name=model_name, \n",
    "    # content can be any binary data, you just need to create a tar file\n",
    "    content=f\"{lob_name = }, {model_name = }, version = v1\".encode(\"utf8\"),\n",
    ")\n",
    "rprint(artifact)\n",
    "print(f\"preview on S3: {artifact.s3path.console_url}\")\n",
    "print(f\"preview artifact content: {artifact.get_content(bsm=bsm)}\")"
   ]
  },
  {
   "cell_type": "code",
   "execution_count": 25,
   "id": "551288f1-73bd-4fc8-91b9-d9b33dc67d25",
   "metadata": {
    "pycharm": {
     "name": "#%%\n"
    }
   },
   "outputs": [
    {
     "data": {
      "text/html": [
       "<pre style=\"white-space:pre;overflow-x:auto;line-height:normal;font-family:Menlo,'DejaVu Sans Mono',consolas,'Courier New',monospace\"><span style=\"color: #800080; text-decoration-color: #800080; font-weight: bold\">Artifact</span><span style=\"font-weight: bold\">(</span>\n",
       "    <span style=\"color: #808000; text-decoration-color: #808000\">name</span>=<span style=\"color: #008000; text-decoration-color: #008000\">'model1'</span>,\n",
       "    <span style=\"color: #808000; text-decoration-color: #808000\">version</span>=<span style=\"color: #008000; text-decoration-color: #008000\">'LATEST'</span>,\n",
       "    <span style=\"color: #808000; text-decoration-color: #808000\">update_at</span>=<span style=\"color: #008000; text-decoration-color: #008000\">'2023-12-21T21:31:46+00:00'</span>,\n",
       "    <span style=\"color: #808000; text-decoration-color: #808000\">s3uri</span>=<span style=\"color: #008000; text-decoration-color: #008000\">'s3://123456789012-us-east-1-artifacts/ml-models/lob1/model1/versions/000000_LATEST.tar.gz'</span>,\n",
       "    <span style=\"color: #808000; text-decoration-color: #808000\">sha256</span>=<span style=\"color: #008000; text-decoration-color: #008000\">'bad4a54d8a97f8dfd50cb79d65b4a2bf35fed453b5d830c295a80927ef2fe5ac'</span>\n",
       "<span style=\"font-weight: bold\">)</span>\n",
       "</pre>\n"
      ],
      "text/plain": [
       "\u001b[1;35mArtifact\u001b[0m\u001b[1m(\u001b[0m\n",
       "    \u001b[33mname\u001b[0m=\u001b[32m'model1'\u001b[0m,\n",
       "    \u001b[33mversion\u001b[0m=\u001b[32m'LATEST'\u001b[0m,\n",
       "    \u001b[33mupdate_at\u001b[0m=\u001b[32m'2023-12-21T21:31:46+00:00'\u001b[0m,\n",
       "    \u001b[33ms3uri\u001b[0m=\u001b[32m's3://123456789012-us-east-1-artifacts/ml-models/lob1/model1/versions/000000_LATEST.tar.gz'\u001b[0m,\n",
       "    \u001b[33msha256\u001b[0m=\u001b[32m'bad4a54d8a97f8dfd50cb79d65b4a2bf35fed453b5d830c295a80927ef2fe5ac'\u001b[0m\n",
       "\u001b[1m)\u001b[0m\n"
      ]
     },
     "metadata": {},
     "output_type": "display_data"
    },
    {
     "name": "stdout",
     "output_type": "stream",
     "text": [
      "preview on S3: https://console.aws.amazon.com/s3/object/123456789012-us-east-1-artifacts?prefix=ml-models/lob1/model1/versions/000000_LATEST.tar.gz\n",
      "preview artifact content: b\"lob_name = 'lob1', model_name = 'model1', version = v1\"\n"
     ]
    }
   ],
   "source": [
    "artifact = repo.put_artifact(\n",
    "    bsm=bsm, \n",
    "    name=model_name, \n",
    "    # content can be any binary data, you just need to create a tar file\n",
    "    content=f\"{lob_name = }, {model_name = }, version = v1\".encode(\"utf8\"),\n",
    ")\n",
    "rprint(artifact)\n",
    "print(f\"preview on S3: {artifact.s3path.console_url}\")\n",
    "print(f\"preview artifact content: {artifact.get_content(bsm=bsm)}\")"
   ]
  },
  {
   "cell_type": "code",
   "execution_count": null,
   "id": "d4b1540f-305f-4753-8dea-354b5359016f",
   "metadata": {
    "pycharm": {
     "name": "#%%\n"
    }
   },
   "outputs": [],
   "source": []
  }
 ],
 "metadata": {
  "kernelspec": {
   "display_name": "Python 3 (ipykernel)",
   "language": "python",
   "name": "python3"
  },
  "language_info": {
   "codemirror_mode": {
    "name": "ipython",
    "version": 3
   },
   "file_extension": ".py",
   "mimetype": "text/x-python",
   "name": "python",
   "nbconvert_exporter": "python",
   "pygments_lexer": "ipython3",
   "version": "3.10.10"
  }
 },
 "nbformat": 4,
 "nbformat_minor": 5
}
